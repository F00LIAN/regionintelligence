{
 "cells": [
  {
   "cell_type": "code",
   "execution_count": 9,
   "metadata": {},
   "outputs": [],
   "source": [
    "import sys\n",
    "sys.path.append('C:/Projects/regionintelligence/map/')\n"
   ]
  },
  {
   "cell_type": "code",
   "execution_count": 10,
   "metadata": {},
   "outputs": [
    {
     "name": "stderr",
     "output_type": "stream",
     "text": [
      "2023-10-28 17:23:36,179 - map data - INFO - Running all scrapers in parallel\n"
     ]
    },
    {
     "name": "stdout",
     "output_type": "stream",
     "text": [
      "Anaheim Done\n",
      "Current Projects | City of Orange, CA\n",
      "Current Projects | City of Garden Grove\n",
      "Development Activity | Fullerton, CA\n",
      "Major planning projects and monthly development reports - City of Santa Ana\n",
      "garden grove done\n",
      "Fullerton Done\n",
      "Downloading data for October 2023...\n",
      "https://storage.googleapis.com/proudcity/santaanaca/uploads/2023/11/October-2023-DP-List.pdf is not available\n",
      "File for September 2023 already exists in local storage.\n",
      "File for August 2023 already exists in local storage.\n",
      "File for July 2023 already exists in local storage.\n",
      "File for June 2023 already exists in local storage.\n",
      "File for May 2023 already exists in local storage.\n",
      "File for May 2023 already exists in local storage.\n",
      "Time to Concatenate and Save\n",
      "Done\n"
     ]
    },
    {
     "name": "stderr",
     "output_type": "stream",
     "text": [
      "2023-10-28 17:25:38,708 - map data - INFO - All scrapers finished\n",
      "2023-10-28 17:25:38,710 - map data - INFO - Running all scrapers in parallel\n"
     ]
    },
    {
     "name": "stdout",
     "output_type": "stream",
     "text": [
      "Anaheim Done\n",
      "Current Projects | City of Orange, CA\n",
      "Major planning projects and monthly development reports - City of Santa Ana\n",
      "Development Activity | Fullerton, CA\n",
      "Current Projects | City of Garden Grove\n",
      "garden grove done\n",
      "Fullerton Done\n",
      "Downloading data for October 2023...\n",
      "https://storage.googleapis.com/proudcity/santaanaca/uploads/2023/11/October-2023-DP-List.pdf is not available\n",
      "File for September 2023 already exists in local storage.\n",
      "File for August 2023 already exists in local storage.\n",
      "File for July 2023 already exists in local storage.\n",
      "File for June 2023 already exists in local storage.\n",
      "File for May 2023 already exists in local storage.\n",
      "File for May 2023 already exists in local storage.\n",
      "Time to Concatenate and Save\n",
      "Done\n"
     ]
    },
    {
     "name": "stderr",
     "output_type": "stream",
     "text": [
      "2023-10-28 17:27:40,170 - map data - INFO - All scrapers finished\n"
     ]
    }
   ],
   "source": [
    "import pandas as pd\n",
    "import numpy as np\n",
    "import plotly.express as px\n",
    "import langchain as lc\n",
    "import openai \n",
    "import os\n",
    "import re\n",
    "import json\n",
    "import time\n",
    "import datetime    \n",
    "from typing import Optional, List\n",
    "from src.paths import PROCESSED_DATA_DIR\n",
    "from scripts.parallel_scraper import run_all_scrapers\n",
    "\n",
    "# Scrape the data\n",
    "def scrape_all_data():\n",
    "    run_all_scrapers()\n",
    "scrape_all_data()"
   ]
  },
  {
   "cell_type": "code",
   "execution_count": null,
   "metadata": {},
   "outputs": [],
   "source": [
    "# Load the data\n",
    "def import_all_data():\n",
    "    "
   ]
  },
  {
   "cell_type": "code",
   "execution_count": null,
   "metadata": {},
   "outputs": [],
   "source": []
  },
  {
   "cell_type": "code",
   "execution_count": null,
   "metadata": {},
   "outputs": [],
   "source": []
  },
  {
   "cell_type": "code",
   "execution_count": null,
   "metadata": {},
   "outputs": [],
   "source": []
  },
  {
   "cell_type": "code",
   "execution_count": null,
   "metadata": {},
   "outputs": [],
   "source": []
  }
 ],
 "metadata": {
  "kernelspec": {
   "display_name": ".venv",
   "language": "python",
   "name": "python3"
  },
  "language_info": {
   "codemirror_mode": {
    "name": "ipython",
    "version": 3
   },
   "file_extension": ".py",
   "mimetype": "text/x-python",
   "name": "python",
   "nbconvert_exporter": "python",
   "pygments_lexer": "ipython3",
   "version": "3.11.4"
  }
 },
 "nbformat": 4,
 "nbformat_minor": 2
}
