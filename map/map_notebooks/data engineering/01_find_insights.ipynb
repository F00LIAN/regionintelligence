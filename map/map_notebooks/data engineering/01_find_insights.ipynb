{
 "cells": [
  {
   "cell_type": "code",
   "execution_count": 1,
   "metadata": {},
   "outputs": [],
   "source": [
    "import sys\n",
    "sys.path.append('C:/Projects/regionintelligence/map/')\n"
   ]
  },
  {
   "cell_type": "code",
   "execution_count": 2,
   "metadata": {},
   "outputs": [
    {
     "name": "stderr",
     "output_type": "stream",
     "text": [
      "2023-11-02 20:23:48,035 - map data - INFO - Running all scrapers in parallel\n",
      "2023-11-02 20:23:48,036 - map data - INFO - Running Anaheim scraper\n",
      "2023-11-02 20:23:48,039 - map data - INFO - Running Orange scraper\n",
      "2023-11-02 20:23:48,039 - map data - INFO - Running Santa Ana scraper\n",
      "2023-11-02 20:23:48,042 - map data - INFO - Running Fullerton scraper\n",
      "2023-11-02 20:23:48,043 - map data - INFO - Running Garden Grove scraper\n",
      "C:\\Projects/regionintelligence/map\\src\\data.py:760: SettingWithCopyWarning: \n",
      "A value is trying to be set on a copy of a slice from a DataFrame\n",
      "\n",
      "See the caveats in the documentation: https://pandas.pydata.org/pandas-docs/stable/user_guide/indexing.html#returning-a-view-versus-a-copy\n",
      "  df.drop(columns=['owner'], inplace=True)\n",
      "2023-11-02 20:23:48,575 - map data - INFO - Anaheim scraper finished\n"
     ]
    },
    {
     "name": "stdout",
     "output_type": "stream",
     "text": [
      "Current Projects | City of Garden Grove\n",
      "Current Projects | City of Orange, CA\n",
      "['Mixed Use Building - Northeast corner of Brookhurst Street and Garden Grove Boulevard', 'Lampson Small Lot Subdivision', 'Industrial Building on Lincoln Way', 'Target Shopping Center Expansion', 'Harbor Place Pad Building', 'Choisser Apartments', 'Site C Hotel', 'Cottage Industries', 'West Grove Center Redevelopment Project', 'Brookhurst Place']\n",
      "Major planning projects and monthly development reports - City of Santa Ana\n",
      "Development Activity | Fullerton, CA\n"
     ]
    },
    {
     "name": "stderr",
     "output_type": "stream",
     "text": [
      "2023-11-02 20:24:05,389 - map data - INFO - Fullerton scraper finished\n",
      "2023-11-02 20:24:22,818 - map data - INFO - Orange scraper finished\n"
     ]
    },
    {
     "name": "stdout",
     "output_type": "stream",
     "text": [
      "Downloading data for November 2023...\n",
      "https://storage.googleapis.com/proudcity/santaanaca/uploads/2023/12/November-2023-DP-List.pdf is not available\n",
      "File for October 2023 already exists in local storage.\n",
      "File for September 2023 already exists in local storage.\n",
      "File for August 2023 already exists in local storage.\n",
      "File for July 2023 already exists in local storage.\n",
      "File for June 2023 already exists in local storage.\n",
      "File for May 2023 already exists in local storage.\n"
     ]
    },
    {
     "name": "stderr",
     "output_type": "stream",
     "text": [
      "2023-11-02 20:26:14,655 - map data - INFO - Concatenating and saving all Santa Ana data\n",
      "2023-11-02 20:26:14,773 - map data - INFO - Santa Ana scraper finished\n",
      "2023-11-02 20:26:16,803 - map data - INFO - All scrapers finished\n"
     ]
    }
   ],
   "source": [
    "import pandas as pd\n",
    "import numpy as np\n",
    "import plotly.express as px\n",
    "import langchain as lc\n",
    "import openai \n",
    "import os\n",
    "import re\n",
    "import json\n",
    "import time\n",
    "import datetime    \n",
    "from typing import Optional, List\n",
    "from src.paths import PROCESSED_DATA_DIR\n",
    "from scripts.parallel_scraper import run_all_scrapers\n",
    "import pandas as pd\n",
    "import os\n",
    "from dotenv import load_dotenv\n",
    "\n",
    "# Scrape the data\n",
    "def scrape_all_data():\n",
    "    run_all_scrapers()\n",
    "scrape_all_data()"
   ]
  },
  {
   "cell_type": "code",
   "execution_count": 3,
   "metadata": {},
   "outputs": [],
   "source": [
    "import pandas as pd\n",
    "from pathlib import Path\n",
    "import re  # Importing the 're' module for regex operations\n",
    "from src.paths import PROCESSED_DATA_DIR, FINAL_DATA_DIR\n",
    "\n",
    "def load_dataframes_from_directory(base_dir_path):\n",
    "    \"\"\"\n",
    "    Load the latest Excel files from subdirectories of the given directory into dataframes.\n",
    "    \"\"\"\n",
    "    base_dir = Path(base_dir_path)\n",
    "    dataframes = {}\n",
    "\n",
    "    for subdir in base_dir.iterdir():\n",
    "        if subdir.is_dir():\n",
    "            latest_file = None\n",
    "            latest_mod_time = 0\n",
    "            \n",
    "            # Find the latest file based on modification time\n",
    "            for file in subdir.iterdir():\n",
    "                if file.suffix == '.xlsx':\n",
    "                    mod_time = file.stat().st_mtime\n",
    "                    if mod_time > latest_mod_time:\n",
    "                        latest_mod_time = mod_time\n",
    "                        latest_file = file\n",
    "\n",
    "            # Load the latest file\n",
    "            if latest_file:\n",
    "                try:\n",
    "                    df = pd.read_excel(latest_file, engine='openpyxl')\n",
    "                    if subdir.name not in dataframes:\n",
    "                        dataframes[subdir.name] = {}\n",
    "                    dataframes[subdir.name][latest_file.stem] = df\n",
    "                except Exception as e:\n",
    "                    print(f\"Error reading {latest_file}: {e}\")\n",
    "    \n",
    "    return dataframes\n",
    "\n",
    "def clean_dataframe(df):\n",
    "    \"\"\"\n",
    "    Clean a dataframe.\n",
    "    \"\"\"\n",
    "    if not isinstance(df, pd.DataFrame):\n",
    "        raise ValueError(\"Expected a DataFrame but received a Series.\")\n",
    "\n",
    "    # Drop \"Unnamed: 0\" column\n",
    "    if \"Unnamed: 0\" in df.columns:\n",
    "        df = df.drop(columns=[\"Unnamed: 0\"])\n",
    "\n",
    "    # Replace every '\\n' with space\n",
    "    df = df.replace('\\n', '', regex=True)\n",
    "\n",
    "    # drop applicant name column\n",
    "    if \"applicantName\" in df.columns:\n",
    "        df = df.drop(columns=[\"applicantName\"])\n",
    "    \n",
    "    # drop codes from projectName column\n",
    "   # if 'projectName' in df.columns:\n",
    "#    df['projectName'] = df['projectName'].str.replace(r'\\[.*?\\] ', '', regex=True)\n",
    "\n",
    "    return df\n",
    "\n",
    "def concatenate_dataframes(dfs_dict):\n",
    "    \"\"\"\n",
    "    Concatenate all dataframes in the dictionary into a single dataframe.\n",
    "    \"\"\"\n",
    "    dfs_list = [df for _, file_dict in dfs_dict.items() for _, df in file_dict.items()]\n",
    "    concatenated_df = pd.concat(dfs_list, axis=0, ignore_index=True)\n",
    "    return concatenated_df\n",
    "\n",
    "def process_pipeline(directory_path):\n",
    "    \"\"\"\n",
    "    Process the data pipeline.\n",
    "    \"\"\"\n",
    "    # Load dataframes from directory\n",
    "    dfs = load_dataframes_from_directory(directory_path)\n",
    "    \n",
    "    cleaned_dfs = []\n",
    "\n",
    "    # Clean each dataframe\n",
    "    for subdir_name, file_dict in dfs.items():\n",
    "        for file_name, df in file_dict.items():\n",
    "            cleaned_df = clean_dataframe(df)\n",
    "            cleaned_dfs.append(cleaned_df)\n",
    "\n",
    "    # Concatenate all cleaned dataframes into a single dataframe\n",
    "    final_df = pd.concat(cleaned_dfs, axis=0, ignore_index=True)  # Using pd.concat directly on the cleaned_dfs list\n",
    "\n",
    "    # Save the final dataframe  \n",
    "    final_df.to_csv(FINAL_DATA_DIR / 'final_dataframe.csv', index=False)\n",
    "    final_df.to_excel(FINAL_DATA_DIR / 'final_dataframe.xlsx', index=False)\n",
    "    return final_df\n",
    "\n",
    "\n",
    "# Execute the pipeline\n",
    "final_dataframe = process_pipeline(PROCESSED_DATA_DIR)\n"
   ]
  },
  {
   "cell_type": "code",
   "execution_count": 4,
   "metadata": {},
   "outputs": [
    {
     "data": {
      "text/plain": [
       "'\\nopenai.api_key = os.getenv(\"OPENAI_API_KEY\")\\n\\n\\nload_dotenv()\\n\\n# Template for the prompt\\nprompt_template = \"{description}. Classify the description if it falls into \\'Commercial\\', \\'Residential\\', \\'Industrial\\', or \\'Mixed Use\\'. Otherwise, label it \\'Other\\'\"\\n\\ndef get_response_from_langchain(description, retries=3, delay=5):\\n    #Use OpenAI\\'s API to fill null values and classify the description to determine the type of use.\\n    for attempt in range(retries):\\n        try:\\n            time.sleep(3)\\n            # Using OpenAI\\'s API to get the response\\n            messages = [{\"role\": \"user\", \"content\": prompt_template.format(description=description)}]\\n            response = openai.ChatCompletion.create(model=\"gpt-3.5-turbo\", messages=messages)\\n            \\n            # Extract the model\\'s message from the returned messages\\n            answer = response[\\'choices\\'][0][\\'message\\'][\\'content\\'].strip()\\n            \\n            # Check if the response starts with \"Other\" and then extract the two-word description\\n            if answer.startswith(\"Other\"):\\n                return answer\\n            \\n            # If the response doesn\\'t start with \"Other\", return just the category\\n            return answer.split()[0]\\n        \\n        except Exception as e:\\n            if attempt < retries - 1:\\n                print(f\"Error: {e}. Retrying in {delay} seconds...\")\\n                time.sleep(delay)  # Wait for a specified delay before retrying\\n            else:\\n                print(f\"Error: {e}. Failed after {retries} attempts.\")\\n                return \"Error\"\\n\\n    return None\\n\\n# Apply only to rows where \\'typeOfUse\\' is NaN\\nmask = final_dataframe[\\'typeOfUse\\'].isna()\\nfinal_dataframe.loc[mask, \\'typeOfUse\\'] = final_dataframe.loc[mask, \\'description\\'].apply(get_response_from_langchain)\\n\\nprint(final_dataframe.typeOfUse.unique())\\n'"
      ]
     },
     "execution_count": 4,
     "metadata": {},
     "output_type": "execute_result"
    }
   ],
   "source": []
  },
  {
   "cell_type": "code",
   "execution_count": 5,
   "metadata": {},
   "outputs": [
    {
     "data": {
      "text/plain": [
       "Index(['address', 'description', 'projectName', 'typeOfUse', 'status',\n",
       "       'recentUpdate', 'email', 'phone', 'city', 'planner'],\n",
       "      dtype='object')"
      ]
     },
     "execution_count": 5,
     "metadata": {},
     "output_type": "execute_result"
    }
   ],
   "source": [
    "final_dataframe.columns"
   ]
  },
  {
   "cell_type": "code",
   "execution_count": 6,
   "metadata": {},
   "outputs": [
    {
     "data": {
      "text/plain": [
       "247"
      ]
     },
     "execution_count": 6,
     "metadata": {},
     "output_type": "execute_result"
    }
   ],
   "source": [
    "final_dataframe.typeOfUse.isna().sum()"
   ]
  },
  {
   "cell_type": "code",
   "execution_count": 24,
   "metadata": {},
   "outputs": [],
   "source": [
    "df = final_dataframe "
   ]
  },
  {
   "cell_type": "markdown",
   "metadata": {},
   "source": []
  },
  {
   "cell_type": "code",
   "execution_count": null,
   "metadata": {},
   "outputs": [],
   "source": [
    "df.to_excel('example.xlsx')"
   ]
  },
  {
   "cell_type": "code",
   "execution_count": 25,
   "metadata": {},
   "outputs": [
    {
     "data": {
      "text/html": [
       "<div>\n",
       "<style scoped>\n",
       "    .dataframe tbody tr th:only-of-type {\n",
       "        vertical-align: middle;\n",
       "    }\n",
       "\n",
       "    .dataframe tbody tr th {\n",
       "        vertical-align: top;\n",
       "    }\n",
       "\n",
       "    .dataframe thead th {\n",
       "        text-align: right;\n",
       "    }\n",
       "</style>\n",
       "<table border=\"1\" class=\"dataframe\">\n",
       "  <thead>\n",
       "    <tr style=\"text-align: right;\">\n",
       "      <th></th>\n",
       "      <th>address</th>\n",
       "      <th>description</th>\n",
       "      <th>projectName</th>\n",
       "      <th>typeOfUse</th>\n",
       "      <th>status</th>\n",
       "      <th>recentUpdate</th>\n",
       "      <th>email</th>\n",
       "      <th>phone</th>\n",
       "      <th>city</th>\n",
       "      <th>planner</th>\n",
       "      <th>explicitUses</th>\n",
       "    </tr>\n",
       "  </thead>\n",
       "  <tbody>\n",
       "    <tr>\n",
       "      <th>0</th>\n",
       "      <td>321 W Katella Ave</td>\n",
       "      <td>The Applicant Proposes Adjustment No. 14 To Th...</td>\n",
       "      <td>[DEV2010-00166J] ANAHEIM GARDENWALK - STC</td>\n",
       "      <td>Other</td>\n",
       "      <td>Withdrawn</td>\n",
       "      <td>12/10/2019</td>\n",
       "      <td>EThien@anaheim.net</td>\n",
       "      <td>(714) 765-4568</td>\n",
       "      <td>Anaheim</td>\n",
       "      <td>Elain Thienprasiddhi</td>\n",
       "      <td>Commercial</td>\n",
       "    </tr>\n",
       "    <tr>\n",
       "      <th>1</th>\n",
       "      <td>500 W Disney Way</td>\n",
       "      <td>Amend The Development Agreement Between The Ci...</td>\n",
       "      <td>[DEV2010-0166I] ANAHEIM GARDENWALK - WESTGATE</td>\n",
       "      <td>Other</td>\n",
       "      <td>In Review</td>\n",
       "      <td>2/14/2019</td>\n",
       "      <td>Planning@anaheim.net</td>\n",
       "      <td>(714) 765-5139</td>\n",
       "      <td>Anaheim</td>\n",
       "      <td>Anaheim Planning Office</td>\n",
       "      <td>Commercial</td>\n",
       "    </tr>\n",
       "    <tr>\n",
       "      <th>2</th>\n",
       "      <td>8163 E Kaiser Blvd</td>\n",
       "      <td>The Applicant Proposes To Amend An Existing Co...</td>\n",
       "      <td>[DEV2013-00024C] INFLUENCE CHURCH</td>\n",
       "      <td>Commercial</td>\n",
       "      <td>Approved</td>\n",
       "      <td>7/29/2020</td>\n",
       "      <td>Planning@anaheim.net</td>\n",
       "      <td>(714) 765-5139</td>\n",
       "      <td>Anaheim</td>\n",
       "      <td>Anaheim Planning Office</td>\n",
       "      <td>Major Residential Project</td>\n",
       "    </tr>\n",
       "    <tr>\n",
       "      <th>3</th>\n",
       "      <td>1700 S Harbor Blvd</td>\n",
       "      <td>A Request To Amend The Development Agreement B...</td>\n",
       "      <td>[DEV2015-00120A] 1700 S. HARBOR HOTEL</td>\n",
       "      <td>Other</td>\n",
       "      <td>Approved</td>\n",
       "      <td>10/2/2019</td>\n",
       "      <td>EThien@anaheim.net</td>\n",
       "      <td>(714) 765-4568</td>\n",
       "      <td>Anaheim</td>\n",
       "      <td>Elain Thienprasiddhi</td>\n",
       "      <td>Commercial</td>\n",
       "    </tr>\n",
       "    <tr>\n",
       "      <th>4</th>\n",
       "      <td>3111 W Orange Ave</td>\n",
       "      <td>Request To Amend A Conditional Use Permit To P...</td>\n",
       "      <td>[DEV2018-00130A] DAYBREAK UNIVERSITY</td>\n",
       "      <td>Commercial</td>\n",
       "      <td>In Review</td>\n",
       "      <td>9/15/2021</td>\n",
       "      <td>TGorham@Anaheim.net</td>\n",
       "      <td>(714) 765-4947</td>\n",
       "      <td>Anaheim</td>\n",
       "      <td>Thomas Gorham</td>\n",
       "      <td>Major Residential Project</td>\n",
       "    </tr>\n",
       "    <tr>\n",
       "      <th>...</th>\n",
       "      <td>...</td>\n",
       "      <td>...</td>\n",
       "      <td>...</td>\n",
       "      <td>...</td>\n",
       "      <td>...</td>\n",
       "      <td>...</td>\n",
       "      <td>...</td>\n",
       "      <td>...</td>\n",
       "      <td>...</td>\n",
       "      <td>...</td>\n",
       "      <td>...</td>\n",
       "    </tr>\n",
       "    <tr>\n",
       "      <th>658</th>\n",
       "      <td>1561 W. Sunflower Avenue (Ward 4)</td>\n",
       "      <td>South Coast Plaza (Applicant &amp; Property Owner)...</td>\n",
       "      <td>The Village Specific Plan</td>\n",
       "      <td>NaN</td>\n",
       "      <td>Development Project Review</td>\n",
       "      <td>Updated: November 1st, 2023</td>\n",
       "      <td>planning@santa-ana.org</td>\n",
       "      <td>(714) 667-2732</td>\n",
       "      <td>Santa Ana</td>\n",
       "      <td>NaN</td>\n",
       "      <td>Commercial</td>\n",
       "    </tr>\n",
       "    <tr>\n",
       "      <th>659</th>\n",
       "      <td>601 N. Fairview Street (Ward 5)</td>\n",
       "      <td>The applicant is proposing to rezone the subje...</td>\n",
       "      <td>Vista Heritage Development Project</td>\n",
       "      <td>NaN</td>\n",
       "      <td>Development Project Review</td>\n",
       "      <td>Updated: October 11th, 2023</td>\n",
       "      <td>FArias@santa-ana.org</td>\n",
       "      <td>(714) 667-2792</td>\n",
       "      <td>Santa Ana</td>\n",
       "      <td>Fernanda Arias — Assistant Planner I</td>\n",
       "      <td>Commercial</td>\n",
       "    </tr>\n",
       "    <tr>\n",
       "      <th>660</th>\n",
       "      <td>2300 S. Red Hill Avenue (Ward 6)</td>\n",
       "      <td>Arrimus Capital, “Applicant”, has submitted an...</td>\n",
       "      <td>Warner Redhill Mixed-Use Development (Formerly...</td>\n",
       "      <td>NaN</td>\n",
       "      <td>Under Construction</td>\n",
       "      <td>Updated: October 30th, 2021</td>\n",
       "      <td>JGuevara@santa-ana.org</td>\n",
       "      <td>(714) 647-5481</td>\n",
       "      <td>Santa Ana</td>\n",
       "      <td>Project Manager: Jerry C. Guevara — Senior Pla...</td>\n",
       "      <td>Mixed Use</td>\n",
       "    </tr>\n",
       "    <tr>\n",
       "      <th>661</th>\n",
       "      <td>2534 W. Westminster Avenue (Ward 5)</td>\n",
       "      <td>The applicant, Community Development Partners,...</td>\n",
       "      <td>Westview Housing</td>\n",
       "      <td>NaN</td>\n",
       "      <td>Under Construction</td>\n",
       "      <td>Updated: October 30th, 2023</td>\n",
       "      <td>APezeshkpour@santa-ana.org</td>\n",
       "      <td>(714) 647-5882</td>\n",
       "      <td>Santa Ana</td>\n",
       "      <td>Ali Pezeshkpour, AICP — Planning Manager</td>\n",
       "      <td>Commercial</td>\n",
       "    </tr>\n",
       "    <tr>\n",
       "      <th>662</th>\n",
       "      <td>1411 N. Broadway (Ward 5)</td>\n",
       "      <td>WISEPlace is proposing an adaptive reuse proje...</td>\n",
       "      <td>WISEPlace PSH Adaptive Reuse Development</td>\n",
       "      <td>NaN</td>\n",
       "      <td>Under Construction</td>\n",
       "      <td>Updated: October 30th, 2023</td>\n",
       "      <td>Pomez@santa-ana.org</td>\n",
       "      <td>(714) 667-2790</td>\n",
       "      <td>Santa Ana</td>\n",
       "      <td>Pedro Gomez, AICP — Senior Planner</td>\n",
       "      <td>Commercial</td>\n",
       "    </tr>\n",
       "  </tbody>\n",
       "</table>\n",
       "<p>663 rows × 11 columns</p>\n",
       "</div>"
      ],
      "text/plain": [
       "                                 address  \\\n",
       "0                      321 W Katella Ave   \n",
       "1                       500 W Disney Way   \n",
       "2                     8163 E Kaiser Blvd   \n",
       "3                     1700 S Harbor Blvd   \n",
       "4                      3111 W Orange Ave   \n",
       "..                                   ...   \n",
       "658    1561 W. Sunflower Avenue (Ward 4)   \n",
       "659      601 N. Fairview Street (Ward 5)   \n",
       "660     2300 S. Red Hill Avenue (Ward 6)   \n",
       "661  2534 W. Westminster Avenue (Ward 5)   \n",
       "662            1411 N. Broadway (Ward 5)   \n",
       "\n",
       "                                           description  \\\n",
       "0    The Applicant Proposes Adjustment No. 14 To Th...   \n",
       "1    Amend The Development Agreement Between The Ci...   \n",
       "2    The Applicant Proposes To Amend An Existing Co...   \n",
       "3    A Request To Amend The Development Agreement B...   \n",
       "4    Request To Amend A Conditional Use Permit To P...   \n",
       "..                                                 ...   \n",
       "658  South Coast Plaza (Applicant & Property Owner)...   \n",
       "659  The applicant is proposing to rezone the subje...   \n",
       "660  Arrimus Capital, “Applicant”, has submitted an...   \n",
       "661  The applicant, Community Development Partners,...   \n",
       "662  WISEPlace is proposing an adaptive reuse proje...   \n",
       "\n",
       "                                           projectName   typeOfUse  \\\n",
       "0            [DEV2010-00166J] ANAHEIM GARDENWALK - STC       Other   \n",
       "1        [DEV2010-0166I] ANAHEIM GARDENWALK - WESTGATE       Other   \n",
       "2                    [DEV2013-00024C] INFLUENCE CHURCH  Commercial   \n",
       "3                [DEV2015-00120A] 1700 S. HARBOR HOTEL       Other   \n",
       "4                 [DEV2018-00130A] DAYBREAK UNIVERSITY  Commercial   \n",
       "..                                                 ...         ...   \n",
       "658                          The Village Specific Plan         NaN   \n",
       "659                 Vista Heritage Development Project         NaN   \n",
       "660  Warner Redhill Mixed-Use Development (Formerly...         NaN   \n",
       "661                                   Westview Housing         NaN   \n",
       "662           WISEPlace PSH Adaptive Reuse Development         NaN   \n",
       "\n",
       "                         status                 recentUpdate  \\\n",
       "0                     Withdrawn                   12/10/2019   \n",
       "1                     In Review                    2/14/2019   \n",
       "2                      Approved                    7/29/2020   \n",
       "3                      Approved                    10/2/2019   \n",
       "4                     In Review                    9/15/2021   \n",
       "..                          ...                          ...   \n",
       "658  Development Project Review  Updated: November 1st, 2023   \n",
       "659  Development Project Review  Updated: October 11th, 2023   \n",
       "660          Under Construction  Updated: October 30th, 2021   \n",
       "661          Under Construction  Updated: October 30th, 2023   \n",
       "662          Under Construction  Updated: October 30th, 2023   \n",
       "\n",
       "                          email           phone       city  \\\n",
       "0            EThien@anaheim.net  (714) 765-4568    Anaheim   \n",
       "1          Planning@anaheim.net  (714) 765-5139    Anaheim   \n",
       "2          Planning@anaheim.net  (714) 765-5139    Anaheim   \n",
       "3            EThien@anaheim.net  (714) 765-4568    Anaheim   \n",
       "4           TGorham@Anaheim.net  (714) 765-4947    Anaheim   \n",
       "..                          ...             ...        ...   \n",
       "658      planning@santa-ana.org  (714) 667-2732  Santa Ana   \n",
       "659        FArias@santa-ana.org  (714) 667-2792  Santa Ana   \n",
       "660      JGuevara@santa-ana.org  (714) 647-5481  Santa Ana   \n",
       "661  APezeshkpour@santa-ana.org  (714) 647-5882  Santa Ana   \n",
       "662         Pomez@santa-ana.org  (714) 667-2790  Santa Ana   \n",
       "\n",
       "                                               planner  \\\n",
       "0                                 Elain Thienprasiddhi   \n",
       "1                              Anaheim Planning Office   \n",
       "2                              Anaheim Planning Office   \n",
       "3                                 Elain Thienprasiddhi   \n",
       "4                                        Thomas Gorham   \n",
       "..                                                 ...   \n",
       "658                                                NaN   \n",
       "659               Fernanda Arias — Assistant Planner I   \n",
       "660  Project Manager: Jerry C. Guevara — Senior Pla...   \n",
       "661           Ali Pezeshkpour, AICP — Planning Manager   \n",
       "662                 Pedro Gomez, AICP — Senior Planner   \n",
       "\n",
       "                  explicitUses  \n",
       "0                   Commercial  \n",
       "1                   Commercial  \n",
       "2    Major Residential Project  \n",
       "3                   Commercial  \n",
       "4    Major Residential Project  \n",
       "..                         ...  \n",
       "658                 Commercial  \n",
       "659                 Commercial  \n",
       "660                  Mixed Use  \n",
       "661                 Commercial  \n",
       "662                 Commercial  \n",
       "\n",
       "[663 rows x 11 columns]"
      ]
     },
     "execution_count": 25,
     "metadata": {},
     "output_type": "execute_result"
    }
   ],
   "source": [
    "df"
   ]
  },
  {
   "cell_type": "code",
   "execution_count": 26,
   "metadata": {},
   "outputs": [],
   "source": [
    "def classify_type_of_use(description, type_of_use=\"Other\"):\n",
    "    # Check if description is not a string\n",
    "    if not isinstance(description, str):\n",
    "        # If not, convert to string or handle it however you see fit\n",
    "        description = str(description)\n",
    "\n",
    "    description = description.upper()\n",
    "    if (\n",
    "        \"MIXED USE\" in description\n",
    "        or \"MIXED_USE\" in description\n",
    "        or \"MIXED-USE\" in description\n",
    "    ):\n",
    "        type_of_use = \"Mixed Use\"\n",
    "    elif (\n",
    "        \"ADU\" in description\n",
    "        or \"ACCESSORY DWELLING UNIT\" in description\n",
    "        or \"ACCESSORY\" in description\n",
    "    ):\n",
    "        type_of_use = \"Minor Residential Project\"\n",
    "    elif (\n",
    "        \"COMMERCIAL\" in description\n",
    "        or \"STORE\" in description\n",
    "        or \"RETAIL\" in description\n",
    "        or \"CAR WASH\" in description\n",
    "        #or \"INSURANCE\" in description\n",
    "        #or \"OFFICE\" in description\n",
    "        or \"RESTAURANT\" in description\n",
    "        or \"RESORT\" in description\n",
    "        or \"HOTEL\" in description\n",
    "        or \"MOTEL\" in description\n",
    "    ):\n",
    "        type_of_use = \"Commercial\"\n",
    "    elif (\n",
    "        \"RESIDENTIAL\" in description\n",
    "        or \"UNIT\" in description\n",
    "        or \"FAMILY\" in description\n",
    "        or \"APARTMENT\" in description\n",
    "        or \"TOWNHOME\" in description\n",
    "        or \"HOUSING\" in description\n",
    "        or \"CDR\" in description\n",
    "        or \"DUPLEX\" in description\n",
    "        or \"TRANSITIONAL HOUSING\" in description\n",
    "        or \"CHURCH\" in description\n",
    "        or \"CONDOMINIUMS\" in description\n",
    "        or \"CONDO\" in description\n",
    "    ):\n",
    "        type_of_use = \"Major Residential Project\"\n",
    "    elif (\n",
    "        \"INDUSTRIAL\" in description\n",
    "        or \"WAREHOUSE\" in description\n",
    "        or \"STORAGE\" in description\n",
    "        or \"MANUFACTURING\" in description\n",
    "        or \"WCF\" in description\n",
    "        or \"FACILITY\" in description\n",
    "    ):\n",
    "        type_of_use = \"Industrial\"\n",
    "    elif \"TPM\" in description or \"TENTATIVE PARCEL MAP\" in description:\n",
    "        type_of_use = \"Tentaive Parcel Map\"\n",
    "    elif \"VARIANCE\" in description or \"CONSOLIDATE\" in description:\n",
    "        type_of_use = \"Variance Request\"\n",
    "    elif \"DEMO\" in description or \"DEMOLITION\" in description:\n",
    "        type_of_use = \"Demolition\"\n",
    "    elif (\n",
    "        \"YARD\" in description\n",
    "        or \"FENCE\" in description\n",
    "        or \"GARAGE\" in description\n",
    "        or \"RESIDENCE\" in description\n",
    "    ):\n",
    "        type_of_use = \"Private Home Modification\"\n",
    "    elif (\n",
    "        \"TI\" in description\n",
    "        or \"TENANT IMPROVEMENT\" in description\n",
    "        or \"T.I\" in description\n",
    "        or 'Ti'\n",
    "        or 'T.I.'\n",
    "    ):\n",
    "        type_of_use = \"Tenant Improvement\"\n",
    "    elif \"VTTM\" in description or \"VESTING TENTATIVE TRACT MAP\" in description:\n",
    "        type_of_use = \"Vesting Tentative Tract Map\"\n",
    "    elif \"CLASSROOM\" in description or \"SCHOOL\" in description:\n",
    "        type_of_use = \"Education/Institution\"\n",
    "    else:\n",
    "        type_of_use = \"Other\"\n",
    "\n",
    "    return type_of_use\n",
    "\n",
    "# Usage in the dataframe iteration\n",
    "for index, row in df.iterrows():\n",
    "    description = row[\"description\"]\n",
    "    type_of_use = classify_type_of_use(description)\n",
    "    df.at[index, \"explicitUses\"] = type_of_use"
   ]
  },
  {
   "cell_type": "code",
   "execution_count": 13,
   "metadata": {},
   "outputs": [
    {
     "data": {
      "text/plain": [
       "array(['Commercial', 'Major Residential Project', 'Tenant Improvement',\n",
       "       'Minor Residential Project', 'Demolition', 'Industrial',\n",
       "       'Variance Request', 'Tentaive Parcel Map', 'Other',\n",
       "       'Private Home Modification', 'Mixed Use', 'Education/Institution'],\n",
       "      dtype=object)"
      ]
     },
     "execution_count": 13,
     "metadata": {},
     "output_type": "execute_result"
    }
   ],
   "source": [
    "df.explicitUses.unique()"
   ]
  },
  {
   "cell_type": "code",
   "execution_count": 31,
   "metadata": {},
   "outputs": [
    {
     "data": {
      "text/html": [
       "<div>\n",
       "<style scoped>\n",
       "    .dataframe tbody tr th:only-of-type {\n",
       "        vertical-align: middle;\n",
       "    }\n",
       "\n",
       "    .dataframe tbody tr th {\n",
       "        vertical-align: top;\n",
       "    }\n",
       "\n",
       "    .dataframe thead th {\n",
       "        text-align: right;\n",
       "    }\n",
       "</style>\n",
       "<table border=\"1\" class=\"dataframe\">\n",
       "  <thead>\n",
       "    <tr style=\"text-align: right;\">\n",
       "      <th></th>\n",
       "      <th>address</th>\n",
       "      <th>description</th>\n",
       "      <th>projectName</th>\n",
       "      <th>typeOfUse</th>\n",
       "      <th>status</th>\n",
       "      <th>recentUpdate</th>\n",
       "      <th>email</th>\n",
       "      <th>phone</th>\n",
       "      <th>city</th>\n",
       "      <th>planner</th>\n",
       "      <th>explicitUses</th>\n",
       "    </tr>\n",
       "  </thead>\n",
       "  <tbody>\n",
       "    <tr>\n",
       "      <th>0</th>\n",
       "      <td>321 W Katella Ave</td>\n",
       "      <td>The Applicant Proposes Adjustment No. 14 To Th...</td>\n",
       "      <td>[DEV2010-00166J] ANAHEIM GARDENWALK - STC</td>\n",
       "      <td>Other</td>\n",
       "      <td>Withdrawn</td>\n",
       "      <td>12/10/2019</td>\n",
       "      <td>EThien@anaheim.net</td>\n",
       "      <td>(714) 765-4568</td>\n",
       "      <td>Anaheim</td>\n",
       "      <td>Elain Thienprasiddhi</td>\n",
       "      <td>Commercial</td>\n",
       "    </tr>\n",
       "    <tr>\n",
       "      <th>1</th>\n",
       "      <td>500 W Disney Way</td>\n",
       "      <td>Amend The Development Agreement Between The Ci...</td>\n",
       "      <td>[DEV2010-0166I] ANAHEIM GARDENWALK - WESTGATE</td>\n",
       "      <td>Other</td>\n",
       "      <td>In Review</td>\n",
       "      <td>2/14/2019</td>\n",
       "      <td>Planning@anaheim.net</td>\n",
       "      <td>(714) 765-5139</td>\n",
       "      <td>Anaheim</td>\n",
       "      <td>Anaheim Planning Office</td>\n",
       "      <td>Commercial</td>\n",
       "    </tr>\n",
       "    <tr>\n",
       "      <th>2</th>\n",
       "      <td>8163 E Kaiser Blvd</td>\n",
       "      <td>The Applicant Proposes To Amend An Existing Co...</td>\n",
       "      <td>[DEV2013-00024C] INFLUENCE CHURCH</td>\n",
       "      <td>Commercial</td>\n",
       "      <td>Approved</td>\n",
       "      <td>7/29/2020</td>\n",
       "      <td>Planning@anaheim.net</td>\n",
       "      <td>(714) 765-5139</td>\n",
       "      <td>Anaheim</td>\n",
       "      <td>Anaheim Planning Office</td>\n",
       "      <td>Major Residential Project</td>\n",
       "    </tr>\n",
       "    <tr>\n",
       "      <th>3</th>\n",
       "      <td>1700 S Harbor Blvd</td>\n",
       "      <td>A Request To Amend The Development Agreement B...</td>\n",
       "      <td>[DEV2015-00120A] 1700 S. HARBOR HOTEL</td>\n",
       "      <td>Other</td>\n",
       "      <td>Approved</td>\n",
       "      <td>10/2/2019</td>\n",
       "      <td>EThien@anaheim.net</td>\n",
       "      <td>(714) 765-4568</td>\n",
       "      <td>Anaheim</td>\n",
       "      <td>Elain Thienprasiddhi</td>\n",
       "      <td>Commercial</td>\n",
       "    </tr>\n",
       "    <tr>\n",
       "      <th>4</th>\n",
       "      <td>3111 W Orange Ave</td>\n",
       "      <td>Request To Amend A Conditional Use Permit To P...</td>\n",
       "      <td>[DEV2018-00130A] DAYBREAK UNIVERSITY</td>\n",
       "      <td>Commercial</td>\n",
       "      <td>In Review</td>\n",
       "      <td>9/15/2021</td>\n",
       "      <td>TGorham@Anaheim.net</td>\n",
       "      <td>(714) 765-4947</td>\n",
       "      <td>Anaheim</td>\n",
       "      <td>Thomas Gorham</td>\n",
       "      <td>Major Residential Project</td>\n",
       "    </tr>\n",
       "    <tr>\n",
       "      <th>...</th>\n",
       "      <td>...</td>\n",
       "      <td>...</td>\n",
       "      <td>...</td>\n",
       "      <td>...</td>\n",
       "      <td>...</td>\n",
       "      <td>...</td>\n",
       "      <td>...</td>\n",
       "      <td>...</td>\n",
       "      <td>...</td>\n",
       "      <td>...</td>\n",
       "      <td>...</td>\n",
       "    </tr>\n",
       "    <tr>\n",
       "      <th>658</th>\n",
       "      <td>1561 W. Sunflower Avenue (Ward 4)</td>\n",
       "      <td>South Coast Plaza (Applicant &amp; Property Owner)...</td>\n",
       "      <td>The Village Specific Plan</td>\n",
       "      <td>NaN</td>\n",
       "      <td>Development Project Review</td>\n",
       "      <td>Updated: November 1st, 2023</td>\n",
       "      <td>planning@santa-ana.org</td>\n",
       "      <td>(714) 667-2732</td>\n",
       "      <td>Santa Ana</td>\n",
       "      <td>NaN</td>\n",
       "      <td>Commercial</td>\n",
       "    </tr>\n",
       "    <tr>\n",
       "      <th>659</th>\n",
       "      <td>601 N. Fairview Street (Ward 5)</td>\n",
       "      <td>The applicant is proposing to rezone the subje...</td>\n",
       "      <td>Vista Heritage Development Project</td>\n",
       "      <td>NaN</td>\n",
       "      <td>Development Project Review</td>\n",
       "      <td>Updated: October 11th, 2023</td>\n",
       "      <td>FArias@santa-ana.org</td>\n",
       "      <td>(714) 667-2792</td>\n",
       "      <td>Santa Ana</td>\n",
       "      <td>Fernanda Arias — Assistant Planner I</td>\n",
       "      <td>Industrial</td>\n",
       "    </tr>\n",
       "    <tr>\n",
       "      <th>660</th>\n",
       "      <td>2300 S. Red Hill Avenue (Ward 6)</td>\n",
       "      <td>Arrimus Capital, “Applicant”, has submitted an...</td>\n",
       "      <td>Warner Redhill Mixed-Use Development (Formerly...</td>\n",
       "      <td>NaN</td>\n",
       "      <td>Under Construction</td>\n",
       "      <td>Updated: October 30th, 2021</td>\n",
       "      <td>JGuevara@santa-ana.org</td>\n",
       "      <td>(714) 647-5481</td>\n",
       "      <td>Santa Ana</td>\n",
       "      <td>Project Manager: Jerry C. Guevara — Senior Pla...</td>\n",
       "      <td>Mixed Use</td>\n",
       "    </tr>\n",
       "    <tr>\n",
       "      <th>661</th>\n",
       "      <td>2534 W. Westminster Avenue (Ward 5)</td>\n",
       "      <td>The applicant, Community Development Partners,...</td>\n",
       "      <td>Westview Housing</td>\n",
       "      <td>NaN</td>\n",
       "      <td>Under Construction</td>\n",
       "      <td>Updated: October 30th, 2023</td>\n",
       "      <td>APezeshkpour@santa-ana.org</td>\n",
       "      <td>(714) 647-5882</td>\n",
       "      <td>Santa Ana</td>\n",
       "      <td>Ali Pezeshkpour, AICP — Planning Manager</td>\n",
       "      <td>Major Residential Project</td>\n",
       "    </tr>\n",
       "    <tr>\n",
       "      <th>662</th>\n",
       "      <td>1411 N. Broadway (Ward 5)</td>\n",
       "      <td>WISEPlace is proposing an adaptive reuse proje...</td>\n",
       "      <td>WISEPlace PSH Adaptive Reuse Development</td>\n",
       "      <td>NaN</td>\n",
       "      <td>Under Construction</td>\n",
       "      <td>Updated: October 30th, 2023</td>\n",
       "      <td>Pomez@santa-ana.org</td>\n",
       "      <td>(714) 667-2790</td>\n",
       "      <td>Santa Ana</td>\n",
       "      <td>Pedro Gomez, AICP — Senior Planner</td>\n",
       "      <td>Major Residential Project</td>\n",
       "    </tr>\n",
       "  </tbody>\n",
       "</table>\n",
       "<p>663 rows × 11 columns</p>\n",
       "</div>"
      ],
      "text/plain": [
       "                                 address  \\\n",
       "0                      321 W Katella Ave   \n",
       "1                       500 W Disney Way   \n",
       "2                     8163 E Kaiser Blvd   \n",
       "3                     1700 S Harbor Blvd   \n",
       "4                      3111 W Orange Ave   \n",
       "..                                   ...   \n",
       "658    1561 W. Sunflower Avenue (Ward 4)   \n",
       "659      601 N. Fairview Street (Ward 5)   \n",
       "660     2300 S. Red Hill Avenue (Ward 6)   \n",
       "661  2534 W. Westminster Avenue (Ward 5)   \n",
       "662            1411 N. Broadway (Ward 5)   \n",
       "\n",
       "                                           description  \\\n",
       "0    The Applicant Proposes Adjustment No. 14 To Th...   \n",
       "1    Amend The Development Agreement Between The Ci...   \n",
       "2    The Applicant Proposes To Amend An Existing Co...   \n",
       "3    A Request To Amend The Development Agreement B...   \n",
       "4    Request To Amend A Conditional Use Permit To P...   \n",
       "..                                                 ...   \n",
       "658  South Coast Plaza (Applicant & Property Owner)...   \n",
       "659  The applicant is proposing to rezone the subje...   \n",
       "660  Arrimus Capital, “Applicant”, has submitted an...   \n",
       "661  The applicant, Community Development Partners,...   \n",
       "662  WISEPlace is proposing an adaptive reuse proje...   \n",
       "\n",
       "                                           projectName   typeOfUse  \\\n",
       "0            [DEV2010-00166J] ANAHEIM GARDENWALK - STC       Other   \n",
       "1        [DEV2010-0166I] ANAHEIM GARDENWALK - WESTGATE       Other   \n",
       "2                    [DEV2013-00024C] INFLUENCE CHURCH  Commercial   \n",
       "3                [DEV2015-00120A] 1700 S. HARBOR HOTEL       Other   \n",
       "4                 [DEV2018-00130A] DAYBREAK UNIVERSITY  Commercial   \n",
       "..                                                 ...         ...   \n",
       "658                          The Village Specific Plan         NaN   \n",
       "659                 Vista Heritage Development Project         NaN   \n",
       "660  Warner Redhill Mixed-Use Development (Formerly...         NaN   \n",
       "661                                   Westview Housing         NaN   \n",
       "662           WISEPlace PSH Adaptive Reuse Development         NaN   \n",
       "\n",
       "                         status                 recentUpdate  \\\n",
       "0                     Withdrawn                   12/10/2019   \n",
       "1                     In Review                    2/14/2019   \n",
       "2                      Approved                    7/29/2020   \n",
       "3                      Approved                    10/2/2019   \n",
       "4                     In Review                    9/15/2021   \n",
       "..                          ...                          ...   \n",
       "658  Development Project Review  Updated: November 1st, 2023   \n",
       "659  Development Project Review  Updated: October 11th, 2023   \n",
       "660          Under Construction  Updated: October 30th, 2021   \n",
       "661          Under Construction  Updated: October 30th, 2023   \n",
       "662          Under Construction  Updated: October 30th, 2023   \n",
       "\n",
       "                          email           phone       city  \\\n",
       "0            EThien@anaheim.net  (714) 765-4568    Anaheim   \n",
       "1          Planning@anaheim.net  (714) 765-5139    Anaheim   \n",
       "2          Planning@anaheim.net  (714) 765-5139    Anaheim   \n",
       "3            EThien@anaheim.net  (714) 765-4568    Anaheim   \n",
       "4           TGorham@Anaheim.net  (714) 765-4947    Anaheim   \n",
       "..                          ...             ...        ...   \n",
       "658      planning@santa-ana.org  (714) 667-2732  Santa Ana   \n",
       "659        FArias@santa-ana.org  (714) 667-2792  Santa Ana   \n",
       "660      JGuevara@santa-ana.org  (714) 647-5481  Santa Ana   \n",
       "661  APezeshkpour@santa-ana.org  (714) 647-5882  Santa Ana   \n",
       "662         Pomez@santa-ana.org  (714) 667-2790  Santa Ana   \n",
       "\n",
       "                                               planner  \\\n",
       "0                                 Elain Thienprasiddhi   \n",
       "1                              Anaheim Planning Office   \n",
       "2                              Anaheim Planning Office   \n",
       "3                                 Elain Thienprasiddhi   \n",
       "4                                        Thomas Gorham   \n",
       "..                                                 ...   \n",
       "658                                                NaN   \n",
       "659               Fernanda Arias — Assistant Planner I   \n",
       "660  Project Manager: Jerry C. Guevara — Senior Pla...   \n",
       "661           Ali Pezeshkpour, AICP — Planning Manager   \n",
       "662                 Pedro Gomez, AICP — Senior Planner   \n",
       "\n",
       "                  explicitUses  \n",
       "0                   Commercial  \n",
       "1                   Commercial  \n",
       "2    Major Residential Project  \n",
       "3                   Commercial  \n",
       "4    Major Residential Project  \n",
       "..                         ...  \n",
       "658                 Commercial  \n",
       "659                 Industrial  \n",
       "660                  Mixed Use  \n",
       "661  Major Residential Project  \n",
       "662  Major Residential Project  \n",
       "\n",
       "[663 rows x 11 columns]"
      ]
     },
     "execution_count": 31,
     "metadata": {},
     "output_type": "execute_result"
    }
   ],
   "source": [
    "df"
   ]
  },
  {
   "cell_type": "code",
   "execution_count": 32,
   "metadata": {},
   "outputs": [
    {
     "data": {
      "text/plain": [
       "(645, 11)"
      ]
     },
     "execution_count": 32,
     "metadata": {},
     "output_type": "execute_result"
    }
   ],
   "source": [
    "df.dropna(subset=['description'], inplace=True)\n",
    "df.shape"
   ]
  },
  {
   "cell_type": "code",
   "execution_count": null,
   "metadata": {},
   "outputs": [],
   "source": []
  },
  {
   "cell_type": "markdown",
   "metadata": {},
   "source": [
    "## Use OPENAI API to infer insights from the text"
   ]
  },
  {
   "cell_type": "code",
   "execution_count": null,
   "metadata": {},
   "outputs": [],
   "source": [
    "prompt_template1 = \"{description}. From the details, determine the following: \\\n",
    "\\n1. What is the type of development action? (Options: 'Amendment Request', 'Construction', 'Permit Application', 'Review & Redesignation') \\\n",
    "\\n2. What type of facility is being discussed? (Options: 'Residential', 'Commercial', 'Recreational') Also, list any specific features or additions associated with it. \\\n",
    "\\n3. Provide any size and location-specific details mentioned in the description, like square footage, number of units, and if it's part of a bigger development area or adjacent to certain landmarks.\"\n",
    "\n",
    "prompt_template2 = \"Given the description: {description}, answer the following: \\\n",
    "\\n- What is the exact development action being taken? \\\n",
    "\\n- Which category (Residential, Commercial, Recreational, etc.) best describes the facility being discussed? Are there any notable features or additions mentioned for this facility? \\\n",
    "\\n- Can you identify any specifics regarding the size and location of the property or project, such as square footage, number of rooms, and its relation to other structures or landmarks?\"\n",
    "\n",
    "prompt_template3 = \"Imagine you are analyzing the description: {description} to create a detailed report. Please classify and specify the following details: \\\n",
    "\\na) The development action being undertaken. \\\n",
    "\\nb) The main type of facility being highlighted and its distinct features or additions. \\\n",
    "\\nc) Any information related to the size of the property or project and its location characteristics.\"\n"
   ]
  },
  {
   "cell_type": "code",
   "execution_count": 33,
   "metadata": {},
   "outputs": [
    {
     "name": "stdout",
     "output_type": "stream",
     "text": [
      "Error: Request timed out: HTTPSConnectionPool(host='api.openai.com', port=443): Read timed out. (read timeout=600). Retrying in 5 seconds...\n",
      "Error: Request timed out: HTTPSConnectionPool(host='api.openai.com', port=443): Read timed out. (read timeout=600). Retrying in 5 seconds...\n",
      "Error: Error communicating with OpenAI: ('Connection aborted.', RemoteDisconnected('Remote end closed connection without response')). Retrying in 5 seconds...\n"
     ]
    }
   ],
   "source": [
    "from dotenv import load_dotenv\n",
    "import os\n",
    "import openai\n",
    "openai.api_key = os.getenv(\"OPENAI_API_KEY\")\n",
    "\n",
    "\n",
    "load_dotenv()\n",
    "\n",
    "# Template for the prompt\n",
    "prompt_template = \"{description}. Based on the information provided, determine the primary use of the described facility or project. Possible categories are 'Commercial', 'Residential', 'Industrial', and 'Mixed Use'. If the description doesn't fit into any of these categories, classify it as 'Other'. Provide a brief reasoning for the chosen category.\"\n",
    "\n",
    "def get_response_from_langchain(description, retries=3, delay=5):\n",
    "    #Use OpenAI's API to fill null values and classify the description to determine the type of use.\n",
    "    for attempt in range(retries):\n",
    "        try:\n",
    "            time.sleep(6)\n",
    "            # Using OpenAI's API to get the response\n",
    "            messages = [{\"role\": \"user\", \"content\": prompt_template.format(description=description)}]\n",
    "            response = openai.ChatCompletion.create(model=\"gpt-3.5-turbo\", messages=messages)\n",
    "            \n",
    "            # Extract the model's message from the returned messages\n",
    "            answer = response['choices'][0]['message']['content'].strip()\n",
    "            \n",
    "            # Check if the response starts with \"Other\" and then extract the two-word description\n",
    "            if answer.startswith(\"Other\"):\n",
    "                return answer\n",
    "            \n",
    "            # If the response doesn't start with \"Other\", return just the category\n",
    "            return answer.split()[0]\n",
    "        \n",
    "        except Exception as e:\n",
    "            if attempt < retries - 1:\n",
    "                print(f\"Error: {e}. Retrying in {delay} seconds...\")\n",
    "                time.sleep(delay)  # Wait for a specified delay before retrying\n",
    "            else:\n",
    "                print(f\"Error: {e}. Failed after {retries} attempts.\")\n",
    "                return \"Error\"\n",
    "\n",
    "    return None\n",
    "\n",
    "# Apply only to rows where 'typeOfUse' is NaN\n",
    "#mask = final_dataframe['typeOfUse'].isna()\n",
    "df['specifiedUse'] = df['description'].apply(get_response_from_langchain)\n",
    "\n"
   ]
  },
  {
   "cell_type": "code",
   "execution_count": 27,
   "metadata": {},
   "outputs": [
    {
     "data": {
      "application/vnd.plotly.v1+json": {
       "config": {
        "plotlyServerURL": "https://plot.ly"
       },
       "data": [
        {
         "alignmentgroup": "True",
         "hovertemplate": "Type of Use=%{x}<br>Number of Instances=%{y}<extra></extra>",
         "legendgroup": "",
         "marker": {
          "color": "#636efa",
          "pattern": {
           "shape": ""
          }
         },
         "name": "",
         "offsetgroup": "",
         "orientation": "v",
         "showlegend": false,
         "textposition": "auto",
         "type": "bar",
         "x": [
          "Tenant Improvement",
          "Commercial",
          "Major Residential Project",
          "Minor Residential Project",
          "Industrial",
          "Mixed Use",
          "Private Home Modification",
          "Variance Request",
          "Demolition",
          "Tentaive Parcel Map"
         ],
         "xaxis": "x",
         "y": [
          154,
          125,
          113,
          113,
          91,
          21,
          20,
          16,
          6,
          4
         ],
         "yaxis": "y"
        }
       ],
       "layout": {
        "barmode": "relative",
        "legend": {
         "tracegroupgap": 0
        },
        "template": {
         "data": {
          "bar": [
           {
            "error_x": {
             "color": "#2a3f5f"
            },
            "error_y": {
             "color": "#2a3f5f"
            },
            "marker": {
             "line": {
              "color": "#E5ECF6",
              "width": 0.5
             },
             "pattern": {
              "fillmode": "overlay",
              "size": 10,
              "solidity": 0.2
             }
            },
            "type": "bar"
           }
          ],
          "barpolar": [
           {
            "marker": {
             "line": {
              "color": "#E5ECF6",
              "width": 0.5
             },
             "pattern": {
              "fillmode": "overlay",
              "size": 10,
              "solidity": 0.2
             }
            },
            "type": "barpolar"
           }
          ],
          "carpet": [
           {
            "aaxis": {
             "endlinecolor": "#2a3f5f",
             "gridcolor": "white",
             "linecolor": "white",
             "minorgridcolor": "white",
             "startlinecolor": "#2a3f5f"
            },
            "baxis": {
             "endlinecolor": "#2a3f5f",
             "gridcolor": "white",
             "linecolor": "white",
             "minorgridcolor": "white",
             "startlinecolor": "#2a3f5f"
            },
            "type": "carpet"
           }
          ],
          "choropleth": [
           {
            "colorbar": {
             "outlinewidth": 0,
             "ticks": ""
            },
            "type": "choropleth"
           }
          ],
          "contour": [
           {
            "colorbar": {
             "outlinewidth": 0,
             "ticks": ""
            },
            "colorscale": [
             [
              0,
              "#0d0887"
             ],
             [
              0.1111111111111111,
              "#46039f"
             ],
             [
              0.2222222222222222,
              "#7201a8"
             ],
             [
              0.3333333333333333,
              "#9c179e"
             ],
             [
              0.4444444444444444,
              "#bd3786"
             ],
             [
              0.5555555555555556,
              "#d8576b"
             ],
             [
              0.6666666666666666,
              "#ed7953"
             ],
             [
              0.7777777777777778,
              "#fb9f3a"
             ],
             [
              0.8888888888888888,
              "#fdca26"
             ],
             [
              1,
              "#f0f921"
             ]
            ],
            "type": "contour"
           }
          ],
          "contourcarpet": [
           {
            "colorbar": {
             "outlinewidth": 0,
             "ticks": ""
            },
            "type": "contourcarpet"
           }
          ],
          "heatmap": [
           {
            "colorbar": {
             "outlinewidth": 0,
             "ticks": ""
            },
            "colorscale": [
             [
              0,
              "#0d0887"
             ],
             [
              0.1111111111111111,
              "#46039f"
             ],
             [
              0.2222222222222222,
              "#7201a8"
             ],
             [
              0.3333333333333333,
              "#9c179e"
             ],
             [
              0.4444444444444444,
              "#bd3786"
             ],
             [
              0.5555555555555556,
              "#d8576b"
             ],
             [
              0.6666666666666666,
              "#ed7953"
             ],
             [
              0.7777777777777778,
              "#fb9f3a"
             ],
             [
              0.8888888888888888,
              "#fdca26"
             ],
             [
              1,
              "#f0f921"
             ]
            ],
            "type": "heatmap"
           }
          ],
          "heatmapgl": [
           {
            "colorbar": {
             "outlinewidth": 0,
             "ticks": ""
            },
            "colorscale": [
             [
              0,
              "#0d0887"
             ],
             [
              0.1111111111111111,
              "#46039f"
             ],
             [
              0.2222222222222222,
              "#7201a8"
             ],
             [
              0.3333333333333333,
              "#9c179e"
             ],
             [
              0.4444444444444444,
              "#bd3786"
             ],
             [
              0.5555555555555556,
              "#d8576b"
             ],
             [
              0.6666666666666666,
              "#ed7953"
             ],
             [
              0.7777777777777778,
              "#fb9f3a"
             ],
             [
              0.8888888888888888,
              "#fdca26"
             ],
             [
              1,
              "#f0f921"
             ]
            ],
            "type": "heatmapgl"
           }
          ],
          "histogram": [
           {
            "marker": {
             "pattern": {
              "fillmode": "overlay",
              "size": 10,
              "solidity": 0.2
             }
            },
            "type": "histogram"
           }
          ],
          "histogram2d": [
           {
            "colorbar": {
             "outlinewidth": 0,
             "ticks": ""
            },
            "colorscale": [
             [
              0,
              "#0d0887"
             ],
             [
              0.1111111111111111,
              "#46039f"
             ],
             [
              0.2222222222222222,
              "#7201a8"
             ],
             [
              0.3333333333333333,
              "#9c179e"
             ],
             [
              0.4444444444444444,
              "#bd3786"
             ],
             [
              0.5555555555555556,
              "#d8576b"
             ],
             [
              0.6666666666666666,
              "#ed7953"
             ],
             [
              0.7777777777777778,
              "#fb9f3a"
             ],
             [
              0.8888888888888888,
              "#fdca26"
             ],
             [
              1,
              "#f0f921"
             ]
            ],
            "type": "histogram2d"
           }
          ],
          "histogram2dcontour": [
           {
            "colorbar": {
             "outlinewidth": 0,
             "ticks": ""
            },
            "colorscale": [
             [
              0,
              "#0d0887"
             ],
             [
              0.1111111111111111,
              "#46039f"
             ],
             [
              0.2222222222222222,
              "#7201a8"
             ],
             [
              0.3333333333333333,
              "#9c179e"
             ],
             [
              0.4444444444444444,
              "#bd3786"
             ],
             [
              0.5555555555555556,
              "#d8576b"
             ],
             [
              0.6666666666666666,
              "#ed7953"
             ],
             [
              0.7777777777777778,
              "#fb9f3a"
             ],
             [
              0.8888888888888888,
              "#fdca26"
             ],
             [
              1,
              "#f0f921"
             ]
            ],
            "type": "histogram2dcontour"
           }
          ],
          "mesh3d": [
           {
            "colorbar": {
             "outlinewidth": 0,
             "ticks": ""
            },
            "type": "mesh3d"
           }
          ],
          "parcoords": [
           {
            "line": {
             "colorbar": {
              "outlinewidth": 0,
              "ticks": ""
             }
            },
            "type": "parcoords"
           }
          ],
          "pie": [
           {
            "automargin": true,
            "type": "pie"
           }
          ],
          "scatter": [
           {
            "fillpattern": {
             "fillmode": "overlay",
             "size": 10,
             "solidity": 0.2
            },
            "type": "scatter"
           }
          ],
          "scatter3d": [
           {
            "line": {
             "colorbar": {
              "outlinewidth": 0,
              "ticks": ""
             }
            },
            "marker": {
             "colorbar": {
              "outlinewidth": 0,
              "ticks": ""
             }
            },
            "type": "scatter3d"
           }
          ],
          "scattercarpet": [
           {
            "marker": {
             "colorbar": {
              "outlinewidth": 0,
              "ticks": ""
             }
            },
            "type": "scattercarpet"
           }
          ],
          "scattergeo": [
           {
            "marker": {
             "colorbar": {
              "outlinewidth": 0,
              "ticks": ""
             }
            },
            "type": "scattergeo"
           }
          ],
          "scattergl": [
           {
            "marker": {
             "colorbar": {
              "outlinewidth": 0,
              "ticks": ""
             }
            },
            "type": "scattergl"
           }
          ],
          "scattermapbox": [
           {
            "marker": {
             "colorbar": {
              "outlinewidth": 0,
              "ticks": ""
             }
            },
            "type": "scattermapbox"
           }
          ],
          "scatterpolar": [
           {
            "marker": {
             "colorbar": {
              "outlinewidth": 0,
              "ticks": ""
             }
            },
            "type": "scatterpolar"
           }
          ],
          "scatterpolargl": [
           {
            "marker": {
             "colorbar": {
              "outlinewidth": 0,
              "ticks": ""
             }
            },
            "type": "scatterpolargl"
           }
          ],
          "scatterternary": [
           {
            "marker": {
             "colorbar": {
              "outlinewidth": 0,
              "ticks": ""
             }
            },
            "type": "scatterternary"
           }
          ],
          "surface": [
           {
            "colorbar": {
             "outlinewidth": 0,
             "ticks": ""
            },
            "colorscale": [
             [
              0,
              "#0d0887"
             ],
             [
              0.1111111111111111,
              "#46039f"
             ],
             [
              0.2222222222222222,
              "#7201a8"
             ],
             [
              0.3333333333333333,
              "#9c179e"
             ],
             [
              0.4444444444444444,
              "#bd3786"
             ],
             [
              0.5555555555555556,
              "#d8576b"
             ],
             [
              0.6666666666666666,
              "#ed7953"
             ],
             [
              0.7777777777777778,
              "#fb9f3a"
             ],
             [
              0.8888888888888888,
              "#fdca26"
             ],
             [
              1,
              "#f0f921"
             ]
            ],
            "type": "surface"
           }
          ],
          "table": [
           {
            "cells": {
             "fill": {
              "color": "#EBF0F8"
             },
             "line": {
              "color": "white"
             }
            },
            "header": {
             "fill": {
              "color": "#C8D4E3"
             },
             "line": {
              "color": "white"
             }
            },
            "type": "table"
           }
          ]
         },
         "layout": {
          "annotationdefaults": {
           "arrowcolor": "#2a3f5f",
           "arrowhead": 0,
           "arrowwidth": 1
          },
          "autotypenumbers": "strict",
          "coloraxis": {
           "colorbar": {
            "outlinewidth": 0,
            "ticks": ""
           }
          },
          "colorscale": {
           "diverging": [
            [
             0,
             "#8e0152"
            ],
            [
             0.1,
             "#c51b7d"
            ],
            [
             0.2,
             "#de77ae"
            ],
            [
             0.3,
             "#f1b6da"
            ],
            [
             0.4,
             "#fde0ef"
            ],
            [
             0.5,
             "#f7f7f7"
            ],
            [
             0.6,
             "#e6f5d0"
            ],
            [
             0.7,
             "#b8e186"
            ],
            [
             0.8,
             "#7fbc41"
            ],
            [
             0.9,
             "#4d9221"
            ],
            [
             1,
             "#276419"
            ]
           ],
           "sequential": [
            [
             0,
             "#0d0887"
            ],
            [
             0.1111111111111111,
             "#46039f"
            ],
            [
             0.2222222222222222,
             "#7201a8"
            ],
            [
             0.3333333333333333,
             "#9c179e"
            ],
            [
             0.4444444444444444,
             "#bd3786"
            ],
            [
             0.5555555555555556,
             "#d8576b"
            ],
            [
             0.6666666666666666,
             "#ed7953"
            ],
            [
             0.7777777777777778,
             "#fb9f3a"
            ],
            [
             0.8888888888888888,
             "#fdca26"
            ],
            [
             1,
             "#f0f921"
            ]
           ],
           "sequentialminus": [
            [
             0,
             "#0d0887"
            ],
            [
             0.1111111111111111,
             "#46039f"
            ],
            [
             0.2222222222222222,
             "#7201a8"
            ],
            [
             0.3333333333333333,
             "#9c179e"
            ],
            [
             0.4444444444444444,
             "#bd3786"
            ],
            [
             0.5555555555555556,
             "#d8576b"
            ],
            [
             0.6666666666666666,
             "#ed7953"
            ],
            [
             0.7777777777777778,
             "#fb9f3a"
            ],
            [
             0.8888888888888888,
             "#fdca26"
            ],
            [
             1,
             "#f0f921"
            ]
           ]
          },
          "colorway": [
           "#636efa",
           "#EF553B",
           "#00cc96",
           "#ab63fa",
           "#FFA15A",
           "#19d3f3",
           "#FF6692",
           "#B6E880",
           "#FF97FF",
           "#FECB52"
          ],
          "font": {
           "color": "#2a3f5f"
          },
          "geo": {
           "bgcolor": "white",
           "lakecolor": "white",
           "landcolor": "#E5ECF6",
           "showlakes": true,
           "showland": true,
           "subunitcolor": "white"
          },
          "hoverlabel": {
           "align": "left"
          },
          "hovermode": "closest",
          "mapbox": {
           "style": "light"
          },
          "paper_bgcolor": "white",
          "plot_bgcolor": "#E5ECF6",
          "polar": {
           "angularaxis": {
            "gridcolor": "white",
            "linecolor": "white",
            "ticks": ""
           },
           "bgcolor": "#E5ECF6",
           "radialaxis": {
            "gridcolor": "white",
            "linecolor": "white",
            "ticks": ""
           }
          },
          "scene": {
           "xaxis": {
            "backgroundcolor": "#E5ECF6",
            "gridcolor": "white",
            "gridwidth": 2,
            "linecolor": "white",
            "showbackground": true,
            "ticks": "",
            "zerolinecolor": "white"
           },
           "yaxis": {
            "backgroundcolor": "#E5ECF6",
            "gridcolor": "white",
            "gridwidth": 2,
            "linecolor": "white",
            "showbackground": true,
            "ticks": "",
            "zerolinecolor": "white"
           },
           "zaxis": {
            "backgroundcolor": "#E5ECF6",
            "gridcolor": "white",
            "gridwidth": 2,
            "linecolor": "white",
            "showbackground": true,
            "ticks": "",
            "zerolinecolor": "white"
           }
          },
          "shapedefaults": {
           "line": {
            "color": "#2a3f5f"
           }
          },
          "ternary": {
           "aaxis": {
            "gridcolor": "white",
            "linecolor": "white",
            "ticks": ""
           },
           "baxis": {
            "gridcolor": "white",
            "linecolor": "white",
            "ticks": ""
           },
           "bgcolor": "#E5ECF6",
           "caxis": {
            "gridcolor": "white",
            "linecolor": "white",
            "ticks": ""
           }
          },
          "title": {
           "x": 0.05
          },
          "xaxis": {
           "automargin": true,
           "gridcolor": "white",
           "linecolor": "white",
           "ticks": "",
           "title": {
            "standoff": 15
           },
           "zerolinecolor": "white",
           "zerolinewidth": 2
          },
          "yaxis": {
           "automargin": true,
           "gridcolor": "white",
           "linecolor": "white",
           "ticks": "",
           "title": {
            "standoff": 15
           },
           "zerolinecolor": "white",
           "zerolinewidth": 2
          }
         }
        },
        "title": {
         "text": "Distribution of Explicit Uses"
        },
        "xaxis": {
         "anchor": "y",
         "domain": [
          0,
          1
         ],
         "title": {
          "text": "Type of Use"
         }
        },
        "yaxis": {
         "anchor": "x",
         "domain": [
          0,
          1
         ],
         "title": {
          "text": "Number of Instances"
         }
        }
       }
      }
     },
     "metadata": {},
     "output_type": "display_data"
    }
   ],
   "source": [
    "import plotly.express as px\n",
    "\n",
    "# Count the instances for each unique value in 'explicitUses'\n",
    "value_counts = df['explicitUses'].value_counts().reset_index()\n",
    "value_counts.columns = ['Type of Use', 'Number of Instances']\n",
    "\n",
    "# Create the bar chart\n",
    "fig = px.bar(value_counts,\n",
    "             x='Type of Use', \n",
    "             y='Number of Instances',\n",
    "             title='Distribution of Explicit Uses')\n",
    "\n",
    "fig.show()\n"
   ]
  },
  {
   "cell_type": "code",
   "execution_count": null,
   "metadata": {},
   "outputs": [],
   "source": [
    "fig = px.histogram(df, x='status', title=\"Distribution of Project Statuses\")\n",
    "fig.show()\n"
   ]
  },
  {
   "cell_type": "code",
   "execution_count": 37,
   "metadata": {},
   "outputs": [
    {
     "data": {
      "application/vnd.plotly.v1+json": {
       "config": {
        "plotlyServerURL": "https://plot.ly"
       },
       "data": [
        {
         "alignmentgroup": "True",
         "bingroup": "x",
         "hovertemplate": "typeOfUse=Other<br>city=%{x}<br>count=%{y}<extra></extra>",
         "legendgroup": "Other",
         "marker": {
          "color": "#636efa",
          "pattern": {
           "shape": ""
          }
         },
         "name": "Other",
         "offsetgroup": "Other",
         "orientation": "v",
         "showlegend": true,
         "type": "histogram",
         "x": [
          "Anaheim",
          "Anaheim",
          "Anaheim",
          "Anaheim",
          "Anaheim",
          "Anaheim",
          "Anaheim",
          "Anaheim",
          "Anaheim",
          "Anaheim",
          "Anaheim",
          "Anaheim",
          "Anaheim",
          "Anaheim",
          "Anaheim",
          "Anaheim",
          "Anaheim",
          "Anaheim",
          "Anaheim",
          "Anaheim",
          "Anaheim",
          "Anaheim",
          "Anaheim",
          "Anaheim",
          "Anaheim",
          "Anaheim",
          "Anaheim",
          "Anaheim",
          "Anaheim",
          "Anaheim",
          "Anaheim",
          "Anaheim",
          "Anaheim",
          "Anaheim",
          "Anaheim",
          "Anaheim",
          "Anaheim",
          "Anaheim",
          "Anaheim",
          "Anaheim",
          "Anaheim",
          "Anaheim",
          "Anaheim",
          "Anaheim",
          "Anaheim",
          "Anaheim",
          "Anaheim",
          "Anaheim",
          "Anaheim",
          "Anaheim",
          "Anaheim",
          "Anaheim",
          "Anaheim",
          "Anaheim",
          "Anaheim",
          "Anaheim",
          "Anaheim",
          "Anaheim",
          "Anaheim",
          "Anaheim",
          "Anaheim",
          "Anaheim",
          "Anaheim",
          "Anaheim",
          "Anaheim",
          "Anaheim",
          "Anaheim",
          "Anaheim",
          "Anaheim",
          "Anaheim",
          "Anaheim",
          "Anaheim",
          "Anaheim",
          "Anaheim",
          "Anaheim",
          "Anaheim",
          "Anaheim",
          "Anaheim",
          "Anaheim",
          "Anaheim",
          "Anaheim",
          "Anaheim",
          "Anaheim",
          "Anaheim",
          "Anaheim",
          "Anaheim"
         ],
         "xaxis": "x",
         "yaxis": "y"
        },
        {
         "alignmentgroup": "True",
         "bingroup": "x",
         "hovertemplate": "typeOfUse=Commercial<br>city=%{x}<br>count=%{y}<extra></extra>",
         "legendgroup": "Commercial",
         "marker": {
          "color": "#EF553B",
          "pattern": {
           "shape": ""
          }
         },
         "name": "Commercial",
         "offsetgroup": "Commercial",
         "orientation": "v",
         "showlegend": true,
         "type": "histogram",
         "x": [
          "Anaheim",
          "Anaheim",
          "Anaheim",
          "Anaheim",
          "Anaheim",
          "Anaheim",
          "Anaheim",
          "Anaheim",
          "Anaheim",
          "Anaheim",
          "Anaheim",
          "Anaheim",
          "Anaheim",
          "Anaheim",
          "Anaheim",
          "Anaheim",
          "Anaheim",
          "Anaheim",
          "Anaheim",
          "Anaheim",
          "Anaheim",
          "Anaheim",
          "Anaheim",
          "Anaheim",
          "Anaheim",
          "Anaheim",
          "Anaheim",
          "Anaheim",
          "Anaheim",
          "Anaheim",
          "Anaheim",
          "Anaheim",
          "Anaheim",
          "Anaheim",
          "Anaheim",
          "Anaheim",
          "Anaheim",
          "Anaheim",
          "Anaheim",
          "Anaheim",
          "Anaheim",
          "Anaheim",
          "Anaheim",
          "Anaheim",
          "Anaheim",
          "Anaheim",
          "Anaheim",
          "Anaheim",
          "Anaheim",
          "Anaheim",
          "Anaheim",
          "Anaheim",
          "Anaheim",
          "Anaheim",
          "Anaheim",
          "Anaheim",
          "Anaheim",
          "Anaheim",
          "Anaheim",
          "Anaheim",
          "Anaheim",
          "Anaheim",
          "Anaheim",
          "Anaheim",
          "Anaheim",
          "Anaheim",
          "Anaheim",
          "Anaheim",
          "Anaheim",
          "Anaheim",
          "Anaheim",
          "Anaheim",
          "Anaheim",
          "Anaheim",
          "Anaheim",
          "Anaheim",
          "Anaheim",
          "Anaheim",
          "Anaheim",
          "Anaheim",
          "Anaheim",
          "Anaheim",
          "Anaheim",
          "Anaheim",
          "Anaheim",
          "Anaheim",
          "Anaheim",
          "Anaheim",
          "Anaheim",
          "Anaheim",
          "Anaheim",
          "Anaheim",
          "Anaheim",
          "Anaheim",
          "Anaheim",
          "Anaheim",
          "Anaheim",
          "Anaheim",
          "Anaheim",
          "Anaheim",
          "Anaheim",
          "Anaheim",
          "Anaheim",
          "Anaheim",
          "Anaheim",
          "Anaheim",
          "Anaheim",
          "Anaheim",
          "Anaheim",
          "Anaheim",
          "Anaheim",
          "Anaheim",
          "Anaheim",
          "Anaheim",
          "Anaheim",
          "Anaheim",
          "Anaheim",
          "Anaheim",
          "Anaheim",
          "Anaheim",
          "Anaheim",
          "Anaheim",
          "Anaheim",
          "Anaheim",
          "Anaheim",
          "Anaheim",
          "Anaheim",
          "Anaheim",
          "Anaheim",
          "Anaheim",
          "Anaheim",
          "Anaheim",
          "Anaheim",
          "Anaheim",
          "Anaheim",
          "Anaheim",
          "Anaheim",
          "Anaheim",
          "Anaheim",
          "Anaheim",
          "Anaheim",
          "Anaheim",
          "Anaheim",
          "Anaheim",
          "Anaheim",
          "Anaheim",
          "Anaheim",
          "Anaheim",
          "Anaheim",
          "Anaheim",
          "Anaheim",
          "Anaheim",
          "Anaheim",
          "Anaheim"
         ],
         "xaxis": "x",
         "yaxis": "y"
        },
        {
         "alignmentgroup": "True",
         "bingroup": "x",
         "hovertemplate": "typeOfUse=Residential<br>city=%{x}<br>count=%{y}<extra></extra>",
         "legendgroup": "Residential",
         "marker": {
          "color": "#00cc96",
          "pattern": {
           "shape": ""
          }
         },
         "name": "Residential",
         "offsetgroup": "Residential",
         "orientation": "v",
         "showlegend": true,
         "type": "histogram",
         "x": [
          "Anaheim",
          "Anaheim",
          "Anaheim",
          "Anaheim",
          "Anaheim",
          "Anaheim",
          "Anaheim",
          "Anaheim",
          "Anaheim",
          "Anaheim",
          "Anaheim",
          "Anaheim",
          "Anaheim",
          "Anaheim",
          "Anaheim",
          "Anaheim",
          "Anaheim",
          "Anaheim",
          "Anaheim",
          "Anaheim",
          "Anaheim",
          "Anaheim",
          "Anaheim",
          "Anaheim",
          "Anaheim",
          "Anaheim",
          "Anaheim",
          "Anaheim",
          "Anaheim",
          "Anaheim",
          "Anaheim",
          "Anaheim",
          "Anaheim",
          "Anaheim",
          "Anaheim",
          "Anaheim",
          "Anaheim",
          "Anaheim",
          "Anaheim",
          "Anaheim",
          "Anaheim",
          "Anaheim",
          "Anaheim",
          "Anaheim",
          "Anaheim",
          "Anaheim",
          "Anaheim",
          "Anaheim",
          "Anaheim",
          "Anaheim",
          "Anaheim",
          "Anaheim",
          "Anaheim",
          "Anaheim",
          "Anaheim",
          "Anaheim",
          "Anaheim",
          "Anaheim",
          "Anaheim",
          "Anaheim",
          "Anaheim",
          "Anaheim",
          "Anaheim",
          "Anaheim",
          "Anaheim",
          "Anaheim",
          "Anaheim",
          "Anaheim",
          "Anaheim",
          "Anaheim",
          "Anaheim",
          "Anaheim",
          "Anaheim",
          "Anaheim",
          "Anaheim",
          "Anaheim",
          "Anaheim",
          "Anaheim",
          "Anaheim",
          "Anaheim",
          "Anaheim",
          "Anaheim",
          "Anaheim",
          "Anaheim",
          "Anaheim",
          "Anaheim",
          "Anaheim",
          "Anaheim",
          "Anaheim",
          "Anaheim",
          "Anaheim",
          "Anaheim",
          "Anaheim",
          "Anaheim",
          "Anaheim",
          "Anaheim",
          "Anaheim",
          "Anaheim",
          "Anaheim",
          "Anaheim",
          "Anaheim",
          "Anaheim",
          "Anaheim",
          "Anaheim",
          "Anaheim",
          "Fullerton",
          "Fullerton"
         ],
         "xaxis": "x",
         "yaxis": "y"
        },
        {
         "alignmentgroup": "True",
         "bingroup": "x",
         "hovertemplate": "typeOfUse=Industrial<br>city=%{x}<br>count=%{y}<extra></extra>",
         "legendgroup": "Industrial",
         "marker": {
          "color": "#ab63fa",
          "pattern": {
           "shape": ""
          }
         },
         "name": "Industrial",
         "offsetgroup": "Industrial",
         "orientation": "v",
         "showlegend": true,
         "type": "histogram",
         "x": [
          "Anaheim",
          "Anaheim",
          "Anaheim",
          "Anaheim",
          "Anaheim",
          "Anaheim",
          "Anaheim",
          "Anaheim",
          "Anaheim",
          "Anaheim",
          "Anaheim",
          "Anaheim",
          "Anaheim",
          "Anaheim",
          "Anaheim",
          "Anaheim",
          "Anaheim",
          "Anaheim",
          "Anaheim",
          "Anaheim",
          "Anaheim",
          "Anaheim",
          "Anaheim",
          "Anaheim",
          "Anaheim",
          "Anaheim",
          "Anaheim",
          "Anaheim",
          "Anaheim",
          "Anaheim",
          "Anaheim",
          "Anaheim",
          "Anaheim",
          "Anaheim",
          "Anaheim",
          "Anaheim",
          "Anaheim",
          "Anaheim",
          "Anaheim",
          "Anaheim",
          "Anaheim",
          "Anaheim",
          "Anaheim",
          "Anaheim",
          "Anaheim"
         ],
         "xaxis": "x",
         "yaxis": "y"
        },
        {
         "alignmentgroup": "True",
         "bingroup": "x",
         "hovertemplate": "typeOfUse=Mixed Use<br>city=%{x}<br>count=%{y}<extra></extra>",
         "legendgroup": "Mixed Use",
         "marker": {
          "color": "#FFA15A",
          "pattern": {
           "shape": ""
          }
         },
         "name": "Mixed Use",
         "offsetgroup": "Mixed Use",
         "orientation": "v",
         "showlegend": true,
         "type": "histogram",
         "x": [
          "Anaheim",
          "Anaheim",
          "Anaheim",
          "Fullerton"
         ],
         "xaxis": "x",
         "yaxis": "y"
        },
        {
         "alignmentgroup": "True",
         "bingroup": "x",
         "hovertemplate": "typeOfUse=Industrial Development<br>city=%{x}<br>count=%{y}<extra></extra>",
         "legendgroup": "Industrial Development",
         "marker": {
          "color": "#19d3f3",
          "pattern": {
           "shape": ""
          }
         },
         "name": "Industrial Development",
         "offsetgroup": "Industrial Development",
         "orientation": "v",
         "showlegend": true,
         "type": "histogram",
         "x": [
          "Fullerton",
          "Fullerton"
         ],
         "xaxis": "x",
         "yaxis": "y"
        },
        {
         "alignmentgroup": "True",
         "bingroup": "x",
         "hovertemplate": "typeOfUse= Industrial Development<br>city=%{x}<br>count=%{y}<extra></extra>",
         "legendgroup": " Industrial Development",
         "marker": {
          "color": "#FF6692",
          "pattern": {
           "shape": ""
          }
         },
         "name": " Industrial Development",
         "offsetgroup": " Industrial Development",
         "orientation": "v",
         "showlegend": true,
         "type": "histogram",
         "x": [
          "Fullerton"
         ],
         "xaxis": "x",
         "yaxis": "y"
        },
        {
         "alignmentgroup": "True",
         "bingroup": "x",
         "hovertemplate": "typeOfUse=Commercial Development<br>city=%{x}<br>count=%{y}<extra></extra>",
         "legendgroup": "Commercial Development",
         "marker": {
          "color": "#B6E880",
          "pattern": {
           "shape": ""
          }
         },
         "name": "Commercial Development",
         "offsetgroup": "Commercial Development",
         "orientation": "v",
         "showlegend": true,
         "type": "histogram",
         "x": [
          "Fullerton"
         ],
         "xaxis": "x",
         "yaxis": "y"
        },
        {
         "alignmentgroup": "True",
         "bingroup": "x",
         "hovertemplate": "typeOfUse=New Industrial Development<br>city=%{x}<br>count=%{y}<extra></extra>",
         "legendgroup": "New Industrial Development",
         "marker": {
          "color": "#FF97FF",
          "pattern": {
           "shape": ""
          }
         },
         "name": "New Industrial Development",
         "offsetgroup": "New Industrial Development",
         "orientation": "v",
         "showlegend": true,
         "type": "histogram",
         "x": [
          "Fullerton"
         ],
         "xaxis": "x",
         "yaxis": "y"
        },
        {
         "alignmentgroup": "True",
         "bingroup": "x",
         "hovertemplate": "typeOfUse=Mixed-Use<br>city=%{x}<br>count=%{y}<extra></extra>",
         "legendgroup": "Mixed-Use",
         "marker": {
          "color": "#FECB52",
          "pattern": {
           "shape": ""
          }
         },
         "name": "Mixed-Use",
         "offsetgroup": "Mixed-Use",
         "orientation": "v",
         "showlegend": true,
         "type": "histogram",
         "x": [
          "Fullerton",
          "Fullerton"
         ],
         "xaxis": "x",
         "yaxis": "y"
        },
        {
         "alignmentgroup": "True",
         "bingroup": "x",
         "hovertemplate": "typeOfUse=Student-Oriented Housing<br>city=%{x}<br>count=%{y}<extra></extra>",
         "legendgroup": "Student-Oriented Housing",
         "marker": {
          "color": "#636efa",
          "pattern": {
           "shape": ""
          }
         },
         "name": "Student-Oriented Housing",
         "offsetgroup": "Student-Oriented Housing",
         "orientation": "v",
         "showlegend": true,
         "type": "histogram",
         "x": [
          "Fullerton"
         ],
         "xaxis": "x",
         "yaxis": "y"
        },
        {
         "alignmentgroup": "True",
         "bingroup": "x",
         "hovertemplate": "typeOfUse=Residential - SFD & Townhomes<br>city=%{x}<br>count=%{y}<extra></extra>",
         "legendgroup": "Residential - SFD & Townhomes",
         "marker": {
          "color": "#EF553B",
          "pattern": {
           "shape": ""
          }
         },
         "name": "Residential - SFD & Townhomes",
         "offsetgroup": "Residential - SFD & Townhomes",
         "orientation": "v",
         "showlegend": true,
         "type": "histogram",
         "x": [
          "Fullerton"
         ],
         "xaxis": "x",
         "yaxis": "y"
        },
        {
         "alignmentgroup": "True",
         "bingroup": "x",
         "hovertemplate": "typeOfUse= Residential<br>city=%{x}<br>count=%{y}<extra></extra>",
         "legendgroup": " Residential",
         "marker": {
          "color": "#00cc96",
          "pattern": {
           "shape": ""
          }
         },
         "name": " Residential",
         "offsetgroup": " Residential",
         "orientation": "v",
         "showlegend": true,
         "type": "histogram",
         "x": [
          "Fullerton",
          "Fullerton",
          "Fullerton"
         ],
         "xaxis": "x",
         "yaxis": "y"
        },
        {
         "alignmentgroup": "True",
         "bingroup": "x",
         "hovertemplate": "typeOfUse= Mixed- Use<br>city=%{x}<br>count=%{y}<extra></extra>",
         "legendgroup": " Mixed- Use",
         "marker": {
          "color": "#ab63fa",
          "pattern": {
           "shape": ""
          }
         },
         "name": " Mixed- Use",
         "offsetgroup": " Mixed- Use",
         "orientation": "v",
         "showlegend": true,
         "type": "histogram",
         "x": [
          "Fullerton"
         ],
         "xaxis": "x",
         "yaxis": "y"
        },
        {
         "alignmentgroup": "True",
         "bingroup": "x",
         "hovertemplate": "typeOfUse= Commercial<br>city=%{x}<br>count=%{y}<extra></extra>",
         "legendgroup": " Commercial",
         "marker": {
          "color": "#FFA15A",
          "pattern": {
           "shape": ""
          }
         },
         "name": " Commercial",
         "offsetgroup": " Commercial",
         "orientation": "v",
         "showlegend": true,
         "type": "histogram",
         "x": [
          "Fullerton",
          "Fullerton",
          "Fullerton",
          "Fullerton",
          "Fullerton",
          "Fullerton"
         ],
         "xaxis": "x",
         "yaxis": "y"
        },
        {
         "alignmentgroup": "True",
         "bingroup": "x",
         "hovertemplate": "typeOfUse=Residential, Open Space, Commercial Development<br>city=%{x}<br>count=%{y}<extra></extra>",
         "legendgroup": "Residential, Open Space, Commercial Development",
         "marker": {
          "color": "#19d3f3",
          "pattern": {
           "shape": ""
          }
         },
         "name": "Residential, Open Space, Commercial Development",
         "offsetgroup": "Residential, Open Space, Commercial Development",
         "orientation": "v",
         "showlegend": true,
         "type": "histogram",
         "x": [
          "Fullerton"
         ],
         "xaxis": "x",
         "yaxis": "y"
        }
       ],
       "layout": {
        "barmode": "relative",
        "legend": {
         "title": {
          "text": "typeOfUse"
         },
         "tracegroupgap": 0
        },
        "template": {
         "data": {
          "bar": [
           {
            "error_x": {
             "color": "#2a3f5f"
            },
            "error_y": {
             "color": "#2a3f5f"
            },
            "marker": {
             "line": {
              "color": "#E5ECF6",
              "width": 0.5
             },
             "pattern": {
              "fillmode": "overlay",
              "size": 10,
              "solidity": 0.2
             }
            },
            "type": "bar"
           }
          ],
          "barpolar": [
           {
            "marker": {
             "line": {
              "color": "#E5ECF6",
              "width": 0.5
             },
             "pattern": {
              "fillmode": "overlay",
              "size": 10,
              "solidity": 0.2
             }
            },
            "type": "barpolar"
           }
          ],
          "carpet": [
           {
            "aaxis": {
             "endlinecolor": "#2a3f5f",
             "gridcolor": "white",
             "linecolor": "white",
             "minorgridcolor": "white",
             "startlinecolor": "#2a3f5f"
            },
            "baxis": {
             "endlinecolor": "#2a3f5f",
             "gridcolor": "white",
             "linecolor": "white",
             "minorgridcolor": "white",
             "startlinecolor": "#2a3f5f"
            },
            "type": "carpet"
           }
          ],
          "choropleth": [
           {
            "colorbar": {
             "outlinewidth": 0,
             "ticks": ""
            },
            "type": "choropleth"
           }
          ],
          "contour": [
           {
            "colorbar": {
             "outlinewidth": 0,
             "ticks": ""
            },
            "colorscale": [
             [
              0,
              "#0d0887"
             ],
             [
              0.1111111111111111,
              "#46039f"
             ],
             [
              0.2222222222222222,
              "#7201a8"
             ],
             [
              0.3333333333333333,
              "#9c179e"
             ],
             [
              0.4444444444444444,
              "#bd3786"
             ],
             [
              0.5555555555555556,
              "#d8576b"
             ],
             [
              0.6666666666666666,
              "#ed7953"
             ],
             [
              0.7777777777777778,
              "#fb9f3a"
             ],
             [
              0.8888888888888888,
              "#fdca26"
             ],
             [
              1,
              "#f0f921"
             ]
            ],
            "type": "contour"
           }
          ],
          "contourcarpet": [
           {
            "colorbar": {
             "outlinewidth": 0,
             "ticks": ""
            },
            "type": "contourcarpet"
           }
          ],
          "heatmap": [
           {
            "colorbar": {
             "outlinewidth": 0,
             "ticks": ""
            },
            "colorscale": [
             [
              0,
              "#0d0887"
             ],
             [
              0.1111111111111111,
              "#46039f"
             ],
             [
              0.2222222222222222,
              "#7201a8"
             ],
             [
              0.3333333333333333,
              "#9c179e"
             ],
             [
              0.4444444444444444,
              "#bd3786"
             ],
             [
              0.5555555555555556,
              "#d8576b"
             ],
             [
              0.6666666666666666,
              "#ed7953"
             ],
             [
              0.7777777777777778,
              "#fb9f3a"
             ],
             [
              0.8888888888888888,
              "#fdca26"
             ],
             [
              1,
              "#f0f921"
             ]
            ],
            "type": "heatmap"
           }
          ],
          "heatmapgl": [
           {
            "colorbar": {
             "outlinewidth": 0,
             "ticks": ""
            },
            "colorscale": [
             [
              0,
              "#0d0887"
             ],
             [
              0.1111111111111111,
              "#46039f"
             ],
             [
              0.2222222222222222,
              "#7201a8"
             ],
             [
              0.3333333333333333,
              "#9c179e"
             ],
             [
              0.4444444444444444,
              "#bd3786"
             ],
             [
              0.5555555555555556,
              "#d8576b"
             ],
             [
              0.6666666666666666,
              "#ed7953"
             ],
             [
              0.7777777777777778,
              "#fb9f3a"
             ],
             [
              0.8888888888888888,
              "#fdca26"
             ],
             [
              1,
              "#f0f921"
             ]
            ],
            "type": "heatmapgl"
           }
          ],
          "histogram": [
           {
            "marker": {
             "pattern": {
              "fillmode": "overlay",
              "size": 10,
              "solidity": 0.2
             }
            },
            "type": "histogram"
           }
          ],
          "histogram2d": [
           {
            "colorbar": {
             "outlinewidth": 0,
             "ticks": ""
            },
            "colorscale": [
             [
              0,
              "#0d0887"
             ],
             [
              0.1111111111111111,
              "#46039f"
             ],
             [
              0.2222222222222222,
              "#7201a8"
             ],
             [
              0.3333333333333333,
              "#9c179e"
             ],
             [
              0.4444444444444444,
              "#bd3786"
             ],
             [
              0.5555555555555556,
              "#d8576b"
             ],
             [
              0.6666666666666666,
              "#ed7953"
             ],
             [
              0.7777777777777778,
              "#fb9f3a"
             ],
             [
              0.8888888888888888,
              "#fdca26"
             ],
             [
              1,
              "#f0f921"
             ]
            ],
            "type": "histogram2d"
           }
          ],
          "histogram2dcontour": [
           {
            "colorbar": {
             "outlinewidth": 0,
             "ticks": ""
            },
            "colorscale": [
             [
              0,
              "#0d0887"
             ],
             [
              0.1111111111111111,
              "#46039f"
             ],
             [
              0.2222222222222222,
              "#7201a8"
             ],
             [
              0.3333333333333333,
              "#9c179e"
             ],
             [
              0.4444444444444444,
              "#bd3786"
             ],
             [
              0.5555555555555556,
              "#d8576b"
             ],
             [
              0.6666666666666666,
              "#ed7953"
             ],
             [
              0.7777777777777778,
              "#fb9f3a"
             ],
             [
              0.8888888888888888,
              "#fdca26"
             ],
             [
              1,
              "#f0f921"
             ]
            ],
            "type": "histogram2dcontour"
           }
          ],
          "mesh3d": [
           {
            "colorbar": {
             "outlinewidth": 0,
             "ticks": ""
            },
            "type": "mesh3d"
           }
          ],
          "parcoords": [
           {
            "line": {
             "colorbar": {
              "outlinewidth": 0,
              "ticks": ""
             }
            },
            "type": "parcoords"
           }
          ],
          "pie": [
           {
            "automargin": true,
            "type": "pie"
           }
          ],
          "scatter": [
           {
            "fillpattern": {
             "fillmode": "overlay",
             "size": 10,
             "solidity": 0.2
            },
            "type": "scatter"
           }
          ],
          "scatter3d": [
           {
            "line": {
             "colorbar": {
              "outlinewidth": 0,
              "ticks": ""
             }
            },
            "marker": {
             "colorbar": {
              "outlinewidth": 0,
              "ticks": ""
             }
            },
            "type": "scatter3d"
           }
          ],
          "scattercarpet": [
           {
            "marker": {
             "colorbar": {
              "outlinewidth": 0,
              "ticks": ""
             }
            },
            "type": "scattercarpet"
           }
          ],
          "scattergeo": [
           {
            "marker": {
             "colorbar": {
              "outlinewidth": 0,
              "ticks": ""
             }
            },
            "type": "scattergeo"
           }
          ],
          "scattergl": [
           {
            "marker": {
             "colorbar": {
              "outlinewidth": 0,
              "ticks": ""
             }
            },
            "type": "scattergl"
           }
          ],
          "scattermapbox": [
           {
            "marker": {
             "colorbar": {
              "outlinewidth": 0,
              "ticks": ""
             }
            },
            "type": "scattermapbox"
           }
          ],
          "scatterpolar": [
           {
            "marker": {
             "colorbar": {
              "outlinewidth": 0,
              "ticks": ""
             }
            },
            "type": "scatterpolar"
           }
          ],
          "scatterpolargl": [
           {
            "marker": {
             "colorbar": {
              "outlinewidth": 0,
              "ticks": ""
             }
            },
            "type": "scatterpolargl"
           }
          ],
          "scatterternary": [
           {
            "marker": {
             "colorbar": {
              "outlinewidth": 0,
              "ticks": ""
             }
            },
            "type": "scatterternary"
           }
          ],
          "surface": [
           {
            "colorbar": {
             "outlinewidth": 0,
             "ticks": ""
            },
            "colorscale": [
             [
              0,
              "#0d0887"
             ],
             [
              0.1111111111111111,
              "#46039f"
             ],
             [
              0.2222222222222222,
              "#7201a8"
             ],
             [
              0.3333333333333333,
              "#9c179e"
             ],
             [
              0.4444444444444444,
              "#bd3786"
             ],
             [
              0.5555555555555556,
              "#d8576b"
             ],
             [
              0.6666666666666666,
              "#ed7953"
             ],
             [
              0.7777777777777778,
              "#fb9f3a"
             ],
             [
              0.8888888888888888,
              "#fdca26"
             ],
             [
              1,
              "#f0f921"
             ]
            ],
            "type": "surface"
           }
          ],
          "table": [
           {
            "cells": {
             "fill": {
              "color": "#EBF0F8"
             },
             "line": {
              "color": "white"
             }
            },
            "header": {
             "fill": {
              "color": "#C8D4E3"
             },
             "line": {
              "color": "white"
             }
            },
            "type": "table"
           }
          ]
         },
         "layout": {
          "annotationdefaults": {
           "arrowcolor": "#2a3f5f",
           "arrowhead": 0,
           "arrowwidth": 1
          },
          "autotypenumbers": "strict",
          "coloraxis": {
           "colorbar": {
            "outlinewidth": 0,
            "ticks": ""
           }
          },
          "colorscale": {
           "diverging": [
            [
             0,
             "#8e0152"
            ],
            [
             0.1,
             "#c51b7d"
            ],
            [
             0.2,
             "#de77ae"
            ],
            [
             0.3,
             "#f1b6da"
            ],
            [
             0.4,
             "#fde0ef"
            ],
            [
             0.5,
             "#f7f7f7"
            ],
            [
             0.6,
             "#e6f5d0"
            ],
            [
             0.7,
             "#b8e186"
            ],
            [
             0.8,
             "#7fbc41"
            ],
            [
             0.9,
             "#4d9221"
            ],
            [
             1,
             "#276419"
            ]
           ],
           "sequential": [
            [
             0,
             "#0d0887"
            ],
            [
             0.1111111111111111,
             "#46039f"
            ],
            [
             0.2222222222222222,
             "#7201a8"
            ],
            [
             0.3333333333333333,
             "#9c179e"
            ],
            [
             0.4444444444444444,
             "#bd3786"
            ],
            [
             0.5555555555555556,
             "#d8576b"
            ],
            [
             0.6666666666666666,
             "#ed7953"
            ],
            [
             0.7777777777777778,
             "#fb9f3a"
            ],
            [
             0.8888888888888888,
             "#fdca26"
            ],
            [
             1,
             "#f0f921"
            ]
           ],
           "sequentialminus": [
            [
             0,
             "#0d0887"
            ],
            [
             0.1111111111111111,
             "#46039f"
            ],
            [
             0.2222222222222222,
             "#7201a8"
            ],
            [
             0.3333333333333333,
             "#9c179e"
            ],
            [
             0.4444444444444444,
             "#bd3786"
            ],
            [
             0.5555555555555556,
             "#d8576b"
            ],
            [
             0.6666666666666666,
             "#ed7953"
            ],
            [
             0.7777777777777778,
             "#fb9f3a"
            ],
            [
             0.8888888888888888,
             "#fdca26"
            ],
            [
             1,
             "#f0f921"
            ]
           ]
          },
          "colorway": [
           "#636efa",
           "#EF553B",
           "#00cc96",
           "#ab63fa",
           "#FFA15A",
           "#19d3f3",
           "#FF6692",
           "#B6E880",
           "#FF97FF",
           "#FECB52"
          ],
          "font": {
           "color": "#2a3f5f"
          },
          "geo": {
           "bgcolor": "white",
           "lakecolor": "white",
           "landcolor": "#E5ECF6",
           "showlakes": true,
           "showland": true,
           "subunitcolor": "white"
          },
          "hoverlabel": {
           "align": "left"
          },
          "hovermode": "closest",
          "mapbox": {
           "style": "light"
          },
          "paper_bgcolor": "white",
          "plot_bgcolor": "#E5ECF6",
          "polar": {
           "angularaxis": {
            "gridcolor": "white",
            "linecolor": "white",
            "ticks": ""
           },
           "bgcolor": "#E5ECF6",
           "radialaxis": {
            "gridcolor": "white",
            "linecolor": "white",
            "ticks": ""
           }
          },
          "scene": {
           "xaxis": {
            "backgroundcolor": "#E5ECF6",
            "gridcolor": "white",
            "gridwidth": 2,
            "linecolor": "white",
            "showbackground": true,
            "ticks": "",
            "zerolinecolor": "white"
           },
           "yaxis": {
            "backgroundcolor": "#E5ECF6",
            "gridcolor": "white",
            "gridwidth": 2,
            "linecolor": "white",
            "showbackground": true,
            "ticks": "",
            "zerolinecolor": "white"
           },
           "zaxis": {
            "backgroundcolor": "#E5ECF6",
            "gridcolor": "white",
            "gridwidth": 2,
            "linecolor": "white",
            "showbackground": true,
            "ticks": "",
            "zerolinecolor": "white"
           }
          },
          "shapedefaults": {
           "line": {
            "color": "#2a3f5f"
           }
          },
          "ternary": {
           "aaxis": {
            "gridcolor": "white",
            "linecolor": "white",
            "ticks": ""
           },
           "baxis": {
            "gridcolor": "white",
            "linecolor": "white",
            "ticks": ""
           },
           "bgcolor": "#E5ECF6",
           "caxis": {
            "gridcolor": "white",
            "linecolor": "white",
            "ticks": ""
           }
          },
          "title": {
           "x": 0.05
          },
          "xaxis": {
           "automargin": true,
           "gridcolor": "white",
           "linecolor": "white",
           "ticks": "",
           "title": {
            "standoff": 15
           },
           "zerolinecolor": "white",
           "zerolinewidth": 2
          },
          "yaxis": {
           "automargin": true,
           "gridcolor": "white",
           "linecolor": "white",
           "ticks": "",
           "title": {
            "standoff": 15
           },
           "zerolinecolor": "white",
           "zerolinewidth": 2
          }
         }
        },
        "title": {
         "text": "Distribution of Development Types by City"
        },
        "xaxis": {
         "anchor": "y",
         "domain": [
          0,
          1
         ],
         "title": {
          "text": "city"
         }
        },
        "yaxis": {
         "anchor": "x",
         "domain": [
          0,
          1
         ],
         "title": {
          "text": "count"
         }
        }
       }
      }
     },
     "metadata": {},
     "output_type": "display_data"
    }
   ],
   "source": [
    "fig = px.histogram(df, x='city', color='typeOfUse', title=\"Distribution of Development Types by City\")\n",
    "fig.show()\n"
   ]
  },
  {
   "cell_type": "code",
   "execution_count": 36,
   "metadata": {},
   "outputs": [
    {
     "data": {
      "application/vnd.plotly.v1+json": {
       "config": {
        "plotlyServerURL": "https://plot.ly"
       },
       "data": [
        {
         "alignmentgroup": "True",
         "hovertemplate": "typeOfUse=%{x}<br>approval_rate=%{y}<extra></extra>",
         "legendgroup": "",
         "marker": {
          "color": "#636efa",
          "pattern": {
           "shape": ""
          }
         },
         "name": "",
         "offsetgroup": "",
         "orientation": "v",
         "showlegend": false,
         "textposition": "auto",
         "type": "bar",
         "x": [
          " Commercial",
          " Industrial Development",
          " Mixed- Use",
          " Residential",
          "Commercial",
          "Commercial Development",
          "Industrial",
          "Industrial Development",
          "Mixed Use",
          "Mixed-Use",
          "New Industrial Development",
          "Other",
          "Residential",
          "Residential - SFD & Townhomes",
          "Residential, Open Space, Commercial Development",
          "Student-Oriented Housing"
         ],
         "xaxis": "x",
         "y": [
          0,
          0,
          0,
          0,
          0.3246753246753247,
          0,
          0.15555555555555556,
          0,
          0.25,
          0,
          0,
          0.313953488372093,
          0.18691588785046728,
          0,
          0,
          0
         ],
         "yaxis": "y"
        }
       ],
       "layout": {
        "barmode": "relative",
        "legend": {
         "tracegroupgap": 0
        },
        "template": {
         "data": {
          "bar": [
           {
            "error_x": {
             "color": "#2a3f5f"
            },
            "error_y": {
             "color": "#2a3f5f"
            },
            "marker": {
             "line": {
              "color": "#E5ECF6",
              "width": 0.5
             },
             "pattern": {
              "fillmode": "overlay",
              "size": 10,
              "solidity": 0.2
             }
            },
            "type": "bar"
           }
          ],
          "barpolar": [
           {
            "marker": {
             "line": {
              "color": "#E5ECF6",
              "width": 0.5
             },
             "pattern": {
              "fillmode": "overlay",
              "size": 10,
              "solidity": 0.2
             }
            },
            "type": "barpolar"
           }
          ],
          "carpet": [
           {
            "aaxis": {
             "endlinecolor": "#2a3f5f",
             "gridcolor": "white",
             "linecolor": "white",
             "minorgridcolor": "white",
             "startlinecolor": "#2a3f5f"
            },
            "baxis": {
             "endlinecolor": "#2a3f5f",
             "gridcolor": "white",
             "linecolor": "white",
             "minorgridcolor": "white",
             "startlinecolor": "#2a3f5f"
            },
            "type": "carpet"
           }
          ],
          "choropleth": [
           {
            "colorbar": {
             "outlinewidth": 0,
             "ticks": ""
            },
            "type": "choropleth"
           }
          ],
          "contour": [
           {
            "colorbar": {
             "outlinewidth": 0,
             "ticks": ""
            },
            "colorscale": [
             [
              0,
              "#0d0887"
             ],
             [
              0.1111111111111111,
              "#46039f"
             ],
             [
              0.2222222222222222,
              "#7201a8"
             ],
             [
              0.3333333333333333,
              "#9c179e"
             ],
             [
              0.4444444444444444,
              "#bd3786"
             ],
             [
              0.5555555555555556,
              "#d8576b"
             ],
             [
              0.6666666666666666,
              "#ed7953"
             ],
             [
              0.7777777777777778,
              "#fb9f3a"
             ],
             [
              0.8888888888888888,
              "#fdca26"
             ],
             [
              1,
              "#f0f921"
             ]
            ],
            "type": "contour"
           }
          ],
          "contourcarpet": [
           {
            "colorbar": {
             "outlinewidth": 0,
             "ticks": ""
            },
            "type": "contourcarpet"
           }
          ],
          "heatmap": [
           {
            "colorbar": {
             "outlinewidth": 0,
             "ticks": ""
            },
            "colorscale": [
             [
              0,
              "#0d0887"
             ],
             [
              0.1111111111111111,
              "#46039f"
             ],
             [
              0.2222222222222222,
              "#7201a8"
             ],
             [
              0.3333333333333333,
              "#9c179e"
             ],
             [
              0.4444444444444444,
              "#bd3786"
             ],
             [
              0.5555555555555556,
              "#d8576b"
             ],
             [
              0.6666666666666666,
              "#ed7953"
             ],
             [
              0.7777777777777778,
              "#fb9f3a"
             ],
             [
              0.8888888888888888,
              "#fdca26"
             ],
             [
              1,
              "#f0f921"
             ]
            ],
            "type": "heatmap"
           }
          ],
          "heatmapgl": [
           {
            "colorbar": {
             "outlinewidth": 0,
             "ticks": ""
            },
            "colorscale": [
             [
              0,
              "#0d0887"
             ],
             [
              0.1111111111111111,
              "#46039f"
             ],
             [
              0.2222222222222222,
              "#7201a8"
             ],
             [
              0.3333333333333333,
              "#9c179e"
             ],
             [
              0.4444444444444444,
              "#bd3786"
             ],
             [
              0.5555555555555556,
              "#d8576b"
             ],
             [
              0.6666666666666666,
              "#ed7953"
             ],
             [
              0.7777777777777778,
              "#fb9f3a"
             ],
             [
              0.8888888888888888,
              "#fdca26"
             ],
             [
              1,
              "#f0f921"
             ]
            ],
            "type": "heatmapgl"
           }
          ],
          "histogram": [
           {
            "marker": {
             "pattern": {
              "fillmode": "overlay",
              "size": 10,
              "solidity": 0.2
             }
            },
            "type": "histogram"
           }
          ],
          "histogram2d": [
           {
            "colorbar": {
             "outlinewidth": 0,
             "ticks": ""
            },
            "colorscale": [
             [
              0,
              "#0d0887"
             ],
             [
              0.1111111111111111,
              "#46039f"
             ],
             [
              0.2222222222222222,
              "#7201a8"
             ],
             [
              0.3333333333333333,
              "#9c179e"
             ],
             [
              0.4444444444444444,
              "#bd3786"
             ],
             [
              0.5555555555555556,
              "#d8576b"
             ],
             [
              0.6666666666666666,
              "#ed7953"
             ],
             [
              0.7777777777777778,
              "#fb9f3a"
             ],
             [
              0.8888888888888888,
              "#fdca26"
             ],
             [
              1,
              "#f0f921"
             ]
            ],
            "type": "histogram2d"
           }
          ],
          "histogram2dcontour": [
           {
            "colorbar": {
             "outlinewidth": 0,
             "ticks": ""
            },
            "colorscale": [
             [
              0,
              "#0d0887"
             ],
             [
              0.1111111111111111,
              "#46039f"
             ],
             [
              0.2222222222222222,
              "#7201a8"
             ],
             [
              0.3333333333333333,
              "#9c179e"
             ],
             [
              0.4444444444444444,
              "#bd3786"
             ],
             [
              0.5555555555555556,
              "#d8576b"
             ],
             [
              0.6666666666666666,
              "#ed7953"
             ],
             [
              0.7777777777777778,
              "#fb9f3a"
             ],
             [
              0.8888888888888888,
              "#fdca26"
             ],
             [
              1,
              "#f0f921"
             ]
            ],
            "type": "histogram2dcontour"
           }
          ],
          "mesh3d": [
           {
            "colorbar": {
             "outlinewidth": 0,
             "ticks": ""
            },
            "type": "mesh3d"
           }
          ],
          "parcoords": [
           {
            "line": {
             "colorbar": {
              "outlinewidth": 0,
              "ticks": ""
             }
            },
            "type": "parcoords"
           }
          ],
          "pie": [
           {
            "automargin": true,
            "type": "pie"
           }
          ],
          "scatter": [
           {
            "fillpattern": {
             "fillmode": "overlay",
             "size": 10,
             "solidity": 0.2
            },
            "type": "scatter"
           }
          ],
          "scatter3d": [
           {
            "line": {
             "colorbar": {
              "outlinewidth": 0,
              "ticks": ""
             }
            },
            "marker": {
             "colorbar": {
              "outlinewidth": 0,
              "ticks": ""
             }
            },
            "type": "scatter3d"
           }
          ],
          "scattercarpet": [
           {
            "marker": {
             "colorbar": {
              "outlinewidth": 0,
              "ticks": ""
             }
            },
            "type": "scattercarpet"
           }
          ],
          "scattergeo": [
           {
            "marker": {
             "colorbar": {
              "outlinewidth": 0,
              "ticks": ""
             }
            },
            "type": "scattergeo"
           }
          ],
          "scattergl": [
           {
            "marker": {
             "colorbar": {
              "outlinewidth": 0,
              "ticks": ""
             }
            },
            "type": "scattergl"
           }
          ],
          "scattermapbox": [
           {
            "marker": {
             "colorbar": {
              "outlinewidth": 0,
              "ticks": ""
             }
            },
            "type": "scattermapbox"
           }
          ],
          "scatterpolar": [
           {
            "marker": {
             "colorbar": {
              "outlinewidth": 0,
              "ticks": ""
             }
            },
            "type": "scatterpolar"
           }
          ],
          "scatterpolargl": [
           {
            "marker": {
             "colorbar": {
              "outlinewidth": 0,
              "ticks": ""
             }
            },
            "type": "scatterpolargl"
           }
          ],
          "scatterternary": [
           {
            "marker": {
             "colorbar": {
              "outlinewidth": 0,
              "ticks": ""
             }
            },
            "type": "scatterternary"
           }
          ],
          "surface": [
           {
            "colorbar": {
             "outlinewidth": 0,
             "ticks": ""
            },
            "colorscale": [
             [
              0,
              "#0d0887"
             ],
             [
              0.1111111111111111,
              "#46039f"
             ],
             [
              0.2222222222222222,
              "#7201a8"
             ],
             [
              0.3333333333333333,
              "#9c179e"
             ],
             [
              0.4444444444444444,
              "#bd3786"
             ],
             [
              0.5555555555555556,
              "#d8576b"
             ],
             [
              0.6666666666666666,
              "#ed7953"
             ],
             [
              0.7777777777777778,
              "#fb9f3a"
             ],
             [
              0.8888888888888888,
              "#fdca26"
             ],
             [
              1,
              "#f0f921"
             ]
            ],
            "type": "surface"
           }
          ],
          "table": [
           {
            "cells": {
             "fill": {
              "color": "#EBF0F8"
             },
             "line": {
              "color": "white"
             }
            },
            "header": {
             "fill": {
              "color": "#C8D4E3"
             },
             "line": {
              "color": "white"
             }
            },
            "type": "table"
           }
          ]
         },
         "layout": {
          "annotationdefaults": {
           "arrowcolor": "#2a3f5f",
           "arrowhead": 0,
           "arrowwidth": 1
          },
          "autotypenumbers": "strict",
          "coloraxis": {
           "colorbar": {
            "outlinewidth": 0,
            "ticks": ""
           }
          },
          "colorscale": {
           "diverging": [
            [
             0,
             "#8e0152"
            ],
            [
             0.1,
             "#c51b7d"
            ],
            [
             0.2,
             "#de77ae"
            ],
            [
             0.3,
             "#f1b6da"
            ],
            [
             0.4,
             "#fde0ef"
            ],
            [
             0.5,
             "#f7f7f7"
            ],
            [
             0.6,
             "#e6f5d0"
            ],
            [
             0.7,
             "#b8e186"
            ],
            [
             0.8,
             "#7fbc41"
            ],
            [
             0.9,
             "#4d9221"
            ],
            [
             1,
             "#276419"
            ]
           ],
           "sequential": [
            [
             0,
             "#0d0887"
            ],
            [
             0.1111111111111111,
             "#46039f"
            ],
            [
             0.2222222222222222,
             "#7201a8"
            ],
            [
             0.3333333333333333,
             "#9c179e"
            ],
            [
             0.4444444444444444,
             "#bd3786"
            ],
            [
             0.5555555555555556,
             "#d8576b"
            ],
            [
             0.6666666666666666,
             "#ed7953"
            ],
            [
             0.7777777777777778,
             "#fb9f3a"
            ],
            [
             0.8888888888888888,
             "#fdca26"
            ],
            [
             1,
             "#f0f921"
            ]
           ],
           "sequentialminus": [
            [
             0,
             "#0d0887"
            ],
            [
             0.1111111111111111,
             "#46039f"
            ],
            [
             0.2222222222222222,
             "#7201a8"
            ],
            [
             0.3333333333333333,
             "#9c179e"
            ],
            [
             0.4444444444444444,
             "#bd3786"
            ],
            [
             0.5555555555555556,
             "#d8576b"
            ],
            [
             0.6666666666666666,
             "#ed7953"
            ],
            [
             0.7777777777777778,
             "#fb9f3a"
            ],
            [
             0.8888888888888888,
             "#fdca26"
            ],
            [
             1,
             "#f0f921"
            ]
           ]
          },
          "colorway": [
           "#636efa",
           "#EF553B",
           "#00cc96",
           "#ab63fa",
           "#FFA15A",
           "#19d3f3",
           "#FF6692",
           "#B6E880",
           "#FF97FF",
           "#FECB52"
          ],
          "font": {
           "color": "#2a3f5f"
          },
          "geo": {
           "bgcolor": "white",
           "lakecolor": "white",
           "landcolor": "#E5ECF6",
           "showlakes": true,
           "showland": true,
           "subunitcolor": "white"
          },
          "hoverlabel": {
           "align": "left"
          },
          "hovermode": "closest",
          "mapbox": {
           "style": "light"
          },
          "paper_bgcolor": "white",
          "plot_bgcolor": "#E5ECF6",
          "polar": {
           "angularaxis": {
            "gridcolor": "white",
            "linecolor": "white",
            "ticks": ""
           },
           "bgcolor": "#E5ECF6",
           "radialaxis": {
            "gridcolor": "white",
            "linecolor": "white",
            "ticks": ""
           }
          },
          "scene": {
           "xaxis": {
            "backgroundcolor": "#E5ECF6",
            "gridcolor": "white",
            "gridwidth": 2,
            "linecolor": "white",
            "showbackground": true,
            "ticks": "",
            "zerolinecolor": "white"
           },
           "yaxis": {
            "backgroundcolor": "#E5ECF6",
            "gridcolor": "white",
            "gridwidth": 2,
            "linecolor": "white",
            "showbackground": true,
            "ticks": "",
            "zerolinecolor": "white"
           },
           "zaxis": {
            "backgroundcolor": "#E5ECF6",
            "gridcolor": "white",
            "gridwidth": 2,
            "linecolor": "white",
            "showbackground": true,
            "ticks": "",
            "zerolinecolor": "white"
           }
          },
          "shapedefaults": {
           "line": {
            "color": "#2a3f5f"
           }
          },
          "ternary": {
           "aaxis": {
            "gridcolor": "white",
            "linecolor": "white",
            "ticks": ""
           },
           "baxis": {
            "gridcolor": "white",
            "linecolor": "white",
            "ticks": ""
           },
           "bgcolor": "#E5ECF6",
           "caxis": {
            "gridcolor": "white",
            "linecolor": "white",
            "ticks": ""
           }
          },
          "title": {
           "x": 0.05
          },
          "xaxis": {
           "automargin": true,
           "gridcolor": "white",
           "linecolor": "white",
           "ticks": "",
           "title": {
            "standoff": 15
           },
           "zerolinecolor": "white",
           "zerolinewidth": 2
          },
          "yaxis": {
           "automargin": true,
           "gridcolor": "white",
           "linecolor": "white",
           "ticks": "",
           "title": {
            "standoff": 15
           },
           "zerolinecolor": "white",
           "zerolinewidth": 2
          }
         }
        },
        "title": {
         "text": "Approval Rate by Project Type"
        },
        "xaxis": {
         "anchor": "y",
         "domain": [
          0,
          1
         ],
         "title": {
          "text": "typeOfUse"
         }
        },
        "yaxis": {
         "anchor": "x",
         "domain": [
          0,
          1
         ],
         "title": {
          "text": "approval_rate"
         }
        }
       }
      }
     },
     "metadata": {},
     "output_type": "display_data"
    }
   ],
   "source": [
    "approval_rates = df.groupby('typeOfUse').apply(lambda group: len(group[group['status'] == 'Approved']) / len(group)).reset_index()\n",
    "approval_rates.columns = ['typeOfUse', 'approval_rate']\n",
    "\n",
    "fig = px.bar(approval_rates, x='typeOfUse', y='approval_rate', title=\"Approval Rate by Project Type\")\n",
    "fig.show()"
   ]
  },
  {
   "cell_type": "code",
   "execution_count": 35,
   "metadata": {},
   "outputs": [
    {
     "data": {
      "text/plain": [
       "specifiedUse\n",
       "The                                                                                                                                                                                                                                                                                                                                                                                                                                                                              276\n",
       "Based                                                                                                                                                                                                                                                                                                                                                                                                                                                                            272\n",
       "Residential.                                                                                                                                                                                                                                                                                                                                                                                                                                                                      54\n",
       "Without                                                                                                                                                                                                                                                                                                                                                                                                                                                                            6\n",
       "Commercial                                                                                                                                                                                                                                                                                                                                                                                                                                                                         5\n",
       "Unfortunately,                                                                                                                                                                                                                                                                                                                                                                                                                                                                     4\n",
       "Industrial.                                                                                                                                                                                                                                                                                                                                                                                                                                                                        4\n",
       "Commercial.                                                                                                                                                                                                                                                                                                                                                                                                                                                                        4\n",
       "Mixed                                                                                                                                                                                                                                                                                                                                                                                                                                                                              3\n",
       "Residential                                                                                                                                                                                                                                                                                                                                                                                                                                                                        2\n",
       "Sorry,                                                                                                                                                                                                                                                                                                                                                                                                                                                                             2\n",
       "Since                                                                                                                                                                                                                                                                                                                                                                                                                                                                              2\n",
       "Category:                                                                                                                                                                                                                                                                                                                                                                                                                                                                          2\n",
       "To                                                                                                                                                                                                                                                                                                                                                                                                                                                                                 2\n",
       "Other. The description does not fit into any of the given categories. It mentions a Cup (Certificate of Use and Permissibility) being obtained to retain an existing entertainment venue, indicating that the primary use of the facility or project is related to entertainment.                                                                                                                                                                                                  1\n",
       "It                                                                                                                                                                                                                                                                                                                                                                                                                                                                                 1\n",
       "I'm                                                                                                                                                                                                                                                                                                                                                                                                                                                                                1\n",
       "Outdoor                                                                                                                                                                                                                                                                                                                                                                                                                                                                            1\n",
       "Other.\\n\\nThe description does not provide enough information to determine the primary use of the facility or project. It only states that a variance is being requested for a building height greater than 25 feet, without specifying any other details such as the location, purpose, or nature of the project. Without additional information, it is not possible to accurately classify it into one of the given categories. Hence, it falls under the 'Other' category.      1\n",
       "Residential:                                                                                                                                                                                                                                                                                                                                                                                                                                                                       1\n",
       "As                                                                                                                                                                                                                                                                                                                                                                                                                                                                                 1\n",
       "Name: count, dtype: int64"
      ]
     },
     "execution_count": 35,
     "metadata": {},
     "output_type": "execute_result"
    }
   ],
   "source": [
    "df['specifiedUse'].value_counts()"
   ]
  },
  {
   "cell_type": "code",
   "execution_count": null,
   "metadata": {},
   "outputs": [],
   "source": [
    "df['days_in_review'] = (pd.to_datetime(df['recentUpdate']) - pd.to_datetime(df['submissionDate'])).dt.days\n",
    "in_review_df = df[df['status'] == 'In Review']\n",
    "\n",
    "fig = px.histogram(in_review_df, x='days_in_review', title=\"Duration of Projects 'In Review'\")\n",
    "fig.show()"
   ]
  },
  {
   "cell_type": "code",
   "execution_count": 29,
   "metadata": {},
   "outputs": [],
   "source": [
    "desc_explicit_uses = df[['projectName', 'description', 'explicitUses']]"
   ]
  },
  {
   "cell_type": "code",
   "execution_count": 30,
   "metadata": {},
   "outputs": [],
   "source": [
    "desc_explicit_uses.to_excel('desc_explicit_uses.xlsx')"
   ]
  },
  {
   "cell_type": "code",
   "execution_count": null,
   "metadata": {},
   "outputs": [],
   "source": []
  },
  {
   "cell_type": "code",
   "execution_count": null,
   "metadata": {},
   "outputs": [],
   "source": []
  },
  {
   "cell_type": "code",
   "execution_count": 12,
   "metadata": {},
   "outputs": [
    {
     "name": "stdout",
     "output_type": "stream",
     "text": [
      "Non-string description at index 435: nan\n"
     ]
    },
    {
     "ename": "AttributeError",
     "evalue": "'float' object has no attribute 'upper'",
     "output_type": "error",
     "traceback": [
      "\u001b[1;31m---------------------------------------------------------------------------\u001b[0m",
      "\u001b[1;31mAttributeError\u001b[0m                            Traceback (most recent call last)",
      "\u001b[1;32mc:\\Projects\\regionintelligence\\map\\map_notebooks\\data engineering\\01_find_insights.ipynb Cell 13\u001b[0m line \u001b[0;36m5\n\u001b[0;32m      <a href='vscode-notebook-cell:/c%3A/Projects/regionintelligence/map/map_notebooks/data%20engineering/01_find_insights.ipynb#X21sZmlsZQ%3D%3D?line=2'>3</a>\u001b[0m \u001b[39mif\u001b[39;00m \u001b[39mnot\u001b[39;00m \u001b[39misinstance\u001b[39m(description, \u001b[39mstr\u001b[39m):\n\u001b[0;32m      <a href='vscode-notebook-cell:/c%3A/Projects/regionintelligence/map/map_notebooks/data%20engineering/01_find_insights.ipynb#X21sZmlsZQ%3D%3D?line=3'>4</a>\u001b[0m     \u001b[39mprint\u001b[39m(\u001b[39mf\u001b[39m\u001b[39m\"\u001b[39m\u001b[39mNon-string description at index \u001b[39m\u001b[39m{\u001b[39;00mindex\u001b[39m}\u001b[39;00m\u001b[39m: \u001b[39m\u001b[39m{\u001b[39;00mdescription\u001b[39m}\u001b[39;00m\u001b[39m\"\u001b[39m)\n\u001b[1;32m----> <a href='vscode-notebook-cell:/c%3A/Projects/regionintelligence/map/map_notebooks/data%20engineering/01_find_insights.ipynb#X21sZmlsZQ%3D%3D?line=4'>5</a>\u001b[0m type_of_use \u001b[39m=\u001b[39m classify_type_of_use(description)\n\u001b[0;32m      <a href='vscode-notebook-cell:/c%3A/Projects/regionintelligence/map/map_notebooks/data%20engineering/01_find_insights.ipynb#X21sZmlsZQ%3D%3D?line=5'>6</a>\u001b[0m df\u001b[39m.\u001b[39mat[index, \u001b[39m\"\u001b[39m\u001b[39mexplicitUses\u001b[39m\u001b[39m\"\u001b[39m] \u001b[39m=\u001b[39m type_of_use\n",
      "\u001b[1;32mc:\\Projects\\regionintelligence\\map\\map_notebooks\\data engineering\\01_find_insights.ipynb Cell 13\u001b[0m line \u001b[0;36m2\n\u001b[0;32m      <a href='vscode-notebook-cell:/c%3A/Projects/regionintelligence/map/map_notebooks/data%20engineering/01_find_insights.ipynb#X21sZmlsZQ%3D%3D?line=0'>1</a>\u001b[0m \u001b[39mdef\u001b[39;00m \u001b[39mclassify_type_of_use\u001b[39m(description, type_of_use\u001b[39m=\u001b[39m\u001b[39m\"\u001b[39m\u001b[39mOther\u001b[39m\u001b[39m\"\u001b[39m):\n\u001b[1;32m----> <a href='vscode-notebook-cell:/c%3A/Projects/regionintelligence/map/map_notebooks/data%20engineering/01_find_insights.ipynb#X21sZmlsZQ%3D%3D?line=1'>2</a>\u001b[0m     description \u001b[39m=\u001b[39m description\u001b[39m.\u001b[39;49mupper()\n\u001b[0;32m      <a href='vscode-notebook-cell:/c%3A/Projects/regionintelligence/map/map_notebooks/data%20engineering/01_find_insights.ipynb#X21sZmlsZQ%3D%3D?line=3'>4</a>\u001b[0m     \u001b[39mif\u001b[39;00m (\n\u001b[0;32m      <a href='vscode-notebook-cell:/c%3A/Projects/regionintelligence/map/map_notebooks/data%20engineering/01_find_insights.ipynb#X21sZmlsZQ%3D%3D?line=4'>5</a>\u001b[0m         \u001b[39m\"\u001b[39m\u001b[39mMIXED USE\u001b[39m\u001b[39m\"\u001b[39m \u001b[39min\u001b[39;00m description\n\u001b[0;32m      <a href='vscode-notebook-cell:/c%3A/Projects/regionintelligence/map/map_notebooks/data%20engineering/01_find_insights.ipynb#X21sZmlsZQ%3D%3D?line=5'>6</a>\u001b[0m         \u001b[39mor\u001b[39;00m \u001b[39m\"\u001b[39m\u001b[39mMIXED_USE\u001b[39m\u001b[39m\"\u001b[39m \u001b[39min\u001b[39;00m description\n\u001b[0;32m      <a href='vscode-notebook-cell:/c%3A/Projects/regionintelligence/map/map_notebooks/data%20engineering/01_find_insights.ipynb#X21sZmlsZQ%3D%3D?line=6'>7</a>\u001b[0m         \u001b[39mor\u001b[39;00m \u001b[39m\"\u001b[39m\u001b[39mMIXED-USE\u001b[39m\u001b[39m\"\u001b[39m \u001b[39min\u001b[39;00m description\n\u001b[0;32m      <a href='vscode-notebook-cell:/c%3A/Projects/regionintelligence/map/map_notebooks/data%20engineering/01_find_insights.ipynb#X21sZmlsZQ%3D%3D?line=7'>8</a>\u001b[0m     ):\n\u001b[0;32m      <a href='vscode-notebook-cell:/c%3A/Projects/regionintelligence/map/map_notebooks/data%20engineering/01_find_insights.ipynb#X21sZmlsZQ%3D%3D?line=8'>9</a>\u001b[0m         type_of_use \u001b[39m=\u001b[39m \u001b[39m\"\u001b[39m\u001b[39mMixed Use\u001b[39m\u001b[39m\"\u001b[39m\n",
      "\u001b[1;31mAttributeError\u001b[0m: 'float' object has no attribute 'upper'"
     ]
    }
   ],
   "source": [
    "for index, row in df.iterrows():\n",
    "    description = row[\"description\"]\n",
    "    if not isinstance(description, str):\n",
    "        print(f\"Non-string description at index {index}: {description}\")\n",
    "    type_of_use = classify_type_of_use(description)\n",
    "    df.at[index, \"explicitUses\"] = type_of_use\n"
   ]
  },
  {
   "cell_type": "code",
   "execution_count": null,
   "metadata": {},
   "outputs": [],
   "source": []
  }
 ],
 "metadata": {
  "kernelspec": {
   "display_name": ".venv",
   "language": "python",
   "name": "python3"
  },
  "language_info": {
   "codemirror_mode": {
    "name": "ipython",
    "version": 3
   },
   "file_extension": ".py",
   "mimetype": "text/x-python",
   "name": "python",
   "nbconvert_exporter": "python",
   "pygments_lexer": "ipython3",
   "version": "3.11.4"
  }
 },
 "nbformat": 4,
 "nbformat_minor": 2
}
