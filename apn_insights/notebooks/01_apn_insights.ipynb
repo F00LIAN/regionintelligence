{
 "cells": [
  {
   "cell_type": "markdown",
   "metadata": {},
   "source": [
    "## Explore the data, clean it, and perform EDA on it"
   ]
  },
  {
   "cell_type": "code",
   "execution_count": null,
   "metadata": {},
   "outputs": [],
   "source": [
    "import sys\n",
    "from pathlib import Path\n",
    "import os \n",
    "import tqdm \n",
    "import pandas as pd\n",
    "import plotly.express as px\n",
    "\n",
    "# Set pandas display options to show all columns\n",
    "pd.set_option('display.max_columns', None)\n",
    "pd.set_option('display.max_rows', None)\n",
    "# Set pandas option to display floats without scientific notation\n",
    "pd.set_option('display.float_format', lambda x: '%.3f' % x)  # Adjust the number of decimal places as needed\n",
    "\n",
    "\n",
    "sys.path.append('/Projects/regionintelligence/apn_insights/')"
   ]
  },
  {
   "cell_type": "code",
   "execution_count": 2,
   "metadata": {},
   "outputs": [],
   "source": [
    "import numpy as np\n",
    "import plotly as py\n",
    "import polars as pl\n",
    "from src.paths import DATA_DIR\n",
    "\n",
    "\n",
    "file_path = DATA_DIR / '2019_RI_LAND_USE.csv'"
   ]
  },
  {
   "cell_type": "code",
   "execution_count": 3,
   "metadata": {},
   "outputs": [
    {
     "name": "stderr",
     "output_type": "stream",
     "text": [
      "C:\\Users\\Julian Sotelo\\AppData\\Local\\Temp\\ipykernel_4692\\2070122605.py:2: DtypeWarning: Columns (2,14,17,21,22,24,25,32,33) have mixed types. Specify dtype option on import or set low_memory=False.\n",
      "  df = pd.read_csv(file_path)\n"
     ]
    },
    {
     "name": "stdout",
     "output_type": "stream",
     "text": [
      "Missing Values for Each Column:\n",
      "OID_                                  0\n",
      "RI_PARCEL_ID                          0\n",
      "APN_RAW_2019                       8645\n",
      "COUNTY_NAME                           0\n",
      "RI_COUNTY_ID                          0\n",
      "CITY_NAME                             0\n",
      "CITY_ID                               0\n",
      "MULTIPART                             0\n",
      "STACK                                 0\n",
      "ACREAGE                               0\n",
      "SLOPE                                 0\n",
      "RI_DEM_GEO_ID_20                     34\n",
      "APN_DUP                           47523\n",
      "IMPROVEMENT_RATIO                247662\n",
      "LAND_USE_2019                     10435\n",
      "LAND_USE_SOURCE_2019                248\n",
      "RI_UNIQUE_PARCEL_ID_2016            729\n",
      "APN                                 729\n",
      "CITY_GP_CODE                       9727\n",
      "RI_GP_CODE                        12116\n",
      "SP_INDEX                            729\n",
      "CITY_SP_CODE                    4324966\n",
      "RI_SP_CODE                      4342482\n",
      "CITY_ZONE_CODE                    12806\n",
      "RI_ZONE_CODE                      17074\n",
      "LAND_USE_2016                     13789\n",
      "YEAR                                  0\n",
      "PUBLIC_OWNED                          0\n",
      "PUB_AGENCY_NAME                 4912531\n",
      "PUBLIC_TYPE                     4913617\n",
      "PUBLIC_SOURCE                   4943125\n",
      "BUILDING_SQFT                    864117\n",
      "EPA_BROWN_NAME                  5130225\n",
      "EPA_BROWN_TYPE                  5130225\n",
      "FIRE_HAZARD                           0\n",
      "SEARISE_1_METER                       0\n",
      "SEARISE_2_METER                       0\n",
      "FLOOD_PLAIN_ZONE                      0\n",
      "EQUAKE_ZONE                           0\n",
      "LIQUAFACTION_ZONE                     0\n",
      "LANDSLIDE_ZONE                        0\n",
      "PROTECTED_AREA                        0\n",
      "RIVER_WETLAND_AREA                    0\n",
      "WILDLIFE_AREA                         0\n",
      "CNDDB_RARE_SPECIES_AREA               0\n",
      "HABITAT_RESERVE_AREA                  0\n",
      "WETLAND_AREA                          0\n",
      "URBANIZED_AREA                        0\n",
      "UNBUILT_SF                            0\n",
      "GROCERY_1_MILE                        0\n",
      "HEALTHCARE_1_MILE                     0\n",
      "OPENSPACE_1_MILE                      0\n",
      "OPPORTUNITY_LEVEL                  3339\n",
      "HIGH_QUALITY_TRANSIT_AREA             0\n",
      "JOB_CENTER                            0\n",
      "NEIGHBORHOOD_MOBILITY_AREA            0\n",
      "ABSOLUTE_CONSTRAINT                   0\n",
      "VARIABLE_CONSTRAINT                   0\n",
      "ENVIRONMENT_JUSTICE_AREA              0\n",
      "DISADVANTAGED_COMMUNITY_AREA          0\n",
      "COMMUNITY_OF_CONCERN                  0\n",
      "ADU_SPACE_POSSIBILITY                 0\n",
      "SETBACK_REDUCTION_ADU                 0\n",
      "SMALL_ADU_POSSIBILITY                 0\n",
      "PARKING_EXEMPTION_ADU                 0\n",
      "SETBACK_SMALL_ADU                     0\n",
      "SETBACK_PARKING_ADU                   0\n",
      "SMALL_PARKING_ADU                     0\n",
      "SETBACK_SMALL_PARKING_ADU             0\n",
      "JURISDICTION_LABEL                    0\n",
      "LAND_USE_CLASS_NAME               10440\n",
      "Shape_Length                          0\n",
      "Shape_Area                            0\n",
      "Centroid_X                            0\n",
      "Centroid_Y                            0\n",
      "dtype: int64\n"
     ]
    }
   ],
   "source": [
    "# Load the entire CSV as a pandas DataFrame\n",
    "df = pd.read_csv(file_path)\n",
    "\n",
    "# Basic statistics for each column\n",
    "stats = df.describe()\n",
    "\n",
    "# Count the number of missing values for each column\n",
    "missing_values = df.isnull().sum()\n",
    "\n",
    "# Print the missing values for all columns\n",
    "print(\"Missing Values for Each Column:\")\n",
    "print(missing_values)"
   ]
  },
  {
   "cell_type": "code",
   "execution_count": 4,
   "metadata": {},
   "outputs": [
    {
     "data": {
      "text/html": [
       "<div>\n",
       "<style scoped>\n",
       "    .dataframe tbody tr th:only-of-type {\n",
       "        vertical-align: middle;\n",
       "    }\n",
       "\n",
       "    .dataframe tbody tr th {\n",
       "        vertical-align: top;\n",
       "    }\n",
       "\n",
       "    .dataframe thead th {\n",
       "        text-align: right;\n",
       "    }\n",
       "</style>\n",
       "<table border=\"1\" class=\"dataframe\">\n",
       "  <thead>\n",
       "    <tr style=\"text-align: right;\">\n",
       "      <th></th>\n",
       "      <th>OID_</th>\n",
       "      <th>RI_PARCEL_ID</th>\n",
       "      <th>RI_COUNTY_ID</th>\n",
       "      <th>CITY_ID</th>\n",
       "      <th>MULTIPART</th>\n",
       "      <th>STACK</th>\n",
       "      <th>ACREAGE</th>\n",
       "      <th>SLOPE</th>\n",
       "      <th>RI_DEM_GEO_ID_20</th>\n",
       "      <th>APN_DUP</th>\n",
       "      <th>IMPROVEMENT_RATIO</th>\n",
       "      <th>RI_UNIQUE_PARCEL_ID_2016</th>\n",
       "      <th>RI_GP_CODE</th>\n",
       "      <th>SP_INDEX</th>\n",
       "      <th>YEAR</th>\n",
       "      <th>PUBLIC_OWNED</th>\n",
       "      <th>BUILDING_SQFT</th>\n",
       "      <th>FIRE_HAZARD</th>\n",
       "      <th>SEARISE_1_METER</th>\n",
       "      <th>SEARISE_2_METER</th>\n",
       "      <th>FLOOD_PLAIN_ZONE</th>\n",
       "      <th>EQUAKE_ZONE</th>\n",
       "      <th>LIQUAFACTION_ZONE</th>\n",
       "      <th>LANDSLIDE_ZONE</th>\n",
       "      <th>PROTECTED_AREA</th>\n",
       "      <th>RIVER_WETLAND_AREA</th>\n",
       "      <th>WILDLIFE_AREA</th>\n",
       "      <th>CNDDB_RARE_SPECIES_AREA</th>\n",
       "      <th>HABITAT_RESERVE_AREA</th>\n",
       "      <th>WETLAND_AREA</th>\n",
       "      <th>URBANIZED_AREA</th>\n",
       "      <th>UNBUILT_SF</th>\n",
       "      <th>GROCERY_1_MILE</th>\n",
       "      <th>HEALTHCARE_1_MILE</th>\n",
       "      <th>OPENSPACE_1_MILE</th>\n",
       "      <th>HIGH_QUALITY_TRANSIT_AREA</th>\n",
       "      <th>JOB_CENTER</th>\n",
       "      <th>NEIGHBORHOOD_MOBILITY_AREA</th>\n",
       "      <th>ABSOLUTE_CONSTRAINT</th>\n",
       "      <th>VARIABLE_CONSTRAINT</th>\n",
       "      <th>ENVIRONMENT_JUSTICE_AREA</th>\n",
       "      <th>DISADVANTAGED_COMMUNITY_AREA</th>\n",
       "      <th>COMMUNITY_OF_CONCERN</th>\n",
       "      <th>ADU_SPACE_POSSIBILITY</th>\n",
       "      <th>SETBACK_REDUCTION_ADU</th>\n",
       "      <th>SMALL_ADU_POSSIBILITY</th>\n",
       "      <th>PARKING_EXEMPTION_ADU</th>\n",
       "      <th>SETBACK_SMALL_ADU</th>\n",
       "      <th>SETBACK_PARKING_ADU</th>\n",
       "      <th>SMALL_PARKING_ADU</th>\n",
       "      <th>SETBACK_SMALL_PARKING_ADU</th>\n",
       "      <th>Shape_Length</th>\n",
       "      <th>Shape_Area</th>\n",
       "      <th>Centroid_X</th>\n",
       "      <th>Centroid_Y</th>\n",
       "    </tr>\n",
       "  </thead>\n",
       "  <tbody>\n",
       "    <tr>\n",
       "      <th>count</th>\n",
       "      <td>5131098.000</td>\n",
       "      <td>5131098.000</td>\n",
       "      <td>5131098.000</td>\n",
       "      <td>5131098.000</td>\n",
       "      <td>5131098.000</td>\n",
       "      <td>5131098.000</td>\n",
       "      <td>5131098.000</td>\n",
       "      <td>5131098.000</td>\n",
       "      <td>5131064.000</td>\n",
       "      <td>5083575.000</td>\n",
       "      <td>4883436.000</td>\n",
       "      <td>5130369.000</td>\n",
       "      <td>5118982.000</td>\n",
       "      <td>5130369.000</td>\n",
       "      <td>5131098.000</td>\n",
       "      <td>5131098.000</td>\n",
       "      <td>4266981.000</td>\n",
       "      <td>5131098.000</td>\n",
       "      <td>5131098.000</td>\n",
       "      <td>5131098.000</td>\n",
       "      <td>5131098.000</td>\n",
       "      <td>5131098.000</td>\n",
       "      <td>5131098.000</td>\n",
       "      <td>5131098.000</td>\n",
       "      <td>5131098.000</td>\n",
       "      <td>5131098.000</td>\n",
       "      <td>5131098.000</td>\n",
       "      <td>5131098.000</td>\n",
       "      <td>5131098.000</td>\n",
       "      <td>5131098.000</td>\n",
       "      <td>5131098.000</td>\n",
       "      <td>5131098.000</td>\n",
       "      <td>5131098.000</td>\n",
       "      <td>5131098.000</td>\n",
       "      <td>5131098.000</td>\n",
       "      <td>5131098.000</td>\n",
       "      <td>5131098.000</td>\n",
       "      <td>5131098.000</td>\n",
       "      <td>5131098.000</td>\n",
       "      <td>5131098.000</td>\n",
       "      <td>5131098.000</td>\n",
       "      <td>5131098.000</td>\n",
       "      <td>5131098.000</td>\n",
       "      <td>5131098.000</td>\n",
       "      <td>5131098.000</td>\n",
       "      <td>5131098.000</td>\n",
       "      <td>5131098.000</td>\n",
       "      <td>5131098.000</td>\n",
       "      <td>5131098.000</td>\n",
       "      <td>5131098.000</td>\n",
       "      <td>5131098.000</td>\n",
       "      <td>5131098.000</td>\n",
       "      <td>5131098.000</td>\n",
       "      <td>5131098.000</td>\n",
       "      <td>5131098.000</td>\n",
       "    </tr>\n",
       "    <tr>\n",
       "      <th>mean</th>\n",
       "      <td>2565549.500</td>\n",
       "      <td>539463307238.114</td>\n",
       "      <td>53.687</td>\n",
       "      <td>54233.802</td>\n",
       "      <td>1.004</td>\n",
       "      <td>5.257</td>\n",
       "      <td>4.951</td>\n",
       "      <td>1.639</td>\n",
       "      <td>60539238465446.367</td>\n",
       "      <td>0.092</td>\n",
       "      <td>1.924</td>\n",
       "      <td>537561271.406</td>\n",
       "      <td>1319.023</td>\n",
       "      <td>0.152</td>\n",
       "      <td>2019.000</td>\n",
       "      <td>0.036</td>\n",
       "      <td>7025.266</td>\n",
       "      <td>0.157</td>\n",
       "      <td>0.008</td>\n",
       "      <td>0.009</td>\n",
       "      <td>0.034</td>\n",
       "      <td>0.023</td>\n",
       "      <td>0.245</td>\n",
       "      <td>0.045</td>\n",
       "      <td>0.033</td>\n",
       "      <td>0.189</td>\n",
       "      <td>0.068</td>\n",
       "      <td>0.026</td>\n",
       "      <td>0.017</td>\n",
       "      <td>0.047</td>\n",
       "      <td>0.918</td>\n",
       "      <td>23472.223</td>\n",
       "      <td>2.310</td>\n",
       "      <td>31.145</td>\n",
       "      <td>13.280</td>\n",
       "      <td>0.321</td>\n",
       "      <td>0.143</td>\n",
       "      <td>0.187</td>\n",
       "      <td>0.060</td>\n",
       "      <td>0.539</td>\n",
       "      <td>0.539</td>\n",
       "      <td>0.240</td>\n",
       "      <td>0.142</td>\n",
       "      <td>0.470</td>\n",
       "      <td>0.493</td>\n",
       "      <td>0.491</td>\n",
       "      <td>0.487</td>\n",
       "      <td>0.497</td>\n",
       "      <td>0.494</td>\n",
       "      <td>0.492</td>\n",
       "      <td>0.497</td>\n",
       "      <td>297.105</td>\n",
       "      <td>29444.590</td>\n",
       "      <td>-117.798</td>\n",
       "      <td>34.011</td>\n",
       "    </tr>\n",
       "    <tr>\n",
       "      <th>std</th>\n",
       "      <td>1481220.550</td>\n",
       "      <td>194367385515.461</td>\n",
       "      <td>19.635</td>\n",
       "      <td>28897.713</td>\n",
       "      <td>0.105</td>\n",
       "      <td>27.009</td>\n",
       "      <td>56.390</td>\n",
       "      <td>4.315</td>\n",
       "      <td>194668669938.900</td>\n",
       "      <td>14.295</td>\n",
       "      <td>386.229</td>\n",
       "      <td>196073010.323</td>\n",
       "      <td>1038.198</td>\n",
       "      <td>0.359</td>\n",
       "      <td>0.000</td>\n",
       "      <td>0.187</td>\n",
       "      <td>26105.065</td>\n",
       "      <td>0.364</td>\n",
       "      <td>0.091</td>\n",
       "      <td>0.094</td>\n",
       "      <td>0.182</td>\n",
       "      <td>0.149</td>\n",
       "      <td>0.430</td>\n",
       "      <td>0.206</td>\n",
       "      <td>0.179</td>\n",
       "      <td>0.391</td>\n",
       "      <td>0.251</td>\n",
       "      <td>0.159</td>\n",
       "      <td>0.129</td>\n",
       "      <td>0.212</td>\n",
       "      <td>0.274</td>\n",
       "      <td>388789.197</td>\n",
       "      <td>4.408</td>\n",
       "      <td>78.563</td>\n",
       "      <td>20.500</td>\n",
       "      <td>0.467</td>\n",
       "      <td>0.350</td>\n",
       "      <td>0.390</td>\n",
       "      <td>0.237</td>\n",
       "      <td>0.498</td>\n",
       "      <td>0.498</td>\n",
       "      <td>0.427</td>\n",
       "      <td>0.349</td>\n",
       "      <td>0.499</td>\n",
       "      <td>0.500</td>\n",
       "      <td>0.500</td>\n",
       "      <td>0.500</td>\n",
       "      <td>0.500</td>\n",
       "      <td>0.500</td>\n",
       "      <td>0.500</td>\n",
       "      <td>0.500</td>\n",
       "      <td>744.412</td>\n",
       "      <td>333142.120</td>\n",
       "      <td>0.743</td>\n",
       "      <td>0.311</td>\n",
       "    </tr>\n",
       "    <tr>\n",
       "      <th>min</th>\n",
       "      <td>1.000</td>\n",
       "      <td>250000000001.000</td>\n",
       "      <td>25.000</td>\n",
       "      <td>296.000</td>\n",
       "      <td>1.000</td>\n",
       "      <td>1.000</td>\n",
       "      <td>0.000</td>\n",
       "      <td>0.000</td>\n",
       "      <td>60250101011000.000</td>\n",
       "      <td>0.000</td>\n",
       "      <td>0.000</td>\n",
       "      <td>250000001.000</td>\n",
       "      <td>1100.000</td>\n",
       "      <td>0.000</td>\n",
       "      <td>2019.000</td>\n",
       "      <td>0.000</td>\n",
       "      <td>0.000</td>\n",
       "      <td>0.000</td>\n",
       "      <td>0.000</td>\n",
       "      <td>0.000</td>\n",
       "      <td>0.000</td>\n",
       "      <td>0.000</td>\n",
       "      <td>0.000</td>\n",
       "      <td>0.000</td>\n",
       "      <td>0.000</td>\n",
       "      <td>0.000</td>\n",
       "      <td>0.000</td>\n",
       "      <td>0.000</td>\n",
       "      <td>0.000</td>\n",
       "      <td>0.000</td>\n",
       "      <td>0.000</td>\n",
       "      <td>0.000</td>\n",
       "      <td>0.000</td>\n",
       "      <td>0.000</td>\n",
       "      <td>0.000</td>\n",
       "      <td>0.000</td>\n",
       "      <td>0.000</td>\n",
       "      <td>0.000</td>\n",
       "      <td>0.000</td>\n",
       "      <td>0.000</td>\n",
       "      <td>0.000</td>\n",
       "      <td>0.000</td>\n",
       "      <td>0.000</td>\n",
       "      <td>0.000</td>\n",
       "      <td>0.000</td>\n",
       "      <td>0.000</td>\n",
       "      <td>0.000</td>\n",
       "      <td>0.000</td>\n",
       "      <td>0.000</td>\n",
       "      <td>0.000</td>\n",
       "      <td>0.000</td>\n",
       "      <td>0.017</td>\n",
       "      <td>0.000</td>\n",
       "      <td>-119.507</td>\n",
       "      <td>32.622</td>\n",
       "    </tr>\n",
       "    <tr>\n",
       "      <th>25%</th>\n",
       "      <td>1282775.250</td>\n",
       "      <td>375344021025.250</td>\n",
       "      <td>37.000</td>\n",
       "      <td>36770.000</td>\n",
       "      <td>1.000</td>\n",
       "      <td>1.000</td>\n",
       "      <td>0.136</td>\n",
       "      <td>0.000</td>\n",
       "      <td>60374333021019.000</td>\n",
       "      <td>0.000</td>\n",
       "      <td>0.369</td>\n",
       "      <td>371024353.000</td>\n",
       "      <td>1110.000</td>\n",
       "      <td>0.000</td>\n",
       "      <td>2019.000</td>\n",
       "      <td>0.000</td>\n",
       "      <td>1944.688</td>\n",
       "      <td>0.000</td>\n",
       "      <td>0.000</td>\n",
       "      <td>0.000</td>\n",
       "      <td>0.000</td>\n",
       "      <td>0.000</td>\n",
       "      <td>0.000</td>\n",
       "      <td>0.000</td>\n",
       "      <td>0.000</td>\n",
       "      <td>0.000</td>\n",
       "      <td>0.000</td>\n",
       "      <td>0.000</td>\n",
       "      <td>0.000</td>\n",
       "      <td>0.000</td>\n",
       "      <td>1.000</td>\n",
       "      <td>2192.075</td>\n",
       "      <td>0.000</td>\n",
       "      <td>0.000</td>\n",
       "      <td>0.000</td>\n",
       "      <td>0.000</td>\n",
       "      <td>0.000</td>\n",
       "      <td>0.000</td>\n",
       "      <td>0.000</td>\n",
       "      <td>0.000</td>\n",
       "      <td>0.000</td>\n",
       "      <td>0.000</td>\n",
       "      <td>0.000</td>\n",
       "      <td>0.000</td>\n",
       "      <td>0.000</td>\n",
       "      <td>0.000</td>\n",
       "      <td>0.000</td>\n",
       "      <td>0.000</td>\n",
       "      <td>0.000</td>\n",
       "      <td>0.000</td>\n",
       "      <td>0.000</td>\n",
       "      <td>120.422</td>\n",
       "      <td>802.661</td>\n",
       "      <td>-118.300</td>\n",
       "      <td>33.821</td>\n",
       "    </tr>\n",
       "    <tr>\n",
       "      <th>50%</th>\n",
       "      <td>2565549.500</td>\n",
       "      <td>590006647226.500</td>\n",
       "      <td>59.000</td>\n",
       "      <td>48256.000</td>\n",
       "      <td>1.000</td>\n",
       "      <td>1.000</td>\n",
       "      <td>0.174</td>\n",
       "      <td>0.000</td>\n",
       "      <td>60590218163014.000</td>\n",
       "      <td>0.000</td>\n",
       "      <td>1.000</td>\n",
       "      <td>590072718.000</td>\n",
       "      <td>1112.000</td>\n",
       "      <td>0.000</td>\n",
       "      <td>2019.000</td>\n",
       "      <td>0.000</td>\n",
       "      <td>2477.901</td>\n",
       "      <td>0.000</td>\n",
       "      <td>0.000</td>\n",
       "      <td>0.000</td>\n",
       "      <td>0.000</td>\n",
       "      <td>0.000</td>\n",
       "      <td>0.000</td>\n",
       "      <td>0.000</td>\n",
       "      <td>0.000</td>\n",
       "      <td>0.000</td>\n",
       "      <td>0.000</td>\n",
       "      <td>0.000</td>\n",
       "      <td>0.000</td>\n",
       "      <td>0.000</td>\n",
       "      <td>1.000</td>\n",
       "      <td>4255.116</td>\n",
       "      <td>1.000</td>\n",
       "      <td>6.000</td>\n",
       "      <td>5.000</td>\n",
       "      <td>0.000</td>\n",
       "      <td>0.000</td>\n",
       "      <td>0.000</td>\n",
       "      <td>0.000</td>\n",
       "      <td>1.000</td>\n",
       "      <td>1.000</td>\n",
       "      <td>0.000</td>\n",
       "      <td>0.000</td>\n",
       "      <td>0.000</td>\n",
       "      <td>0.000</td>\n",
       "      <td>0.000</td>\n",
       "      <td>0.000</td>\n",
       "      <td>0.000</td>\n",
       "      <td>0.000</td>\n",
       "      <td>0.000</td>\n",
       "      <td>0.000</td>\n",
       "      <td>138.255</td>\n",
       "      <td>1030.415</td>\n",
       "      <td>-117.961</td>\n",
       "      <td>34.014</td>\n",
       "    </tr>\n",
       "    <tr>\n",
       "      <th>75%</th>\n",
       "      <td>3848323.750</td>\n",
       "      <td>650673041096.750</td>\n",
       "      <td>65.000</td>\n",
       "      <td>78120.000</td>\n",
       "      <td>1.000</td>\n",
       "      <td>1.000</td>\n",
       "      <td>0.359</td>\n",
       "      <td>0.000</td>\n",
       "      <td>60650451222017.000</td>\n",
       "      <td>0.000</td>\n",
       "      <td>2.355</td>\n",
       "      <td>650677633.000</td>\n",
       "      <td>1124.000</td>\n",
       "      <td>0.000</td>\n",
       "      <td>2019.000</td>\n",
       "      <td>0.000</td>\n",
       "      <td>3317.627</td>\n",
       "      <td>0.000</td>\n",
       "      <td>0.000</td>\n",
       "      <td>0.000</td>\n",
       "      <td>0.000</td>\n",
       "      <td>0.000</td>\n",
       "      <td>0.000</td>\n",
       "      <td>0.000</td>\n",
       "      <td>0.000</td>\n",
       "      <td>0.000</td>\n",
       "      <td>0.000</td>\n",
       "      <td>0.000</td>\n",
       "      <td>0.000</td>\n",
       "      <td>0.000</td>\n",
       "      <td>1.000</td>\n",
       "      <td>6708.329</td>\n",
       "      <td>3.000</td>\n",
       "      <td>32.000</td>\n",
       "      <td>19.000</td>\n",
       "      <td>1.000</td>\n",
       "      <td>0.000</td>\n",
       "      <td>0.000</td>\n",
       "      <td>0.000</td>\n",
       "      <td>1.000</td>\n",
       "      <td>1.000</td>\n",
       "      <td>0.000</td>\n",
       "      <td>0.000</td>\n",
       "      <td>1.000</td>\n",
       "      <td>1.000</td>\n",
       "      <td>1.000</td>\n",
       "      <td>1.000</td>\n",
       "      <td>1.000</td>\n",
       "      <td>1.000</td>\n",
       "      <td>1.000</td>\n",
       "      <td>1.000</td>\n",
       "      <td>203.412</td>\n",
       "      <td>2119.335</td>\n",
       "      <td>-117.382</td>\n",
       "      <td>34.165</td>\n",
       "    </tr>\n",
       "    <tr>\n",
       "      <th>max</th>\n",
       "      <td>5131098.000</td>\n",
       "      <td>1110901013090.000</td>\n",
       "      <td>111.000</td>\n",
       "      <td>99999.000</td>\n",
       "      <td>69.000</td>\n",
       "      <td>600.000</td>\n",
       "      <td>24318.681</td>\n",
       "      <td>25.000</td>\n",
       "      <td>61119901000009.000</td>\n",
       "      <td>12691.000</td>\n",
       "      <td>838260.636</td>\n",
       "      <td>1110255921.000</td>\n",
       "      <td>9999.000</td>\n",
       "      <td>1.000</td>\n",
       "      <td>2019.000</td>\n",
       "      <td>1.000</td>\n",
       "      <td>4027332.368</td>\n",
       "      <td>1.000</td>\n",
       "      <td>1.000</td>\n",
       "      <td>1.000</td>\n",
       "      <td>1.000</td>\n",
       "      <td>1.000</td>\n",
       "      <td>1.000</td>\n",
       "      <td>1.000</td>\n",
       "      <td>1.000</td>\n",
       "      <td>1.000</td>\n",
       "      <td>1.000</td>\n",
       "      <td>1.000</td>\n",
       "      <td>1.000</td>\n",
       "      <td>1.000</td>\n",
       "      <td>1.000</td>\n",
       "      <td>138981161.871</td>\n",
       "      <td>49.000</td>\n",
       "      <td>1389.000</td>\n",
       "      <td>232.000</td>\n",
       "      <td>1.000</td>\n",
       "      <td>1.000</td>\n",
       "      <td>1.000</td>\n",
       "      <td>1.000</td>\n",
       "      <td>1.000</td>\n",
       "      <td>1.000</td>\n",
       "      <td>1.000</td>\n",
       "      <td>1.000</td>\n",
       "      <td>1.000</td>\n",
       "      <td>1.000</td>\n",
       "      <td>1.000</td>\n",
       "      <td>1.000</td>\n",
       "      <td>1.000</td>\n",
       "      <td>1.000</td>\n",
       "      <td>1.000</td>\n",
       "      <td>1.000</td>\n",
       "      <td>127873.231</td>\n",
       "      <td>136734317.019</td>\n",
       "      <td>-114.137</td>\n",
       "      <td>35.808</td>\n",
       "    </tr>\n",
       "  </tbody>\n",
       "</table>\n",
       "</div>"
      ],
      "text/plain": [
       "             OID_      RI_PARCEL_ID  RI_COUNTY_ID     CITY_ID   MULTIPART  \\\n",
       "count 5131098.000       5131098.000   5131098.000 5131098.000 5131098.000   \n",
       "mean  2565549.500  539463307238.114        53.687   54233.802       1.004   \n",
       "std   1481220.550  194367385515.461        19.635   28897.713       0.105   \n",
       "min         1.000  250000000001.000        25.000     296.000       1.000   \n",
       "25%   1282775.250  375344021025.250        37.000   36770.000       1.000   \n",
       "50%   2565549.500  590006647226.500        59.000   48256.000       1.000   \n",
       "75%   3848323.750  650673041096.750        65.000   78120.000       1.000   \n",
       "max   5131098.000 1110901013090.000       111.000   99999.000      69.000   \n",
       "\n",
       "            STACK     ACREAGE       SLOPE   RI_DEM_GEO_ID_20     APN_DUP  \\\n",
       "count 5131098.000 5131098.000 5131098.000        5131064.000 5083575.000   \n",
       "mean        5.257       4.951       1.639 60539238465446.367       0.092   \n",
       "std        27.009      56.390       4.315   194668669938.900      14.295   \n",
       "min         1.000       0.000       0.000 60250101011000.000       0.000   \n",
       "25%         1.000       0.136       0.000 60374333021019.000       0.000   \n",
       "50%         1.000       0.174       0.000 60590218163014.000       0.000   \n",
       "75%         1.000       0.359       0.000 60650451222017.000       0.000   \n",
       "max       600.000   24318.681      25.000 61119901000009.000   12691.000   \n",
       "\n",
       "       IMPROVEMENT_RATIO  RI_UNIQUE_PARCEL_ID_2016  RI_GP_CODE    SP_INDEX  \\\n",
       "count        4883436.000               5130369.000 5118982.000 5130369.000   \n",
       "mean               1.924             537561271.406    1319.023       0.152   \n",
       "std              386.229             196073010.323    1038.198       0.359   \n",
       "min                0.000             250000001.000    1100.000       0.000   \n",
       "25%                0.369             371024353.000    1110.000       0.000   \n",
       "50%                1.000             590072718.000    1112.000       0.000   \n",
       "75%                2.355             650677633.000    1124.000       0.000   \n",
       "max           838260.636            1110255921.000    9999.000       1.000   \n",
       "\n",
       "             YEAR  PUBLIC_OWNED  BUILDING_SQFT  FIRE_HAZARD  SEARISE_1_METER  \\\n",
       "count 5131098.000   5131098.000    4266981.000  5131098.000      5131098.000   \n",
       "mean     2019.000         0.036       7025.266        0.157            0.008   \n",
       "std         0.000         0.187      26105.065        0.364            0.091   \n",
       "min      2019.000         0.000          0.000        0.000            0.000   \n",
       "25%      2019.000         0.000       1944.688        0.000            0.000   \n",
       "50%      2019.000         0.000       2477.901        0.000            0.000   \n",
       "75%      2019.000         0.000       3317.627        0.000            0.000   \n",
       "max      2019.000         1.000    4027332.368        1.000            1.000   \n",
       "\n",
       "       SEARISE_2_METER  FLOOD_PLAIN_ZONE  EQUAKE_ZONE  LIQUAFACTION_ZONE  \\\n",
       "count      5131098.000       5131098.000  5131098.000        5131098.000   \n",
       "mean             0.009             0.034        0.023              0.245   \n",
       "std              0.094             0.182        0.149              0.430   \n",
       "min              0.000             0.000        0.000              0.000   \n",
       "25%              0.000             0.000        0.000              0.000   \n",
       "50%              0.000             0.000        0.000              0.000   \n",
       "75%              0.000             0.000        0.000              0.000   \n",
       "max              1.000             1.000        1.000              1.000   \n",
       "\n",
       "       LANDSLIDE_ZONE  PROTECTED_AREA  RIVER_WETLAND_AREA  WILDLIFE_AREA  \\\n",
       "count     5131098.000     5131098.000         5131098.000    5131098.000   \n",
       "mean            0.045           0.033               0.189          0.068   \n",
       "std             0.206           0.179               0.391          0.251   \n",
       "min             0.000           0.000               0.000          0.000   \n",
       "25%             0.000           0.000               0.000          0.000   \n",
       "50%             0.000           0.000               0.000          0.000   \n",
       "75%             0.000           0.000               0.000          0.000   \n",
       "max             1.000           1.000               1.000          1.000   \n",
       "\n",
       "       CNDDB_RARE_SPECIES_AREA  HABITAT_RESERVE_AREA  WETLAND_AREA  \\\n",
       "count              5131098.000           5131098.000   5131098.000   \n",
       "mean                     0.026                 0.017         0.047   \n",
       "std                      0.159                 0.129         0.212   \n",
       "min                      0.000                 0.000         0.000   \n",
       "25%                      0.000                 0.000         0.000   \n",
       "50%                      0.000                 0.000         0.000   \n",
       "75%                      0.000                 0.000         0.000   \n",
       "max                      1.000                 1.000         1.000   \n",
       "\n",
       "       URBANIZED_AREA    UNBUILT_SF  GROCERY_1_MILE  HEALTHCARE_1_MILE  \\\n",
       "count     5131098.000   5131098.000     5131098.000        5131098.000   \n",
       "mean            0.918     23472.223           2.310             31.145   \n",
       "std             0.274    388789.197           4.408             78.563   \n",
       "min             0.000         0.000           0.000              0.000   \n",
       "25%             1.000      2192.075           0.000              0.000   \n",
       "50%             1.000      4255.116           1.000              6.000   \n",
       "75%             1.000      6708.329           3.000             32.000   \n",
       "max             1.000 138981161.871          49.000           1389.000   \n",
       "\n",
       "       OPENSPACE_1_MILE  HIGH_QUALITY_TRANSIT_AREA  JOB_CENTER  \\\n",
       "count       5131098.000                5131098.000 5131098.000   \n",
       "mean             13.280                      0.321       0.143   \n",
       "std              20.500                      0.467       0.350   \n",
       "min               0.000                      0.000       0.000   \n",
       "25%               0.000                      0.000       0.000   \n",
       "50%               5.000                      0.000       0.000   \n",
       "75%              19.000                      1.000       0.000   \n",
       "max             232.000                      1.000       1.000   \n",
       "\n",
       "       NEIGHBORHOOD_MOBILITY_AREA  ABSOLUTE_CONSTRAINT  VARIABLE_CONSTRAINT  \\\n",
       "count                 5131098.000          5131098.000          5131098.000   \n",
       "mean                        0.187                0.060                0.539   \n",
       "std                         0.390                0.237                0.498   \n",
       "min                         0.000                0.000                0.000   \n",
       "25%                         0.000                0.000                0.000   \n",
       "50%                         0.000                0.000                1.000   \n",
       "75%                         0.000                0.000                1.000   \n",
       "max                         1.000                1.000                1.000   \n",
       "\n",
       "       ENVIRONMENT_JUSTICE_AREA  DISADVANTAGED_COMMUNITY_AREA  \\\n",
       "count               5131098.000                   5131098.000   \n",
       "mean                      0.539                         0.240   \n",
       "std                       0.498                         0.427   \n",
       "min                       0.000                         0.000   \n",
       "25%                       0.000                         0.000   \n",
       "50%                       1.000                         0.000   \n",
       "75%                       1.000                         0.000   \n",
       "max                       1.000                         1.000   \n",
       "\n",
       "       COMMUNITY_OF_CONCERN  ADU_SPACE_POSSIBILITY  SETBACK_REDUCTION_ADU  \\\n",
       "count           5131098.000            5131098.000            5131098.000   \n",
       "mean                  0.142                  0.470                  0.493   \n",
       "std                   0.349                  0.499                  0.500   \n",
       "min                   0.000                  0.000                  0.000   \n",
       "25%                   0.000                  0.000                  0.000   \n",
       "50%                   0.000                  0.000                  0.000   \n",
       "75%                   0.000                  1.000                  1.000   \n",
       "max                   1.000                  1.000                  1.000   \n",
       "\n",
       "       SMALL_ADU_POSSIBILITY  PARKING_EXEMPTION_ADU  SETBACK_SMALL_ADU  \\\n",
       "count            5131098.000            5131098.000        5131098.000   \n",
       "mean                   0.491                  0.487              0.497   \n",
       "std                    0.500                  0.500              0.500   \n",
       "min                    0.000                  0.000              0.000   \n",
       "25%                    0.000                  0.000              0.000   \n",
       "50%                    0.000                  0.000              0.000   \n",
       "75%                    1.000                  1.000              1.000   \n",
       "max                    1.000                  1.000              1.000   \n",
       "\n",
       "       SETBACK_PARKING_ADU  SMALL_PARKING_ADU  SETBACK_SMALL_PARKING_ADU  \\\n",
       "count          5131098.000        5131098.000                5131098.000   \n",
       "mean                 0.494              0.492                      0.497   \n",
       "std                  0.500              0.500                      0.500   \n",
       "min                  0.000              0.000                      0.000   \n",
       "25%                  0.000              0.000                      0.000   \n",
       "50%                  0.000              0.000                      0.000   \n",
       "75%                  1.000              1.000                      1.000   \n",
       "max                  1.000              1.000                      1.000   \n",
       "\n",
       "       Shape_Length    Shape_Area  Centroid_X  Centroid_Y  \n",
       "count   5131098.000   5131098.000 5131098.000 5131098.000  \n",
       "mean        297.105     29444.590    -117.798      34.011  \n",
       "std         744.412    333142.120       0.743       0.311  \n",
       "min           0.017         0.000    -119.507      32.622  \n",
       "25%         120.422       802.661    -118.300      33.821  \n",
       "50%         138.255      1030.415    -117.961      34.014  \n",
       "75%         203.412      2119.335    -117.382      34.165  \n",
       "max      127873.231 136734317.019    -114.137      35.808  "
      ]
     },
     "execution_count": 4,
     "metadata": {},
     "output_type": "execute_result"
    }
   ],
   "source": [
    "stats"
   ]
  },
  {
   "cell_type": "code",
   "execution_count": 5,
   "metadata": {},
   "outputs": [
    {
     "data": {
      "text/plain": [
       "Index(['OID_', 'RI_PARCEL_ID', 'APN_RAW_2019', 'COUNTY_NAME', 'RI_COUNTY_ID',\n",
       "       'CITY_NAME', 'CITY_ID', 'MULTIPART', 'STACK', 'ACREAGE', 'SLOPE',\n",
       "       'RI_DEM_GEO_ID_20', 'APN_DUP', 'IMPROVEMENT_RATIO', 'LAND_USE_2019',\n",
       "       'LAND_USE_SOURCE_2019', 'RI_UNIQUE_PARCEL_ID_2016', 'APN',\n",
       "       'CITY_GP_CODE', 'RI_GP_CODE', 'SP_INDEX', 'CITY_SP_CODE', 'RI_SP_CODE',\n",
       "       'CITY_ZONE_CODE', 'RI_ZONE_CODE', 'LAND_USE_2016', 'YEAR',\n",
       "       'PUBLIC_OWNED', 'PUB_AGENCY_NAME', 'PUBLIC_TYPE', 'PUBLIC_SOURCE',\n",
       "       'BUILDING_SQFT', 'EPA_BROWN_NAME', 'EPA_BROWN_TYPE', 'FIRE_HAZARD',\n",
       "       'SEARISE_1_METER', 'SEARISE_2_METER', 'FLOOD_PLAIN_ZONE', 'EQUAKE_ZONE',\n",
       "       'LIQUAFACTION_ZONE', 'LANDSLIDE_ZONE', 'PROTECTED_AREA',\n",
       "       'RIVER_WETLAND_AREA', 'WILDLIFE_AREA', 'CNDDB_RARE_SPECIES_AREA',\n",
       "       'HABITAT_RESERVE_AREA', 'WETLAND_AREA', 'URBANIZED_AREA', 'UNBUILT_SF',\n",
       "       'GROCERY_1_MILE', 'HEALTHCARE_1_MILE', 'OPENSPACE_1_MILE',\n",
       "       'OPPORTUNITY_LEVEL', 'HIGH_QUALITY_TRANSIT_AREA', 'JOB_CENTER',\n",
       "       'NEIGHBORHOOD_MOBILITY_AREA', 'ABSOLUTE_CONSTRAINT',\n",
       "       'VARIABLE_CONSTRAINT', 'ENVIRONMENT_JUSTICE_AREA',\n",
       "       'DISADVANTAGED_COMMUNITY_AREA', 'COMMUNITY_OF_CONCERN',\n",
       "       'ADU_SPACE_POSSIBILITY', 'SETBACK_REDUCTION_ADU',\n",
       "       'SMALL_ADU_POSSIBILITY', 'PARKING_EXEMPTION_ADU', 'SETBACK_SMALL_ADU',\n",
       "       'SETBACK_PARKING_ADU', 'SMALL_PARKING_ADU', 'SETBACK_SMALL_PARKING_ADU',\n",
       "       'JURISDICTION_LABEL', 'LAND_USE_CLASS_NAME', 'Shape_Length',\n",
       "       'Shape_Area', 'Centroid_X', 'Centroid_Y'],\n",
       "      dtype='object')"
      ]
     },
     "execution_count": 5,
     "metadata": {},
     "output_type": "execute_result"
    }
   ],
   "source": [
    "df.columns"
   ]
  },
  {
   "cell_type": "markdown",
   "metadata": {},
   "source": [
    "# APN Insights based on 2019 Data\n",
    "## Initial Questions we should ask regarding each City\n",
    "\n",
    "\n",
    "**ACREAGE**\n",
    "- What is the average Acreage of a parcel per city? Name the top 10 and bottom 10\n",
    "\n",
    "**SLOPE** \n",
    "- What is the average Slope of a parcel per city? Name the top 10 and bottom 10\n",
    "\n",
    "**IMPROVEMENT RATIO** \n",
    "- What is the average Improvement Ratio per City? Name the top 10 and bottom 10\n",
    "\n",
    "**SQUARE FOOTAGE**\n",
    "- What is the average unbuilt square footage per city?\n",
    "- What is the average square footage of a parcel per city? Name the top 10 and bottom 10\n"
   ]
  },
  {
   "cell_type": "code",
   "execution_count": 6,
   "metadata": {},
   "outputs": [
    {
     "data": {
      "application/vnd.plotly.v1+json": {
       "config": {
        "plotlyServerURL": "https://plot.ly"
       },
       "data": [
        {
         "alignmentgroup": "True",
         "hovertemplate": "CITY_NAME=%{x}<br>Average_Acreage=%{y}<extra></extra>",
         "legendgroup": "",
         "marker": {
          "color": "#636efa",
          "pattern": {
           "shape": ""
          }
         },
         "name": "",
         "offsetgroup": "",
         "orientation": "v",
         "showlegend": false,
         "textposition": "auto",
         "type": "bar",
         "x": [
          "Compton",
          "Garden Grove",
          "Artesia",
          "Westminster",
          "South Gate",
          "La Palma",
          "Lynwood",
          "Hermosa Beach",
          "Maywood",
          "Manhattan Beach"
         ],
         "xaxis": "x",
         "y": [
          0.287846985404534,
          0.2859239588704189,
          0.2687691631615469,
          0.26626531740929965,
          0.23338995257188264,
          0.22730534455135643,
          0.21534249200712632,
          0.2079831331013646,
          0.17251149368274915,
          0.15997787852005113
         ],
         "yaxis": "y"
        }
       ],
       "layout": {
        "barmode": "relative",
        "legend": {
         "tracegroupgap": 0
        },
        "template": {
         "data": {
          "bar": [
           {
            "error_x": {
             "color": "#2a3f5f"
            },
            "error_y": {
             "color": "#2a3f5f"
            },
            "marker": {
             "line": {
              "color": "#E5ECF6",
              "width": 0.5
             },
             "pattern": {
              "fillmode": "overlay",
              "size": 10,
              "solidity": 0.2
             }
            },
            "type": "bar"
           }
          ],
          "barpolar": [
           {
            "marker": {
             "line": {
              "color": "#E5ECF6",
              "width": 0.5
             },
             "pattern": {
              "fillmode": "overlay",
              "size": 10,
              "solidity": 0.2
             }
            },
            "type": "barpolar"
           }
          ],
          "carpet": [
           {
            "aaxis": {
             "endlinecolor": "#2a3f5f",
             "gridcolor": "white",
             "linecolor": "white",
             "minorgridcolor": "white",
             "startlinecolor": "#2a3f5f"
            },
            "baxis": {
             "endlinecolor": "#2a3f5f",
             "gridcolor": "white",
             "linecolor": "white",
             "minorgridcolor": "white",
             "startlinecolor": "#2a3f5f"
            },
            "type": "carpet"
           }
          ],
          "choropleth": [
           {
            "colorbar": {
             "outlinewidth": 0,
             "ticks": ""
            },
            "type": "choropleth"
           }
          ],
          "contour": [
           {
            "colorbar": {
             "outlinewidth": 0,
             "ticks": ""
            },
            "colorscale": [
             [
              0,
              "#0d0887"
             ],
             [
              0.1111111111111111,
              "#46039f"
             ],
             [
              0.2222222222222222,
              "#7201a8"
             ],
             [
              0.3333333333333333,
              "#9c179e"
             ],
             [
              0.4444444444444444,
              "#bd3786"
             ],
             [
              0.5555555555555556,
              "#d8576b"
             ],
             [
              0.6666666666666666,
              "#ed7953"
             ],
             [
              0.7777777777777778,
              "#fb9f3a"
             ],
             [
              0.8888888888888888,
              "#fdca26"
             ],
             [
              1,
              "#f0f921"
             ]
            ],
            "type": "contour"
           }
          ],
          "contourcarpet": [
           {
            "colorbar": {
             "outlinewidth": 0,
             "ticks": ""
            },
            "type": "contourcarpet"
           }
          ],
          "heatmap": [
           {
            "colorbar": {
             "outlinewidth": 0,
             "ticks": ""
            },
            "colorscale": [
             [
              0,
              "#0d0887"
             ],
             [
              0.1111111111111111,
              "#46039f"
             ],
             [
              0.2222222222222222,
              "#7201a8"
             ],
             [
              0.3333333333333333,
              "#9c179e"
             ],
             [
              0.4444444444444444,
              "#bd3786"
             ],
             [
              0.5555555555555556,
              "#d8576b"
             ],
             [
              0.6666666666666666,
              "#ed7953"
             ],
             [
              0.7777777777777778,
              "#fb9f3a"
             ],
             [
              0.8888888888888888,
              "#fdca26"
             ],
             [
              1,
              "#f0f921"
             ]
            ],
            "type": "heatmap"
           }
          ],
          "heatmapgl": [
           {
            "colorbar": {
             "outlinewidth": 0,
             "ticks": ""
            },
            "colorscale": [
             [
              0,
              "#0d0887"
             ],
             [
              0.1111111111111111,
              "#46039f"
             ],
             [
              0.2222222222222222,
              "#7201a8"
             ],
             [
              0.3333333333333333,
              "#9c179e"
             ],
             [
              0.4444444444444444,
              "#bd3786"
             ],
             [
              0.5555555555555556,
              "#d8576b"
             ],
             [
              0.6666666666666666,
              "#ed7953"
             ],
             [
              0.7777777777777778,
              "#fb9f3a"
             ],
             [
              0.8888888888888888,
              "#fdca26"
             ],
             [
              1,
              "#f0f921"
             ]
            ],
            "type": "heatmapgl"
           }
          ],
          "histogram": [
           {
            "marker": {
             "pattern": {
              "fillmode": "overlay",
              "size": 10,
              "solidity": 0.2
             }
            },
            "type": "histogram"
           }
          ],
          "histogram2d": [
           {
            "colorbar": {
             "outlinewidth": 0,
             "ticks": ""
            },
            "colorscale": [
             [
              0,
              "#0d0887"
             ],
             [
              0.1111111111111111,
              "#46039f"
             ],
             [
              0.2222222222222222,
              "#7201a8"
             ],
             [
              0.3333333333333333,
              "#9c179e"
             ],
             [
              0.4444444444444444,
              "#bd3786"
             ],
             [
              0.5555555555555556,
              "#d8576b"
             ],
             [
              0.6666666666666666,
              "#ed7953"
             ],
             [
              0.7777777777777778,
              "#fb9f3a"
             ],
             [
              0.8888888888888888,
              "#fdca26"
             ],
             [
              1,
              "#f0f921"
             ]
            ],
            "type": "histogram2d"
           }
          ],
          "histogram2dcontour": [
           {
            "colorbar": {
             "outlinewidth": 0,
             "ticks": ""
            },
            "colorscale": [
             [
              0,
              "#0d0887"
             ],
             [
              0.1111111111111111,
              "#46039f"
             ],
             [
              0.2222222222222222,
              "#7201a8"
             ],
             [
              0.3333333333333333,
              "#9c179e"
             ],
             [
              0.4444444444444444,
              "#bd3786"
             ],
             [
              0.5555555555555556,
              "#d8576b"
             ],
             [
              0.6666666666666666,
              "#ed7953"
             ],
             [
              0.7777777777777778,
              "#fb9f3a"
             ],
             [
              0.8888888888888888,
              "#fdca26"
             ],
             [
              1,
              "#f0f921"
             ]
            ],
            "type": "histogram2dcontour"
           }
          ],
          "mesh3d": [
           {
            "colorbar": {
             "outlinewidth": 0,
             "ticks": ""
            },
            "type": "mesh3d"
           }
          ],
          "parcoords": [
           {
            "line": {
             "colorbar": {
              "outlinewidth": 0,
              "ticks": ""
             }
            },
            "type": "parcoords"
           }
          ],
          "pie": [
           {
            "automargin": true,
            "type": "pie"
           }
          ],
          "scatter": [
           {
            "fillpattern": {
             "fillmode": "overlay",
             "size": 10,
             "solidity": 0.2
            },
            "type": "scatter"
           }
          ],
          "scatter3d": [
           {
            "line": {
             "colorbar": {
              "outlinewidth": 0,
              "ticks": ""
             }
            },
            "marker": {
             "colorbar": {
              "outlinewidth": 0,
              "ticks": ""
             }
            },
            "type": "scatter3d"
           }
          ],
          "scattercarpet": [
           {
            "marker": {
             "colorbar": {
              "outlinewidth": 0,
              "ticks": ""
             }
            },
            "type": "scattercarpet"
           }
          ],
          "scattergeo": [
           {
            "marker": {
             "colorbar": {
              "outlinewidth": 0,
              "ticks": ""
             }
            },
            "type": "scattergeo"
           }
          ],
          "scattergl": [
           {
            "marker": {
             "colorbar": {
              "outlinewidth": 0,
              "ticks": ""
             }
            },
            "type": "scattergl"
           }
          ],
          "scattermapbox": [
           {
            "marker": {
             "colorbar": {
              "outlinewidth": 0,
              "ticks": ""
             }
            },
            "type": "scattermapbox"
           }
          ],
          "scatterpolar": [
           {
            "marker": {
             "colorbar": {
              "outlinewidth": 0,
              "ticks": ""
             }
            },
            "type": "scatterpolar"
           }
          ],
          "scatterpolargl": [
           {
            "marker": {
             "colorbar": {
              "outlinewidth": 0,
              "ticks": ""
             }
            },
            "type": "scatterpolargl"
           }
          ],
          "scatterternary": [
           {
            "marker": {
             "colorbar": {
              "outlinewidth": 0,
              "ticks": ""
             }
            },
            "type": "scatterternary"
           }
          ],
          "surface": [
           {
            "colorbar": {
             "outlinewidth": 0,
             "ticks": ""
            },
            "colorscale": [
             [
              0,
              "#0d0887"
             ],
             [
              0.1111111111111111,
              "#46039f"
             ],
             [
              0.2222222222222222,
              "#7201a8"
             ],
             [
              0.3333333333333333,
              "#9c179e"
             ],
             [
              0.4444444444444444,
              "#bd3786"
             ],
             [
              0.5555555555555556,
              "#d8576b"
             ],
             [
              0.6666666666666666,
              "#ed7953"
             ],
             [
              0.7777777777777778,
              "#fb9f3a"
             ],
             [
              0.8888888888888888,
              "#fdca26"
             ],
             [
              1,
              "#f0f921"
             ]
            ],
            "type": "surface"
           }
          ],
          "table": [
           {
            "cells": {
             "fill": {
              "color": "#EBF0F8"
             },
             "line": {
              "color": "white"
             }
            },
            "header": {
             "fill": {
              "color": "#C8D4E3"
             },
             "line": {
              "color": "white"
             }
            },
            "type": "table"
           }
          ]
         },
         "layout": {
          "annotationdefaults": {
           "arrowcolor": "#2a3f5f",
           "arrowhead": 0,
           "arrowwidth": 1
          },
          "autotypenumbers": "strict",
          "coloraxis": {
           "colorbar": {
            "outlinewidth": 0,
            "ticks": ""
           }
          },
          "colorscale": {
           "diverging": [
            [
             0,
             "#8e0152"
            ],
            [
             0.1,
             "#c51b7d"
            ],
            [
             0.2,
             "#de77ae"
            ],
            [
             0.3,
             "#f1b6da"
            ],
            [
             0.4,
             "#fde0ef"
            ],
            [
             0.5,
             "#f7f7f7"
            ],
            [
             0.6,
             "#e6f5d0"
            ],
            [
             0.7,
             "#b8e186"
            ],
            [
             0.8,
             "#7fbc41"
            ],
            [
             0.9,
             "#4d9221"
            ],
            [
             1,
             "#276419"
            ]
           ],
           "sequential": [
            [
             0,
             "#0d0887"
            ],
            [
             0.1111111111111111,
             "#46039f"
            ],
            [
             0.2222222222222222,
             "#7201a8"
            ],
            [
             0.3333333333333333,
             "#9c179e"
            ],
            [
             0.4444444444444444,
             "#bd3786"
            ],
            [
             0.5555555555555556,
             "#d8576b"
            ],
            [
             0.6666666666666666,
             "#ed7953"
            ],
            [
             0.7777777777777778,
             "#fb9f3a"
            ],
            [
             0.8888888888888888,
             "#fdca26"
            ],
            [
             1,
             "#f0f921"
            ]
           ],
           "sequentialminus": [
            [
             0,
             "#0d0887"
            ],
            [
             0.1111111111111111,
             "#46039f"
            ],
            [
             0.2222222222222222,
             "#7201a8"
            ],
            [
             0.3333333333333333,
             "#9c179e"
            ],
            [
             0.4444444444444444,
             "#bd3786"
            ],
            [
             0.5555555555555556,
             "#d8576b"
            ],
            [
             0.6666666666666666,
             "#ed7953"
            ],
            [
             0.7777777777777778,
             "#fb9f3a"
            ],
            [
             0.8888888888888888,
             "#fdca26"
            ],
            [
             1,
             "#f0f921"
            ]
           ]
          },
          "colorway": [
           "#636efa",
           "#EF553B",
           "#00cc96",
           "#ab63fa",
           "#FFA15A",
           "#19d3f3",
           "#FF6692",
           "#B6E880",
           "#FF97FF",
           "#FECB52"
          ],
          "font": {
           "color": "#2a3f5f"
          },
          "geo": {
           "bgcolor": "white",
           "lakecolor": "white",
           "landcolor": "#E5ECF6",
           "showlakes": true,
           "showland": true,
           "subunitcolor": "white"
          },
          "hoverlabel": {
           "align": "left"
          },
          "hovermode": "closest",
          "mapbox": {
           "style": "light"
          },
          "paper_bgcolor": "white",
          "plot_bgcolor": "#E5ECF6",
          "polar": {
           "angularaxis": {
            "gridcolor": "white",
            "linecolor": "white",
            "ticks": ""
           },
           "bgcolor": "#E5ECF6",
           "radialaxis": {
            "gridcolor": "white",
            "linecolor": "white",
            "ticks": ""
           }
          },
          "scene": {
           "xaxis": {
            "backgroundcolor": "#E5ECF6",
            "gridcolor": "white",
            "gridwidth": 2,
            "linecolor": "white",
            "showbackground": true,
            "ticks": "",
            "zerolinecolor": "white"
           },
           "yaxis": {
            "backgroundcolor": "#E5ECF6",
            "gridcolor": "white",
            "gridwidth": 2,
            "linecolor": "white",
            "showbackground": true,
            "ticks": "",
            "zerolinecolor": "white"
           },
           "zaxis": {
            "backgroundcolor": "#E5ECF6",
            "gridcolor": "white",
            "gridwidth": 2,
            "linecolor": "white",
            "showbackground": true,
            "ticks": "",
            "zerolinecolor": "white"
           }
          },
          "shapedefaults": {
           "line": {
            "color": "#2a3f5f"
           }
          },
          "ternary": {
           "aaxis": {
            "gridcolor": "white",
            "linecolor": "white",
            "ticks": ""
           },
           "baxis": {
            "gridcolor": "white",
            "linecolor": "white",
            "ticks": ""
           },
           "bgcolor": "#E5ECF6",
           "caxis": {
            "gridcolor": "white",
            "linecolor": "white",
            "ticks": ""
           }
          },
          "title": {
           "x": 0.05
          },
          "xaxis": {
           "automargin": true,
           "gridcolor": "white",
           "linecolor": "white",
           "ticks": "",
           "title": {
            "standoff": 15
           },
           "zerolinecolor": "white",
           "zerolinewidth": 2
          },
          "yaxis": {
           "automargin": true,
           "gridcolor": "white",
           "linecolor": "white",
           "ticks": "",
           "title": {
            "standoff": 15
           },
           "zerolinecolor": "white",
           "zerolinewidth": 2
          }
         }
        },
        "title": {
         "text": "Top 10 Cities by Average Acreage"
        },
        "xaxis": {
         "anchor": "y",
         "domain": [
          0,
          1
         ],
         "title": {
          "text": "CITY_NAME"
         }
        },
        "yaxis": {
         "anchor": "x",
         "domain": [
          0,
          1
         ],
         "title": {
          "text": "Average_Acreage"
         }
        }
       }
      }
     },
     "metadata": {},
     "output_type": "display_data"
    }
   ],
   "source": [
    "# Assuming a 'CITY_NAME' column exists:\n",
    "df_average_acreage_per_city = df.groupby('CITY_NAME')['ACREAGE'].mean().reset_index(name='Average_Acreage')\n",
    "\n",
    "# Lowest acreage per city \n",
    "top_acreage_per_city = df_average_acreage_per_city.sort_values(by='Average_Acreage', ascending=False).tail(10)\n",
    "\n",
    "top_acreage_per_city = px.bar(top_acreage_per_city, x = 'CITY_NAME', y = 'Average_Acreage', title='Top 10 Cities by Average Acreage')\n",
    "\n",
    "top_acreage_per_city.show()"
   ]
  },
  {
   "cell_type": "code",
   "execution_count": 7,
   "metadata": {},
   "outputs": [
    {
     "data": {
      "application/vnd.plotly.v1+json": {
       "config": {
        "plotlyServerURL": "https://plot.ly"
       },
       "data": [
        {
         "alignmentgroup": "True",
         "hovertemplate": "CITY_NAME=%{x}<br>Average_Improvement_Ratio=%{y}<extra></extra>",
         "legendgroup": "",
         "marker": {
          "color": "#636efa",
          "pattern": {
           "shape": ""
          }
         },
         "name": "",
         "offsetgroup": "",
         "orientation": "v",
         "showlegend": false,
         "textposition": "auto",
         "type": "bar",
         "x": [
          "Pasadena",
          "Avalon",
          "Calipatria",
          "Imperial",
          "Westmorland",
          "Hesperia",
          "Yucca Valley",
          "Apple Valley",
          "Brawley",
          "Holtville"
         ],
         "xaxis": "x",
         "y": [
          22.559174938024483,
          17.65876240469208,
          7.247032629727352,
          5.36792072248062,
          5.282090280065898,
          4.129366876933987,
          3.8963885765765762,
          3.8884913589364847,
          3.867804902583943,
          3.7701020014245015
         ],
         "yaxis": "y"
        }
       ],
       "layout": {
        "barmode": "relative",
        "legend": {
         "tracegroupgap": 0
        },
        "template": {
         "data": {
          "bar": [
           {
            "error_x": {
             "color": "#2a3f5f"
            },
            "error_y": {
             "color": "#2a3f5f"
            },
            "marker": {
             "line": {
              "color": "#E5ECF6",
              "width": 0.5
             },
             "pattern": {
              "fillmode": "overlay",
              "size": 10,
              "solidity": 0.2
             }
            },
            "type": "bar"
           }
          ],
          "barpolar": [
           {
            "marker": {
             "line": {
              "color": "#E5ECF6",
              "width": 0.5
             },
             "pattern": {
              "fillmode": "overlay",
              "size": 10,
              "solidity": 0.2
             }
            },
            "type": "barpolar"
           }
          ],
          "carpet": [
           {
            "aaxis": {
             "endlinecolor": "#2a3f5f",
             "gridcolor": "white",
             "linecolor": "white",
             "minorgridcolor": "white",
             "startlinecolor": "#2a3f5f"
            },
            "baxis": {
             "endlinecolor": "#2a3f5f",
             "gridcolor": "white",
             "linecolor": "white",
             "minorgridcolor": "white",
             "startlinecolor": "#2a3f5f"
            },
            "type": "carpet"
           }
          ],
          "choropleth": [
           {
            "colorbar": {
             "outlinewidth": 0,
             "ticks": ""
            },
            "type": "choropleth"
           }
          ],
          "contour": [
           {
            "colorbar": {
             "outlinewidth": 0,
             "ticks": ""
            },
            "colorscale": [
             [
              0,
              "#0d0887"
             ],
             [
              0.1111111111111111,
              "#46039f"
             ],
             [
              0.2222222222222222,
              "#7201a8"
             ],
             [
              0.3333333333333333,
              "#9c179e"
             ],
             [
              0.4444444444444444,
              "#bd3786"
             ],
             [
              0.5555555555555556,
              "#d8576b"
             ],
             [
              0.6666666666666666,
              "#ed7953"
             ],
             [
              0.7777777777777778,
              "#fb9f3a"
             ],
             [
              0.8888888888888888,
              "#fdca26"
             ],
             [
              1,
              "#f0f921"
             ]
            ],
            "type": "contour"
           }
          ],
          "contourcarpet": [
           {
            "colorbar": {
             "outlinewidth": 0,
             "ticks": ""
            },
            "type": "contourcarpet"
           }
          ],
          "heatmap": [
           {
            "colorbar": {
             "outlinewidth": 0,
             "ticks": ""
            },
            "colorscale": [
             [
              0,
              "#0d0887"
             ],
             [
              0.1111111111111111,
              "#46039f"
             ],
             [
              0.2222222222222222,
              "#7201a8"
             ],
             [
              0.3333333333333333,
              "#9c179e"
             ],
             [
              0.4444444444444444,
              "#bd3786"
             ],
             [
              0.5555555555555556,
              "#d8576b"
             ],
             [
              0.6666666666666666,
              "#ed7953"
             ],
             [
              0.7777777777777778,
              "#fb9f3a"
             ],
             [
              0.8888888888888888,
              "#fdca26"
             ],
             [
              1,
              "#f0f921"
             ]
            ],
            "type": "heatmap"
           }
          ],
          "heatmapgl": [
           {
            "colorbar": {
             "outlinewidth": 0,
             "ticks": ""
            },
            "colorscale": [
             [
              0,
              "#0d0887"
             ],
             [
              0.1111111111111111,
              "#46039f"
             ],
             [
              0.2222222222222222,
              "#7201a8"
             ],
             [
              0.3333333333333333,
              "#9c179e"
             ],
             [
              0.4444444444444444,
              "#bd3786"
             ],
             [
              0.5555555555555556,
              "#d8576b"
             ],
             [
              0.6666666666666666,
              "#ed7953"
             ],
             [
              0.7777777777777778,
              "#fb9f3a"
             ],
             [
              0.8888888888888888,
              "#fdca26"
             ],
             [
              1,
              "#f0f921"
             ]
            ],
            "type": "heatmapgl"
           }
          ],
          "histogram": [
           {
            "marker": {
             "pattern": {
              "fillmode": "overlay",
              "size": 10,
              "solidity": 0.2
             }
            },
            "type": "histogram"
           }
          ],
          "histogram2d": [
           {
            "colorbar": {
             "outlinewidth": 0,
             "ticks": ""
            },
            "colorscale": [
             [
              0,
              "#0d0887"
             ],
             [
              0.1111111111111111,
              "#46039f"
             ],
             [
              0.2222222222222222,
              "#7201a8"
             ],
             [
              0.3333333333333333,
              "#9c179e"
             ],
             [
              0.4444444444444444,
              "#bd3786"
             ],
             [
              0.5555555555555556,
              "#d8576b"
             ],
             [
              0.6666666666666666,
              "#ed7953"
             ],
             [
              0.7777777777777778,
              "#fb9f3a"
             ],
             [
              0.8888888888888888,
              "#fdca26"
             ],
             [
              1,
              "#f0f921"
             ]
            ],
            "type": "histogram2d"
           }
          ],
          "histogram2dcontour": [
           {
            "colorbar": {
             "outlinewidth": 0,
             "ticks": ""
            },
            "colorscale": [
             [
              0,
              "#0d0887"
             ],
             [
              0.1111111111111111,
              "#46039f"
             ],
             [
              0.2222222222222222,
              "#7201a8"
             ],
             [
              0.3333333333333333,
              "#9c179e"
             ],
             [
              0.4444444444444444,
              "#bd3786"
             ],
             [
              0.5555555555555556,
              "#d8576b"
             ],
             [
              0.6666666666666666,
              "#ed7953"
             ],
             [
              0.7777777777777778,
              "#fb9f3a"
             ],
             [
              0.8888888888888888,
              "#fdca26"
             ],
             [
              1,
              "#f0f921"
             ]
            ],
            "type": "histogram2dcontour"
           }
          ],
          "mesh3d": [
           {
            "colorbar": {
             "outlinewidth": 0,
             "ticks": ""
            },
            "type": "mesh3d"
           }
          ],
          "parcoords": [
           {
            "line": {
             "colorbar": {
              "outlinewidth": 0,
              "ticks": ""
             }
            },
            "type": "parcoords"
           }
          ],
          "pie": [
           {
            "automargin": true,
            "type": "pie"
           }
          ],
          "scatter": [
           {
            "fillpattern": {
             "fillmode": "overlay",
             "size": 10,
             "solidity": 0.2
            },
            "type": "scatter"
           }
          ],
          "scatter3d": [
           {
            "line": {
             "colorbar": {
              "outlinewidth": 0,
              "ticks": ""
             }
            },
            "marker": {
             "colorbar": {
              "outlinewidth": 0,
              "ticks": ""
             }
            },
            "type": "scatter3d"
           }
          ],
          "scattercarpet": [
           {
            "marker": {
             "colorbar": {
              "outlinewidth": 0,
              "ticks": ""
             }
            },
            "type": "scattercarpet"
           }
          ],
          "scattergeo": [
           {
            "marker": {
             "colorbar": {
              "outlinewidth": 0,
              "ticks": ""
             }
            },
            "type": "scattergeo"
           }
          ],
          "scattergl": [
           {
            "marker": {
             "colorbar": {
              "outlinewidth": 0,
              "ticks": ""
             }
            },
            "type": "scattergl"
           }
          ],
          "scattermapbox": [
           {
            "marker": {
             "colorbar": {
              "outlinewidth": 0,
              "ticks": ""
             }
            },
            "type": "scattermapbox"
           }
          ],
          "scatterpolar": [
           {
            "marker": {
             "colorbar": {
              "outlinewidth": 0,
              "ticks": ""
             }
            },
            "type": "scatterpolar"
           }
          ],
          "scatterpolargl": [
           {
            "marker": {
             "colorbar": {
              "outlinewidth": 0,
              "ticks": ""
             }
            },
            "type": "scatterpolargl"
           }
          ],
          "scatterternary": [
           {
            "marker": {
             "colorbar": {
              "outlinewidth": 0,
              "ticks": ""
             }
            },
            "type": "scatterternary"
           }
          ],
          "surface": [
           {
            "colorbar": {
             "outlinewidth": 0,
             "ticks": ""
            },
            "colorscale": [
             [
              0,
              "#0d0887"
             ],
             [
              0.1111111111111111,
              "#46039f"
             ],
             [
              0.2222222222222222,
              "#7201a8"
             ],
             [
              0.3333333333333333,
              "#9c179e"
             ],
             [
              0.4444444444444444,
              "#bd3786"
             ],
             [
              0.5555555555555556,
              "#d8576b"
             ],
             [
              0.6666666666666666,
              "#ed7953"
             ],
             [
              0.7777777777777778,
              "#fb9f3a"
             ],
             [
              0.8888888888888888,
              "#fdca26"
             ],
             [
              1,
              "#f0f921"
             ]
            ],
            "type": "surface"
           }
          ],
          "table": [
           {
            "cells": {
             "fill": {
              "color": "#EBF0F8"
             },
             "line": {
              "color": "white"
             }
            },
            "header": {
             "fill": {
              "color": "#C8D4E3"
             },
             "line": {
              "color": "white"
             }
            },
            "type": "table"
           }
          ]
         },
         "layout": {
          "annotationdefaults": {
           "arrowcolor": "#2a3f5f",
           "arrowhead": 0,
           "arrowwidth": 1
          },
          "autotypenumbers": "strict",
          "coloraxis": {
           "colorbar": {
            "outlinewidth": 0,
            "ticks": ""
           }
          },
          "colorscale": {
           "diverging": [
            [
             0,
             "#8e0152"
            ],
            [
             0.1,
             "#c51b7d"
            ],
            [
             0.2,
             "#de77ae"
            ],
            [
             0.3,
             "#f1b6da"
            ],
            [
             0.4,
             "#fde0ef"
            ],
            [
             0.5,
             "#f7f7f7"
            ],
            [
             0.6,
             "#e6f5d0"
            ],
            [
             0.7,
             "#b8e186"
            ],
            [
             0.8,
             "#7fbc41"
            ],
            [
             0.9,
             "#4d9221"
            ],
            [
             1,
             "#276419"
            ]
           ],
           "sequential": [
            [
             0,
             "#0d0887"
            ],
            [
             0.1111111111111111,
             "#46039f"
            ],
            [
             0.2222222222222222,
             "#7201a8"
            ],
            [
             0.3333333333333333,
             "#9c179e"
            ],
            [
             0.4444444444444444,
             "#bd3786"
            ],
            [
             0.5555555555555556,
             "#d8576b"
            ],
            [
             0.6666666666666666,
             "#ed7953"
            ],
            [
             0.7777777777777778,
             "#fb9f3a"
            ],
            [
             0.8888888888888888,
             "#fdca26"
            ],
            [
             1,
             "#f0f921"
            ]
           ],
           "sequentialminus": [
            [
             0,
             "#0d0887"
            ],
            [
             0.1111111111111111,
             "#46039f"
            ],
            [
             0.2222222222222222,
             "#7201a8"
            ],
            [
             0.3333333333333333,
             "#9c179e"
            ],
            [
             0.4444444444444444,
             "#bd3786"
            ],
            [
             0.5555555555555556,
             "#d8576b"
            ],
            [
             0.6666666666666666,
             "#ed7953"
            ],
            [
             0.7777777777777778,
             "#fb9f3a"
            ],
            [
             0.8888888888888888,
             "#fdca26"
            ],
            [
             1,
             "#f0f921"
            ]
           ]
          },
          "colorway": [
           "#636efa",
           "#EF553B",
           "#00cc96",
           "#ab63fa",
           "#FFA15A",
           "#19d3f3",
           "#FF6692",
           "#B6E880",
           "#FF97FF",
           "#FECB52"
          ],
          "font": {
           "color": "#2a3f5f"
          },
          "geo": {
           "bgcolor": "white",
           "lakecolor": "white",
           "landcolor": "#E5ECF6",
           "showlakes": true,
           "showland": true,
           "subunitcolor": "white"
          },
          "hoverlabel": {
           "align": "left"
          },
          "hovermode": "closest",
          "mapbox": {
           "style": "light"
          },
          "paper_bgcolor": "white",
          "plot_bgcolor": "#E5ECF6",
          "polar": {
           "angularaxis": {
            "gridcolor": "white",
            "linecolor": "white",
            "ticks": ""
           },
           "bgcolor": "#E5ECF6",
           "radialaxis": {
            "gridcolor": "white",
            "linecolor": "white",
            "ticks": ""
           }
          },
          "scene": {
           "xaxis": {
            "backgroundcolor": "#E5ECF6",
            "gridcolor": "white",
            "gridwidth": 2,
            "linecolor": "white",
            "showbackground": true,
            "ticks": "",
            "zerolinecolor": "white"
           },
           "yaxis": {
            "backgroundcolor": "#E5ECF6",
            "gridcolor": "white",
            "gridwidth": 2,
            "linecolor": "white",
            "showbackground": true,
            "ticks": "",
            "zerolinecolor": "white"
           },
           "zaxis": {
            "backgroundcolor": "#E5ECF6",
            "gridcolor": "white",
            "gridwidth": 2,
            "linecolor": "white",
            "showbackground": true,
            "ticks": "",
            "zerolinecolor": "white"
           }
          },
          "shapedefaults": {
           "line": {
            "color": "#2a3f5f"
           }
          },
          "ternary": {
           "aaxis": {
            "gridcolor": "white",
            "linecolor": "white",
            "ticks": ""
           },
           "baxis": {
            "gridcolor": "white",
            "linecolor": "white",
            "ticks": ""
           },
           "bgcolor": "#E5ECF6",
           "caxis": {
            "gridcolor": "white",
            "linecolor": "white",
            "ticks": ""
           }
          },
          "title": {
           "x": 0.05
          },
          "xaxis": {
           "automargin": true,
           "gridcolor": "white",
           "linecolor": "white",
           "ticks": "",
           "title": {
            "standoff": 15
           },
           "zerolinecolor": "white",
           "zerolinewidth": 2
          },
          "yaxis": {
           "automargin": true,
           "gridcolor": "white",
           "linecolor": "white",
           "ticks": "",
           "title": {
            "standoff": 15
           },
           "zerolinecolor": "white",
           "zerolinewidth": 2
          }
         }
        },
        "title": {
         "text": "Top 10 Cities with Highest Average Improvement Ratio"
        },
        "xaxis": {
         "anchor": "y",
         "domain": [
          0,
          1
         ],
         "title": {
          "text": "CITY_NAME"
         }
        },
        "yaxis": {
         "anchor": "x",
         "domain": [
          0,
          1
         ],
         "title": {
          "text": "Average_Improvement_Ratio"
         }
        }
       }
      }
     },
     "metadata": {},
     "output_type": "display_data"
    }
   ],
   "source": [
    "# Find the average improvement ratio per city\n",
    "df_average_improvement_ratio_per_city = df.groupby('CITY_NAME')['IMPROVEMENT_RATIO'].mean().reset_index(name='Average_Improvement_Ratio')\n",
    "\n",
    "# Sort the DataFrame by the average improvement ratio\n",
    "top_improvement_ratio_per_city = df_average_improvement_ratio_per_city.sort_values(by='Average_Improvement_Ratio', ascending=False).head(10)\n",
    "\n",
    "# Visualization for top 10 cities with highest average improvement ratio\n",
    "fig_unbuilt_sqft_per_city = px.bar(top_improvement_ratio_per_city, x='CITY_NAME', y='Average_Improvement_Ratio', title='Top 10 Cities with Highest Average Improvement Ratio')\n",
    "\n",
    "fig_unbuilt_sqft_per_city.show()"
   ]
  },
  {
   "cell_type": "code",
   "execution_count": 8,
   "metadata": {},
   "outputs": [
    {
     "data": {
      "application/vnd.plotly.v1+json": {
       "config": {
        "plotlyServerURL": "https://plot.ly"
       },
       "data": [
        {
         "alignmentgroup": "True",
         "hovertemplate": "CITY_NAME=%{x}<br>Average_Unbuilt_Square_Footage=%{y}<extra></extra>",
         "legendgroup": "",
         "marker": {
          "color": "#636efa",
          "pattern": {
           "shape": ""
          }
         },
         "name": "",
         "offsetgroup": "",
         "orientation": "v",
         "showlegend": false,
         "textposition": "auto",
         "type": "bar",
         "x": [
          "Laguna Woods",
          "Irwindale",
          "Avalon",
          "Rolling Hills",
          "Industry",
          "Westlake Village",
          "Bradbury",
          "Santa Clarita",
          "Seal Beach",
          "Unincorporated"
         ],
         "xaxis": "x",
         "y": [
          185636.84807317008,
          160899.06350164858,
          135330.43376719116,
          89774.65399153256,
          80944.32939361862,
          80311.44684197044,
          76068.80365263071,
          60230.724870648395,
          59950.6774199593,
          55880.99205367525
         ],
         "yaxis": "y"
        }
       ],
       "layout": {
        "barmode": "relative",
        "legend": {
         "tracegroupgap": 0
        },
        "template": {
         "data": {
          "bar": [
           {
            "error_x": {
             "color": "#2a3f5f"
            },
            "error_y": {
             "color": "#2a3f5f"
            },
            "marker": {
             "line": {
              "color": "#E5ECF6",
              "width": 0.5
             },
             "pattern": {
              "fillmode": "overlay",
              "size": 10,
              "solidity": 0.2
             }
            },
            "type": "bar"
           }
          ],
          "barpolar": [
           {
            "marker": {
             "line": {
              "color": "#E5ECF6",
              "width": 0.5
             },
             "pattern": {
              "fillmode": "overlay",
              "size": 10,
              "solidity": 0.2
             }
            },
            "type": "barpolar"
           }
          ],
          "carpet": [
           {
            "aaxis": {
             "endlinecolor": "#2a3f5f",
             "gridcolor": "white",
             "linecolor": "white",
             "minorgridcolor": "white",
             "startlinecolor": "#2a3f5f"
            },
            "baxis": {
             "endlinecolor": "#2a3f5f",
             "gridcolor": "white",
             "linecolor": "white",
             "minorgridcolor": "white",
             "startlinecolor": "#2a3f5f"
            },
            "type": "carpet"
           }
          ],
          "choropleth": [
           {
            "colorbar": {
             "outlinewidth": 0,
             "ticks": ""
            },
            "type": "choropleth"
           }
          ],
          "contour": [
           {
            "colorbar": {
             "outlinewidth": 0,
             "ticks": ""
            },
            "colorscale": [
             [
              0,
              "#0d0887"
             ],
             [
              0.1111111111111111,
              "#46039f"
             ],
             [
              0.2222222222222222,
              "#7201a8"
             ],
             [
              0.3333333333333333,
              "#9c179e"
             ],
             [
              0.4444444444444444,
              "#bd3786"
             ],
             [
              0.5555555555555556,
              "#d8576b"
             ],
             [
              0.6666666666666666,
              "#ed7953"
             ],
             [
              0.7777777777777778,
              "#fb9f3a"
             ],
             [
              0.8888888888888888,
              "#fdca26"
             ],
             [
              1,
              "#f0f921"
             ]
            ],
            "type": "contour"
           }
          ],
          "contourcarpet": [
           {
            "colorbar": {
             "outlinewidth": 0,
             "ticks": ""
            },
            "type": "contourcarpet"
           }
          ],
          "heatmap": [
           {
            "colorbar": {
             "outlinewidth": 0,
             "ticks": ""
            },
            "colorscale": [
             [
              0,
              "#0d0887"
             ],
             [
              0.1111111111111111,
              "#46039f"
             ],
             [
              0.2222222222222222,
              "#7201a8"
             ],
             [
              0.3333333333333333,
              "#9c179e"
             ],
             [
              0.4444444444444444,
              "#bd3786"
             ],
             [
              0.5555555555555556,
              "#d8576b"
             ],
             [
              0.6666666666666666,
              "#ed7953"
             ],
             [
              0.7777777777777778,
              "#fb9f3a"
             ],
             [
              0.8888888888888888,
              "#fdca26"
             ],
             [
              1,
              "#f0f921"
             ]
            ],
            "type": "heatmap"
           }
          ],
          "heatmapgl": [
           {
            "colorbar": {
             "outlinewidth": 0,
             "ticks": ""
            },
            "colorscale": [
             [
              0,
              "#0d0887"
             ],
             [
              0.1111111111111111,
              "#46039f"
             ],
             [
              0.2222222222222222,
              "#7201a8"
             ],
             [
              0.3333333333333333,
              "#9c179e"
             ],
             [
              0.4444444444444444,
              "#bd3786"
             ],
             [
              0.5555555555555556,
              "#d8576b"
             ],
             [
              0.6666666666666666,
              "#ed7953"
             ],
             [
              0.7777777777777778,
              "#fb9f3a"
             ],
             [
              0.8888888888888888,
              "#fdca26"
             ],
             [
              1,
              "#f0f921"
             ]
            ],
            "type": "heatmapgl"
           }
          ],
          "histogram": [
           {
            "marker": {
             "pattern": {
              "fillmode": "overlay",
              "size": 10,
              "solidity": 0.2
             }
            },
            "type": "histogram"
           }
          ],
          "histogram2d": [
           {
            "colorbar": {
             "outlinewidth": 0,
             "ticks": ""
            },
            "colorscale": [
             [
              0,
              "#0d0887"
             ],
             [
              0.1111111111111111,
              "#46039f"
             ],
             [
              0.2222222222222222,
              "#7201a8"
             ],
             [
              0.3333333333333333,
              "#9c179e"
             ],
             [
              0.4444444444444444,
              "#bd3786"
             ],
             [
              0.5555555555555556,
              "#d8576b"
             ],
             [
              0.6666666666666666,
              "#ed7953"
             ],
             [
              0.7777777777777778,
              "#fb9f3a"
             ],
             [
              0.8888888888888888,
              "#fdca26"
             ],
             [
              1,
              "#f0f921"
             ]
            ],
            "type": "histogram2d"
           }
          ],
          "histogram2dcontour": [
           {
            "colorbar": {
             "outlinewidth": 0,
             "ticks": ""
            },
            "colorscale": [
             [
              0,
              "#0d0887"
             ],
             [
              0.1111111111111111,
              "#46039f"
             ],
             [
              0.2222222222222222,
              "#7201a8"
             ],
             [
              0.3333333333333333,
              "#9c179e"
             ],
             [
              0.4444444444444444,
              "#bd3786"
             ],
             [
              0.5555555555555556,
              "#d8576b"
             ],
             [
              0.6666666666666666,
              "#ed7953"
             ],
             [
              0.7777777777777778,
              "#fb9f3a"
             ],
             [
              0.8888888888888888,
              "#fdca26"
             ],
             [
              1,
              "#f0f921"
             ]
            ],
            "type": "histogram2dcontour"
           }
          ],
          "mesh3d": [
           {
            "colorbar": {
             "outlinewidth": 0,
             "ticks": ""
            },
            "type": "mesh3d"
           }
          ],
          "parcoords": [
           {
            "line": {
             "colorbar": {
              "outlinewidth": 0,
              "ticks": ""
             }
            },
            "type": "parcoords"
           }
          ],
          "pie": [
           {
            "automargin": true,
            "type": "pie"
           }
          ],
          "scatter": [
           {
            "fillpattern": {
             "fillmode": "overlay",
             "size": 10,
             "solidity": 0.2
            },
            "type": "scatter"
           }
          ],
          "scatter3d": [
           {
            "line": {
             "colorbar": {
              "outlinewidth": 0,
              "ticks": ""
             }
            },
            "marker": {
             "colorbar": {
              "outlinewidth": 0,
              "ticks": ""
             }
            },
            "type": "scatter3d"
           }
          ],
          "scattercarpet": [
           {
            "marker": {
             "colorbar": {
              "outlinewidth": 0,
              "ticks": ""
             }
            },
            "type": "scattercarpet"
           }
          ],
          "scattergeo": [
           {
            "marker": {
             "colorbar": {
              "outlinewidth": 0,
              "ticks": ""
             }
            },
            "type": "scattergeo"
           }
          ],
          "scattergl": [
           {
            "marker": {
             "colorbar": {
              "outlinewidth": 0,
              "ticks": ""
             }
            },
            "type": "scattergl"
           }
          ],
          "scattermapbox": [
           {
            "marker": {
             "colorbar": {
              "outlinewidth": 0,
              "ticks": ""
             }
            },
            "type": "scattermapbox"
           }
          ],
          "scatterpolar": [
           {
            "marker": {
             "colorbar": {
              "outlinewidth": 0,
              "ticks": ""
             }
            },
            "type": "scatterpolar"
           }
          ],
          "scatterpolargl": [
           {
            "marker": {
             "colorbar": {
              "outlinewidth": 0,
              "ticks": ""
             }
            },
            "type": "scatterpolargl"
           }
          ],
          "scatterternary": [
           {
            "marker": {
             "colorbar": {
              "outlinewidth": 0,
              "ticks": ""
             }
            },
            "type": "scatterternary"
           }
          ],
          "surface": [
           {
            "colorbar": {
             "outlinewidth": 0,
             "ticks": ""
            },
            "colorscale": [
             [
              0,
              "#0d0887"
             ],
             [
              0.1111111111111111,
              "#46039f"
             ],
             [
              0.2222222222222222,
              "#7201a8"
             ],
             [
              0.3333333333333333,
              "#9c179e"
             ],
             [
              0.4444444444444444,
              "#bd3786"
             ],
             [
              0.5555555555555556,
              "#d8576b"
             ],
             [
              0.6666666666666666,
              "#ed7953"
             ],
             [
              0.7777777777777778,
              "#fb9f3a"
             ],
             [
              0.8888888888888888,
              "#fdca26"
             ],
             [
              1,
              "#f0f921"
             ]
            ],
            "type": "surface"
           }
          ],
          "table": [
           {
            "cells": {
             "fill": {
              "color": "#EBF0F8"
             },
             "line": {
              "color": "white"
             }
            },
            "header": {
             "fill": {
              "color": "#C8D4E3"
             },
             "line": {
              "color": "white"
             }
            },
            "type": "table"
           }
          ]
         },
         "layout": {
          "annotationdefaults": {
           "arrowcolor": "#2a3f5f",
           "arrowhead": 0,
           "arrowwidth": 1
          },
          "autotypenumbers": "strict",
          "coloraxis": {
           "colorbar": {
            "outlinewidth": 0,
            "ticks": ""
           }
          },
          "colorscale": {
           "diverging": [
            [
             0,
             "#8e0152"
            ],
            [
             0.1,
             "#c51b7d"
            ],
            [
             0.2,
             "#de77ae"
            ],
            [
             0.3,
             "#f1b6da"
            ],
            [
             0.4,
             "#fde0ef"
            ],
            [
             0.5,
             "#f7f7f7"
            ],
            [
             0.6,
             "#e6f5d0"
            ],
            [
             0.7,
             "#b8e186"
            ],
            [
             0.8,
             "#7fbc41"
            ],
            [
             0.9,
             "#4d9221"
            ],
            [
             1,
             "#276419"
            ]
           ],
           "sequential": [
            [
             0,
             "#0d0887"
            ],
            [
             0.1111111111111111,
             "#46039f"
            ],
            [
             0.2222222222222222,
             "#7201a8"
            ],
            [
             0.3333333333333333,
             "#9c179e"
            ],
            [
             0.4444444444444444,
             "#bd3786"
            ],
            [
             0.5555555555555556,
             "#d8576b"
            ],
            [
             0.6666666666666666,
             "#ed7953"
            ],
            [
             0.7777777777777778,
             "#fb9f3a"
            ],
            [
             0.8888888888888888,
             "#fdca26"
            ],
            [
             1,
             "#f0f921"
            ]
           ],
           "sequentialminus": [
            [
             0,
             "#0d0887"
            ],
            [
             0.1111111111111111,
             "#46039f"
            ],
            [
             0.2222222222222222,
             "#7201a8"
            ],
            [
             0.3333333333333333,
             "#9c179e"
            ],
            [
             0.4444444444444444,
             "#bd3786"
            ],
            [
             0.5555555555555556,
             "#d8576b"
            ],
            [
             0.6666666666666666,
             "#ed7953"
            ],
            [
             0.7777777777777778,
             "#fb9f3a"
            ],
            [
             0.8888888888888888,
             "#fdca26"
            ],
            [
             1,
             "#f0f921"
            ]
           ]
          },
          "colorway": [
           "#636efa",
           "#EF553B",
           "#00cc96",
           "#ab63fa",
           "#FFA15A",
           "#19d3f3",
           "#FF6692",
           "#B6E880",
           "#FF97FF",
           "#FECB52"
          ],
          "font": {
           "color": "#2a3f5f"
          },
          "geo": {
           "bgcolor": "white",
           "lakecolor": "white",
           "landcolor": "#E5ECF6",
           "showlakes": true,
           "showland": true,
           "subunitcolor": "white"
          },
          "hoverlabel": {
           "align": "left"
          },
          "hovermode": "closest",
          "mapbox": {
           "style": "light"
          },
          "paper_bgcolor": "white",
          "plot_bgcolor": "#E5ECF6",
          "polar": {
           "angularaxis": {
            "gridcolor": "white",
            "linecolor": "white",
            "ticks": ""
           },
           "bgcolor": "#E5ECF6",
           "radialaxis": {
            "gridcolor": "white",
            "linecolor": "white",
            "ticks": ""
           }
          },
          "scene": {
           "xaxis": {
            "backgroundcolor": "#E5ECF6",
            "gridcolor": "white",
            "gridwidth": 2,
            "linecolor": "white",
            "showbackground": true,
            "ticks": "",
            "zerolinecolor": "white"
           },
           "yaxis": {
            "backgroundcolor": "#E5ECF6",
            "gridcolor": "white",
            "gridwidth": 2,
            "linecolor": "white",
            "showbackground": true,
            "ticks": "",
            "zerolinecolor": "white"
           },
           "zaxis": {
            "backgroundcolor": "#E5ECF6",
            "gridcolor": "white",
            "gridwidth": 2,
            "linecolor": "white",
            "showbackground": true,
            "ticks": "",
            "zerolinecolor": "white"
           }
          },
          "shapedefaults": {
           "line": {
            "color": "#2a3f5f"
           }
          },
          "ternary": {
           "aaxis": {
            "gridcolor": "white",
            "linecolor": "white",
            "ticks": ""
           },
           "baxis": {
            "gridcolor": "white",
            "linecolor": "white",
            "ticks": ""
           },
           "bgcolor": "#E5ECF6",
           "caxis": {
            "gridcolor": "white",
            "linecolor": "white",
            "ticks": ""
           }
          },
          "title": {
           "x": 0.05
          },
          "xaxis": {
           "automargin": true,
           "gridcolor": "white",
           "linecolor": "white",
           "ticks": "",
           "title": {
            "standoff": 15
           },
           "zerolinecolor": "white",
           "zerolinewidth": 2
          },
          "yaxis": {
           "automargin": true,
           "gridcolor": "white",
           "linecolor": "white",
           "ticks": "",
           "title": {
            "standoff": 15
           },
           "zerolinecolor": "white",
           "zerolinewidth": 2
          }
         }
        },
        "title": {
         "text": "Average Unbuilt Square Footage per City"
        },
        "xaxis": {
         "anchor": "y",
         "domain": [
          0,
          1
         ],
         "title": {
          "text": "CITY_NAME"
         }
        },
        "yaxis": {
         "anchor": "x",
         "domain": [
          0,
          1
         ],
         "title": {
          "text": "Average_Unbuilt_Square_Footage"
         }
        }
       }
      }
     },
     "metadata": {},
     "output_type": "display_data"
    }
   ],
   "source": [
    "# Find the average unbuilt square footage per city\n",
    "df_average_unbuilt_sqft_per_city = df.groupby('CITY_NAME')['UNBUILT_SF'].mean().reset_index(name='Average_Unbuilt_Square_Footage')\n",
    "\n",
    "# Sort the dataframe by 'Average_Unbuilt_Square_Footage' in descending order and take the first 10 rows\n",
    "top_cities_unbuilt_sqft = df_average_unbuilt_sqft_per_city.sort_values('Average_Unbuilt_Square_Footage', ascending=False).head(10)\n",
    "\n",
    "# Visualization for top 10 cities with highest unbuilt square footage\n",
    "fig_unbuilt_sqft_per_city = px.bar(top_cities_unbuilt_sqft, x='CITY_NAME', y='Average_Unbuilt_Square_Footage',\n",
    "                                   title='Average Unbuilt Square Footage per City')\n",
    "fig_unbuilt_sqft_per_city.show()\n"
   ]
  },
  {
   "cell_type": "code",
   "execution_count": 9,
   "metadata": {},
   "outputs": [
    {
     "data": {
      "application/vnd.plotly.v1+json": {
       "config": {
        "plotlyServerURL": "https://plot.ly"
       },
       "data": [
        {
         "alignmentgroup": "True",
         "hovertemplate": "CITY_NAME=%{x}<br>Average_Building_Square_Footage=%{y}<extra></extra>",
         "legendgroup": "",
         "marker": {
          "color": "#636efa",
          "pattern": {
           "shape": ""
          }
         },
         "name": "",
         "offsetgroup": "",
         "orientation": "v",
         "showlegend": false,
         "textposition": "auto",
         "type": "bar",
         "x": [
          "Laguna Woods",
          "Industry",
          "Vernon",
          "Culver City",
          "Westlake Village",
          "Carson",
          "Santa Clarita",
          "Calabasas",
          "Irwindale",
          "Avalon"
         ],
         "xaxis": "x",
         "y": [
          76616.40183420782,
          56443.374920842485,
          38163.80580925225,
          30314.293135718675,
          30164.31641778685,
          30076.05070260788,
          28199.14840301109,
          25925.055755981626,
          24138.116625081948,
          21853.127469458843
         ],
         "yaxis": "y"
        }
       ],
       "layout": {
        "barmode": "relative",
        "legend": {
         "tracegroupgap": 0
        },
        "template": {
         "data": {
          "bar": [
           {
            "error_x": {
             "color": "#2a3f5f"
            },
            "error_y": {
             "color": "#2a3f5f"
            },
            "marker": {
             "line": {
              "color": "#E5ECF6",
              "width": 0.5
             },
             "pattern": {
              "fillmode": "overlay",
              "size": 10,
              "solidity": 0.2
             }
            },
            "type": "bar"
           }
          ],
          "barpolar": [
           {
            "marker": {
             "line": {
              "color": "#E5ECF6",
              "width": 0.5
             },
             "pattern": {
              "fillmode": "overlay",
              "size": 10,
              "solidity": 0.2
             }
            },
            "type": "barpolar"
           }
          ],
          "carpet": [
           {
            "aaxis": {
             "endlinecolor": "#2a3f5f",
             "gridcolor": "white",
             "linecolor": "white",
             "minorgridcolor": "white",
             "startlinecolor": "#2a3f5f"
            },
            "baxis": {
             "endlinecolor": "#2a3f5f",
             "gridcolor": "white",
             "linecolor": "white",
             "minorgridcolor": "white",
             "startlinecolor": "#2a3f5f"
            },
            "type": "carpet"
           }
          ],
          "choropleth": [
           {
            "colorbar": {
             "outlinewidth": 0,
             "ticks": ""
            },
            "type": "choropleth"
           }
          ],
          "contour": [
           {
            "colorbar": {
             "outlinewidth": 0,
             "ticks": ""
            },
            "colorscale": [
             [
              0,
              "#0d0887"
             ],
             [
              0.1111111111111111,
              "#46039f"
             ],
             [
              0.2222222222222222,
              "#7201a8"
             ],
             [
              0.3333333333333333,
              "#9c179e"
             ],
             [
              0.4444444444444444,
              "#bd3786"
             ],
             [
              0.5555555555555556,
              "#d8576b"
             ],
             [
              0.6666666666666666,
              "#ed7953"
             ],
             [
              0.7777777777777778,
              "#fb9f3a"
             ],
             [
              0.8888888888888888,
              "#fdca26"
             ],
             [
              1,
              "#f0f921"
             ]
            ],
            "type": "contour"
           }
          ],
          "contourcarpet": [
           {
            "colorbar": {
             "outlinewidth": 0,
             "ticks": ""
            },
            "type": "contourcarpet"
           }
          ],
          "heatmap": [
           {
            "colorbar": {
             "outlinewidth": 0,
             "ticks": ""
            },
            "colorscale": [
             [
              0,
              "#0d0887"
             ],
             [
              0.1111111111111111,
              "#46039f"
             ],
             [
              0.2222222222222222,
              "#7201a8"
             ],
             [
              0.3333333333333333,
              "#9c179e"
             ],
             [
              0.4444444444444444,
              "#bd3786"
             ],
             [
              0.5555555555555556,
              "#d8576b"
             ],
             [
              0.6666666666666666,
              "#ed7953"
             ],
             [
              0.7777777777777778,
              "#fb9f3a"
             ],
             [
              0.8888888888888888,
              "#fdca26"
             ],
             [
              1,
              "#f0f921"
             ]
            ],
            "type": "heatmap"
           }
          ],
          "heatmapgl": [
           {
            "colorbar": {
             "outlinewidth": 0,
             "ticks": ""
            },
            "colorscale": [
             [
              0,
              "#0d0887"
             ],
             [
              0.1111111111111111,
              "#46039f"
             ],
             [
              0.2222222222222222,
              "#7201a8"
             ],
             [
              0.3333333333333333,
              "#9c179e"
             ],
             [
              0.4444444444444444,
              "#bd3786"
             ],
             [
              0.5555555555555556,
              "#d8576b"
             ],
             [
              0.6666666666666666,
              "#ed7953"
             ],
             [
              0.7777777777777778,
              "#fb9f3a"
             ],
             [
              0.8888888888888888,
              "#fdca26"
             ],
             [
              1,
              "#f0f921"
             ]
            ],
            "type": "heatmapgl"
           }
          ],
          "histogram": [
           {
            "marker": {
             "pattern": {
              "fillmode": "overlay",
              "size": 10,
              "solidity": 0.2
             }
            },
            "type": "histogram"
           }
          ],
          "histogram2d": [
           {
            "colorbar": {
             "outlinewidth": 0,
             "ticks": ""
            },
            "colorscale": [
             [
              0,
              "#0d0887"
             ],
             [
              0.1111111111111111,
              "#46039f"
             ],
             [
              0.2222222222222222,
              "#7201a8"
             ],
             [
              0.3333333333333333,
              "#9c179e"
             ],
             [
              0.4444444444444444,
              "#bd3786"
             ],
             [
              0.5555555555555556,
              "#d8576b"
             ],
             [
              0.6666666666666666,
              "#ed7953"
             ],
             [
              0.7777777777777778,
              "#fb9f3a"
             ],
             [
              0.8888888888888888,
              "#fdca26"
             ],
             [
              1,
              "#f0f921"
             ]
            ],
            "type": "histogram2d"
           }
          ],
          "histogram2dcontour": [
           {
            "colorbar": {
             "outlinewidth": 0,
             "ticks": ""
            },
            "colorscale": [
             [
              0,
              "#0d0887"
             ],
             [
              0.1111111111111111,
              "#46039f"
             ],
             [
              0.2222222222222222,
              "#7201a8"
             ],
             [
              0.3333333333333333,
              "#9c179e"
             ],
             [
              0.4444444444444444,
              "#bd3786"
             ],
             [
              0.5555555555555556,
              "#d8576b"
             ],
             [
              0.6666666666666666,
              "#ed7953"
             ],
             [
              0.7777777777777778,
              "#fb9f3a"
             ],
             [
              0.8888888888888888,
              "#fdca26"
             ],
             [
              1,
              "#f0f921"
             ]
            ],
            "type": "histogram2dcontour"
           }
          ],
          "mesh3d": [
           {
            "colorbar": {
             "outlinewidth": 0,
             "ticks": ""
            },
            "type": "mesh3d"
           }
          ],
          "parcoords": [
           {
            "line": {
             "colorbar": {
              "outlinewidth": 0,
              "ticks": ""
             }
            },
            "type": "parcoords"
           }
          ],
          "pie": [
           {
            "automargin": true,
            "type": "pie"
           }
          ],
          "scatter": [
           {
            "fillpattern": {
             "fillmode": "overlay",
             "size": 10,
             "solidity": 0.2
            },
            "type": "scatter"
           }
          ],
          "scatter3d": [
           {
            "line": {
             "colorbar": {
              "outlinewidth": 0,
              "ticks": ""
             }
            },
            "marker": {
             "colorbar": {
              "outlinewidth": 0,
              "ticks": ""
             }
            },
            "type": "scatter3d"
           }
          ],
          "scattercarpet": [
           {
            "marker": {
             "colorbar": {
              "outlinewidth": 0,
              "ticks": ""
             }
            },
            "type": "scattercarpet"
           }
          ],
          "scattergeo": [
           {
            "marker": {
             "colorbar": {
              "outlinewidth": 0,
              "ticks": ""
             }
            },
            "type": "scattergeo"
           }
          ],
          "scattergl": [
           {
            "marker": {
             "colorbar": {
              "outlinewidth": 0,
              "ticks": ""
             }
            },
            "type": "scattergl"
           }
          ],
          "scattermapbox": [
           {
            "marker": {
             "colorbar": {
              "outlinewidth": 0,
              "ticks": ""
             }
            },
            "type": "scattermapbox"
           }
          ],
          "scatterpolar": [
           {
            "marker": {
             "colorbar": {
              "outlinewidth": 0,
              "ticks": ""
             }
            },
            "type": "scatterpolar"
           }
          ],
          "scatterpolargl": [
           {
            "marker": {
             "colorbar": {
              "outlinewidth": 0,
              "ticks": ""
             }
            },
            "type": "scatterpolargl"
           }
          ],
          "scatterternary": [
           {
            "marker": {
             "colorbar": {
              "outlinewidth": 0,
              "ticks": ""
             }
            },
            "type": "scatterternary"
           }
          ],
          "surface": [
           {
            "colorbar": {
             "outlinewidth": 0,
             "ticks": ""
            },
            "colorscale": [
             [
              0,
              "#0d0887"
             ],
             [
              0.1111111111111111,
              "#46039f"
             ],
             [
              0.2222222222222222,
              "#7201a8"
             ],
             [
              0.3333333333333333,
              "#9c179e"
             ],
             [
              0.4444444444444444,
              "#bd3786"
             ],
             [
              0.5555555555555556,
              "#d8576b"
             ],
             [
              0.6666666666666666,
              "#ed7953"
             ],
             [
              0.7777777777777778,
              "#fb9f3a"
             ],
             [
              0.8888888888888888,
              "#fdca26"
             ],
             [
              1,
              "#f0f921"
             ]
            ],
            "type": "surface"
           }
          ],
          "table": [
           {
            "cells": {
             "fill": {
              "color": "#EBF0F8"
             },
             "line": {
              "color": "white"
             }
            },
            "header": {
             "fill": {
              "color": "#C8D4E3"
             },
             "line": {
              "color": "white"
             }
            },
            "type": "table"
           }
          ]
         },
         "layout": {
          "annotationdefaults": {
           "arrowcolor": "#2a3f5f",
           "arrowhead": 0,
           "arrowwidth": 1
          },
          "autotypenumbers": "strict",
          "coloraxis": {
           "colorbar": {
            "outlinewidth": 0,
            "ticks": ""
           }
          },
          "colorscale": {
           "diverging": [
            [
             0,
             "#8e0152"
            ],
            [
             0.1,
             "#c51b7d"
            ],
            [
             0.2,
             "#de77ae"
            ],
            [
             0.3,
             "#f1b6da"
            ],
            [
             0.4,
             "#fde0ef"
            ],
            [
             0.5,
             "#f7f7f7"
            ],
            [
             0.6,
             "#e6f5d0"
            ],
            [
             0.7,
             "#b8e186"
            ],
            [
             0.8,
             "#7fbc41"
            ],
            [
             0.9,
             "#4d9221"
            ],
            [
             1,
             "#276419"
            ]
           ],
           "sequential": [
            [
             0,
             "#0d0887"
            ],
            [
             0.1111111111111111,
             "#46039f"
            ],
            [
             0.2222222222222222,
             "#7201a8"
            ],
            [
             0.3333333333333333,
             "#9c179e"
            ],
            [
             0.4444444444444444,
             "#bd3786"
            ],
            [
             0.5555555555555556,
             "#d8576b"
            ],
            [
             0.6666666666666666,
             "#ed7953"
            ],
            [
             0.7777777777777778,
             "#fb9f3a"
            ],
            [
             0.8888888888888888,
             "#fdca26"
            ],
            [
             1,
             "#f0f921"
            ]
           ],
           "sequentialminus": [
            [
             0,
             "#0d0887"
            ],
            [
             0.1111111111111111,
             "#46039f"
            ],
            [
             0.2222222222222222,
             "#7201a8"
            ],
            [
             0.3333333333333333,
             "#9c179e"
            ],
            [
             0.4444444444444444,
             "#bd3786"
            ],
            [
             0.5555555555555556,
             "#d8576b"
            ],
            [
             0.6666666666666666,
             "#ed7953"
            ],
            [
             0.7777777777777778,
             "#fb9f3a"
            ],
            [
             0.8888888888888888,
             "#fdca26"
            ],
            [
             1,
             "#f0f921"
            ]
           ]
          },
          "colorway": [
           "#636efa",
           "#EF553B",
           "#00cc96",
           "#ab63fa",
           "#FFA15A",
           "#19d3f3",
           "#FF6692",
           "#B6E880",
           "#FF97FF",
           "#FECB52"
          ],
          "font": {
           "color": "#2a3f5f"
          },
          "geo": {
           "bgcolor": "white",
           "lakecolor": "white",
           "landcolor": "#E5ECF6",
           "showlakes": true,
           "showland": true,
           "subunitcolor": "white"
          },
          "hoverlabel": {
           "align": "left"
          },
          "hovermode": "closest",
          "mapbox": {
           "style": "light"
          },
          "paper_bgcolor": "white",
          "plot_bgcolor": "#E5ECF6",
          "polar": {
           "angularaxis": {
            "gridcolor": "white",
            "linecolor": "white",
            "ticks": ""
           },
           "bgcolor": "#E5ECF6",
           "radialaxis": {
            "gridcolor": "white",
            "linecolor": "white",
            "ticks": ""
           }
          },
          "scene": {
           "xaxis": {
            "backgroundcolor": "#E5ECF6",
            "gridcolor": "white",
            "gridwidth": 2,
            "linecolor": "white",
            "showbackground": true,
            "ticks": "",
            "zerolinecolor": "white"
           },
           "yaxis": {
            "backgroundcolor": "#E5ECF6",
            "gridcolor": "white",
            "gridwidth": 2,
            "linecolor": "white",
            "showbackground": true,
            "ticks": "",
            "zerolinecolor": "white"
           },
           "zaxis": {
            "backgroundcolor": "#E5ECF6",
            "gridcolor": "white",
            "gridwidth": 2,
            "linecolor": "white",
            "showbackground": true,
            "ticks": "",
            "zerolinecolor": "white"
           }
          },
          "shapedefaults": {
           "line": {
            "color": "#2a3f5f"
           }
          },
          "ternary": {
           "aaxis": {
            "gridcolor": "white",
            "linecolor": "white",
            "ticks": ""
           },
           "baxis": {
            "gridcolor": "white",
            "linecolor": "white",
            "ticks": ""
           },
           "bgcolor": "#E5ECF6",
           "caxis": {
            "gridcolor": "white",
            "linecolor": "white",
            "ticks": ""
           }
          },
          "title": {
           "x": 0.05
          },
          "xaxis": {
           "automargin": true,
           "gridcolor": "white",
           "linecolor": "white",
           "ticks": "",
           "title": {
            "standoff": 15
           },
           "zerolinecolor": "white",
           "zerolinewidth": 2
          },
          "yaxis": {
           "automargin": true,
           "gridcolor": "white",
           "linecolor": "white",
           "ticks": "",
           "title": {
            "standoff": 15
           },
           "zerolinecolor": "white",
           "zerolinewidth": 2
          }
         }
        },
        "title": {
         "text": "Average Building Square Footage per City"
        },
        "xaxis": {
         "anchor": "y",
         "domain": [
          0,
          1
         ],
         "title": {
          "text": "CITY_NAME"
         }
        },
        "yaxis": {
         "anchor": "x",
         "domain": [
          0,
          1
         ],
         "title": {
          "text": "Average_Building_Square_Footage"
         }
        }
       }
      }
     },
     "metadata": {},
     "output_type": "display_data"
    }
   ],
   "source": [
    "# Find the average unbuilt square footage per city\n",
    "df_average_building_sqft_per_city = df.groupby('CITY_NAME')['BUILDING_SQFT'].mean().reset_index(name='Average_Building_Square_Footage')\n",
    "\n",
    "# Sort the dataframe by 'Average_Unbuilt_Square_Footage' in descending order and take the first 10 rows\n",
    "top_cities_building_sqft = df_average_building_sqft_per_city.sort_values('Average_Building_Square_Footage', ascending=False).head(10)\n",
    "\n",
    "# Visualization for top 10 cities with highest unbuilt square footage\n",
    "fig_building_sqft_per_city = px.bar(top_cities_building_sqft, x='CITY_NAME', y='Average_Building_Square_Footage',\n",
    "                                   title='Average Building Square Footage per City')\n",
    "fig_building_sqft_per_city.show()\n"
   ]
  },
  {
   "cell_type": "markdown",
   "metadata": {},
   "source": [
    "## A Deeper Dive regarding each City and their APN's\n",
    "\n",
    "### We are going to remove outliers and evenly sample the data from each \"LAND_USE_CLASS_NAME\" to get a better understanding of each city\n"
   ]
  },
  {
   "cell_type": "code",
   "execution_count": 10,
   "metadata": {},
   "outputs": [],
   "source": [
    "# Define a function to calculate IQR and define outliers\n",
    "def remove_outliers(df, column):\n",
    "    Q1 = df[column].quantile(0.25)\n",
    "    Q3 = df[column].quantile(0.75)\n",
    "    IQR = Q3 - Q1\n",
    "    lower_bound = Q1 - 1.5 * IQR\n",
    "    upper_bound = Q3 + 1.5 * IQR\n",
    "    return df[(df[column] >= lower_bound) & (df[column] <= upper_bound)]"
   ]
  },
  {
   "cell_type": "code",
   "execution_count": 11,
   "metadata": {},
   "outputs": [],
   "source": [
    "# Function to sample up to n instances, or the city's total instances if fewer than n\n",
    "def sample_n_or_less(group, n=30):\n",
    "    return group.sample(n=min(n, len(group)), random_state=1) if len(group) > 0 else group"
   ]
  },
  {
   "cell_type": "markdown",
   "metadata": {},
   "source": [
    "### Top 15 Building Square Footage across Single Family Residential Properties "
   ]
  },
  {
   "cell_type": "code",
   "execution_count": 12,
   "metadata": {},
   "outputs": [
    {
     "data": {
      "application/vnd.plotly.v1+json": {
       "config": {
        "plotlyServerURL": "https://plot.ly"
       },
       "data": [
        {
         "alignmentgroup": "True",
         "hovertemplate": "CITY_NAME=%{x}<br>Average_Building_Square_Footage=%{y}<extra></extra>",
         "legendgroup": "",
         "marker": {
          "color": "#636efa",
          "pattern": {
           "shape": ""
          }
         },
         "name": "",
         "offsetgroup": "",
         "orientation": "v",
         "showlegend": false,
         "textfont": {
          "size": 16
         },
         "textposition": "auto",
         "type": "bar",
         "x": [
          "Rolling Hills",
          "Hidden Hills",
          "Bradbury",
          "Indian Wells",
          "Villa Park",
          "La Habra Heights",
          "Beverly Hills",
          "Rancho Mirage",
          "Rolling Hills Estates",
          "San Marino",
          "Norco",
          "Malibu",
          "La Canada Flintridge",
          "Arcadia",
          "Westlake Village"
         ],
         "xaxis": "x",
         "y": [
          7055.044933026173,
          6225.999953438626,
          5970.325013206678,
          4672.297175765647,
          4410.016393077166,
          4308.617987608231,
          3948.784237324487,
          3894.716964128822,
          3773.5221318357358,
          3680.375245327486,
          3664.113340021606,
          3580.6420686963406,
          3526.417086955145,
          3472.9847911725433,
          3310.6649584342954
         ],
         "yaxis": "y"
        }
       ],
       "layout": {
        "barmode": "relative",
        "font": {
         "color": "white"
        },
        "legend": {
         "tracegroupgap": 0
        },
        "paper_bgcolor": "black",
        "plot_bgcolor": "black",
        "template": {
         "data": {
          "bar": [
           {
            "error_x": {
             "color": "#f2f5fa"
            },
            "error_y": {
             "color": "#f2f5fa"
            },
            "marker": {
             "line": {
              "color": "rgb(17,17,17)",
              "width": 0.5
             },
             "pattern": {
              "fillmode": "overlay",
              "size": 10,
              "solidity": 0.2
             }
            },
            "type": "bar"
           }
          ],
          "barpolar": [
           {
            "marker": {
             "line": {
              "color": "rgb(17,17,17)",
              "width": 0.5
             },
             "pattern": {
              "fillmode": "overlay",
              "size": 10,
              "solidity": 0.2
             }
            },
            "type": "barpolar"
           }
          ],
          "carpet": [
           {
            "aaxis": {
             "endlinecolor": "#A2B1C6",
             "gridcolor": "#506784",
             "linecolor": "#506784",
             "minorgridcolor": "#506784",
             "startlinecolor": "#A2B1C6"
            },
            "baxis": {
             "endlinecolor": "#A2B1C6",
             "gridcolor": "#506784",
             "linecolor": "#506784",
             "minorgridcolor": "#506784",
             "startlinecolor": "#A2B1C6"
            },
            "type": "carpet"
           }
          ],
          "choropleth": [
           {
            "colorbar": {
             "outlinewidth": 0,
             "ticks": ""
            },
            "type": "choropleth"
           }
          ],
          "contour": [
           {
            "colorbar": {
             "outlinewidth": 0,
             "ticks": ""
            },
            "colorscale": [
             [
              0,
              "#0d0887"
             ],
             [
              0.1111111111111111,
              "#46039f"
             ],
             [
              0.2222222222222222,
              "#7201a8"
             ],
             [
              0.3333333333333333,
              "#9c179e"
             ],
             [
              0.4444444444444444,
              "#bd3786"
             ],
             [
              0.5555555555555556,
              "#d8576b"
             ],
             [
              0.6666666666666666,
              "#ed7953"
             ],
             [
              0.7777777777777778,
              "#fb9f3a"
             ],
             [
              0.8888888888888888,
              "#fdca26"
             ],
             [
              1,
              "#f0f921"
             ]
            ],
            "type": "contour"
           }
          ],
          "contourcarpet": [
           {
            "colorbar": {
             "outlinewidth": 0,
             "ticks": ""
            },
            "type": "contourcarpet"
           }
          ],
          "heatmap": [
           {
            "colorbar": {
             "outlinewidth": 0,
             "ticks": ""
            },
            "colorscale": [
             [
              0,
              "#0d0887"
             ],
             [
              0.1111111111111111,
              "#46039f"
             ],
             [
              0.2222222222222222,
              "#7201a8"
             ],
             [
              0.3333333333333333,
              "#9c179e"
             ],
             [
              0.4444444444444444,
              "#bd3786"
             ],
             [
              0.5555555555555556,
              "#d8576b"
             ],
             [
              0.6666666666666666,
              "#ed7953"
             ],
             [
              0.7777777777777778,
              "#fb9f3a"
             ],
             [
              0.8888888888888888,
              "#fdca26"
             ],
             [
              1,
              "#f0f921"
             ]
            ],
            "type": "heatmap"
           }
          ],
          "heatmapgl": [
           {
            "colorbar": {
             "outlinewidth": 0,
             "ticks": ""
            },
            "colorscale": [
             [
              0,
              "#0d0887"
             ],
             [
              0.1111111111111111,
              "#46039f"
             ],
             [
              0.2222222222222222,
              "#7201a8"
             ],
             [
              0.3333333333333333,
              "#9c179e"
             ],
             [
              0.4444444444444444,
              "#bd3786"
             ],
             [
              0.5555555555555556,
              "#d8576b"
             ],
             [
              0.6666666666666666,
              "#ed7953"
             ],
             [
              0.7777777777777778,
              "#fb9f3a"
             ],
             [
              0.8888888888888888,
              "#fdca26"
             ],
             [
              1,
              "#f0f921"
             ]
            ],
            "type": "heatmapgl"
           }
          ],
          "histogram": [
           {
            "marker": {
             "pattern": {
              "fillmode": "overlay",
              "size": 10,
              "solidity": 0.2
             }
            },
            "type": "histogram"
           }
          ],
          "histogram2d": [
           {
            "colorbar": {
             "outlinewidth": 0,
             "ticks": ""
            },
            "colorscale": [
             [
              0,
              "#0d0887"
             ],
             [
              0.1111111111111111,
              "#46039f"
             ],
             [
              0.2222222222222222,
              "#7201a8"
             ],
             [
              0.3333333333333333,
              "#9c179e"
             ],
             [
              0.4444444444444444,
              "#bd3786"
             ],
             [
              0.5555555555555556,
              "#d8576b"
             ],
             [
              0.6666666666666666,
              "#ed7953"
             ],
             [
              0.7777777777777778,
              "#fb9f3a"
             ],
             [
              0.8888888888888888,
              "#fdca26"
             ],
             [
              1,
              "#f0f921"
             ]
            ],
            "type": "histogram2d"
           }
          ],
          "histogram2dcontour": [
           {
            "colorbar": {
             "outlinewidth": 0,
             "ticks": ""
            },
            "colorscale": [
             [
              0,
              "#0d0887"
             ],
             [
              0.1111111111111111,
              "#46039f"
             ],
             [
              0.2222222222222222,
              "#7201a8"
             ],
             [
              0.3333333333333333,
              "#9c179e"
             ],
             [
              0.4444444444444444,
              "#bd3786"
             ],
             [
              0.5555555555555556,
              "#d8576b"
             ],
             [
              0.6666666666666666,
              "#ed7953"
             ],
             [
              0.7777777777777778,
              "#fb9f3a"
             ],
             [
              0.8888888888888888,
              "#fdca26"
             ],
             [
              1,
              "#f0f921"
             ]
            ],
            "type": "histogram2dcontour"
           }
          ],
          "mesh3d": [
           {
            "colorbar": {
             "outlinewidth": 0,
             "ticks": ""
            },
            "type": "mesh3d"
           }
          ],
          "parcoords": [
           {
            "line": {
             "colorbar": {
              "outlinewidth": 0,
              "ticks": ""
             }
            },
            "type": "parcoords"
           }
          ],
          "pie": [
           {
            "automargin": true,
            "type": "pie"
           }
          ],
          "scatter": [
           {
            "marker": {
             "line": {
              "color": "#283442"
             }
            },
            "type": "scatter"
           }
          ],
          "scatter3d": [
           {
            "line": {
             "colorbar": {
              "outlinewidth": 0,
              "ticks": ""
             }
            },
            "marker": {
             "colorbar": {
              "outlinewidth": 0,
              "ticks": ""
             }
            },
            "type": "scatter3d"
           }
          ],
          "scattercarpet": [
           {
            "marker": {
             "colorbar": {
              "outlinewidth": 0,
              "ticks": ""
             }
            },
            "type": "scattercarpet"
           }
          ],
          "scattergeo": [
           {
            "marker": {
             "colorbar": {
              "outlinewidth": 0,
              "ticks": ""
             }
            },
            "type": "scattergeo"
           }
          ],
          "scattergl": [
           {
            "marker": {
             "line": {
              "color": "#283442"
             }
            },
            "type": "scattergl"
           }
          ],
          "scattermapbox": [
           {
            "marker": {
             "colorbar": {
              "outlinewidth": 0,
              "ticks": ""
             }
            },
            "type": "scattermapbox"
           }
          ],
          "scatterpolar": [
           {
            "marker": {
             "colorbar": {
              "outlinewidth": 0,
              "ticks": ""
             }
            },
            "type": "scatterpolar"
           }
          ],
          "scatterpolargl": [
           {
            "marker": {
             "colorbar": {
              "outlinewidth": 0,
              "ticks": ""
             }
            },
            "type": "scatterpolargl"
           }
          ],
          "scatterternary": [
           {
            "marker": {
             "colorbar": {
              "outlinewidth": 0,
              "ticks": ""
             }
            },
            "type": "scatterternary"
           }
          ],
          "surface": [
           {
            "colorbar": {
             "outlinewidth": 0,
             "ticks": ""
            },
            "colorscale": [
             [
              0,
              "#0d0887"
             ],
             [
              0.1111111111111111,
              "#46039f"
             ],
             [
              0.2222222222222222,
              "#7201a8"
             ],
             [
              0.3333333333333333,
              "#9c179e"
             ],
             [
              0.4444444444444444,
              "#bd3786"
             ],
             [
              0.5555555555555556,
              "#d8576b"
             ],
             [
              0.6666666666666666,
              "#ed7953"
             ],
             [
              0.7777777777777778,
              "#fb9f3a"
             ],
             [
              0.8888888888888888,
              "#fdca26"
             ],
             [
              1,
              "#f0f921"
             ]
            ],
            "type": "surface"
           }
          ],
          "table": [
           {
            "cells": {
             "fill": {
              "color": "#506784"
             },
             "line": {
              "color": "rgb(17,17,17)"
             }
            },
            "header": {
             "fill": {
              "color": "#2a3f5f"
             },
             "line": {
              "color": "rgb(17,17,17)"
             }
            },
            "type": "table"
           }
          ]
         },
         "layout": {
          "annotationdefaults": {
           "arrowcolor": "#f2f5fa",
           "arrowhead": 0,
           "arrowwidth": 1
          },
          "autotypenumbers": "strict",
          "coloraxis": {
           "colorbar": {
            "outlinewidth": 0,
            "ticks": ""
           }
          },
          "colorscale": {
           "diverging": [
            [
             0,
             "#8e0152"
            ],
            [
             0.1,
             "#c51b7d"
            ],
            [
             0.2,
             "#de77ae"
            ],
            [
             0.3,
             "#f1b6da"
            ],
            [
             0.4,
             "#fde0ef"
            ],
            [
             0.5,
             "#f7f7f7"
            ],
            [
             0.6,
             "#e6f5d0"
            ],
            [
             0.7,
             "#b8e186"
            ],
            [
             0.8,
             "#7fbc41"
            ],
            [
             0.9,
             "#4d9221"
            ],
            [
             1,
             "#276419"
            ]
           ],
           "sequential": [
            [
             0,
             "#0d0887"
            ],
            [
             0.1111111111111111,
             "#46039f"
            ],
            [
             0.2222222222222222,
             "#7201a8"
            ],
            [
             0.3333333333333333,
             "#9c179e"
            ],
            [
             0.4444444444444444,
             "#bd3786"
            ],
            [
             0.5555555555555556,
             "#d8576b"
            ],
            [
             0.6666666666666666,
             "#ed7953"
            ],
            [
             0.7777777777777778,
             "#fb9f3a"
            ],
            [
             0.8888888888888888,
             "#fdca26"
            ],
            [
             1,
             "#f0f921"
            ]
           ],
           "sequentialminus": [
            [
             0,
             "#0d0887"
            ],
            [
             0.1111111111111111,
             "#46039f"
            ],
            [
             0.2222222222222222,
             "#7201a8"
            ],
            [
             0.3333333333333333,
             "#9c179e"
            ],
            [
             0.4444444444444444,
             "#bd3786"
            ],
            [
             0.5555555555555556,
             "#d8576b"
            ],
            [
             0.6666666666666666,
             "#ed7953"
            ],
            [
             0.7777777777777778,
             "#fb9f3a"
            ],
            [
             0.8888888888888888,
             "#fdca26"
            ],
            [
             1,
             "#f0f921"
            ]
           ]
          },
          "colorway": [
           "#636efa",
           "#EF553B",
           "#00cc96",
           "#ab63fa",
           "#FFA15A",
           "#19d3f3",
           "#FF6692",
           "#B6E880",
           "#FF97FF",
           "#FECB52"
          ],
          "font": {
           "color": "#f2f5fa"
          },
          "geo": {
           "bgcolor": "rgb(17,17,17)",
           "lakecolor": "rgb(17,17,17)",
           "landcolor": "rgb(17,17,17)",
           "showlakes": true,
           "showland": true,
           "subunitcolor": "#506784"
          },
          "hoverlabel": {
           "align": "left"
          },
          "hovermode": "closest",
          "mapbox": {
           "style": "dark"
          },
          "paper_bgcolor": "rgb(17,17,17)",
          "plot_bgcolor": "rgb(17,17,17)",
          "polar": {
           "angularaxis": {
            "gridcolor": "#506784",
            "linecolor": "#506784",
            "ticks": ""
           },
           "bgcolor": "rgb(17,17,17)",
           "radialaxis": {
            "gridcolor": "#506784",
            "linecolor": "#506784",
            "ticks": ""
           }
          },
          "scene": {
           "xaxis": {
            "backgroundcolor": "rgb(17,17,17)",
            "gridcolor": "#506784",
            "gridwidth": 2,
            "linecolor": "#506784",
            "showbackground": true,
            "ticks": "",
            "zerolinecolor": "#C8D4E3"
           },
           "yaxis": {
            "backgroundcolor": "rgb(17,17,17)",
            "gridcolor": "#506784",
            "gridwidth": 2,
            "linecolor": "#506784",
            "showbackground": true,
            "ticks": "",
            "zerolinecolor": "#C8D4E3"
           },
           "zaxis": {
            "backgroundcolor": "rgb(17,17,17)",
            "gridcolor": "#506784",
            "gridwidth": 2,
            "linecolor": "#506784",
            "showbackground": true,
            "ticks": "",
            "zerolinecolor": "#C8D4E3"
           }
          },
          "shapedefaults": {
           "line": {
            "color": "#f2f5fa"
           }
          },
          "sliderdefaults": {
           "bgcolor": "#C8D4E3",
           "bordercolor": "rgb(17,17,17)",
           "borderwidth": 1,
           "tickwidth": 0
          },
          "ternary": {
           "aaxis": {
            "gridcolor": "#506784",
            "linecolor": "#506784",
            "ticks": ""
           },
           "baxis": {
            "gridcolor": "#506784",
            "linecolor": "#506784",
            "ticks": ""
           },
           "bgcolor": "rgb(17,17,17)",
           "caxis": {
            "gridcolor": "#506784",
            "linecolor": "#506784",
            "ticks": ""
           }
          },
          "title": {
           "x": 0.05
          },
          "updatemenudefaults": {
           "bgcolor": "#506784",
           "borderwidth": 0
          },
          "xaxis": {
           "automargin": true,
           "gridcolor": "#283442",
           "linecolor": "#506784",
           "ticks": "",
           "title": {
            "standoff": 15
           },
           "zerolinecolor": "#283442",
           "zerolinewidth": 2
          },
          "yaxis": {
           "automargin": true,
           "gridcolor": "#283442",
           "linecolor": "#506784",
           "ticks": "",
           "title": {
            "standoff": 15
           },
           "zerolinecolor": "#283442",
           "zerolinewidth": 2
          }
         }
        },
        "title": {
         "font": {
          "color": "white",
          "size": 24
         },
         "text": "Top 10 Cities by Average Building Square Footage for 'Single Family Residential' (Sampled)",
         "x": 0.5,
         "xanchor": "center"
        },
        "xaxis": {
         "anchor": "y",
         "domain": [
          0,
          1
         ],
         "tickfont": {
          "size": 14
         },
         "title": {
          "standoff": 15,
          "text": "CITY_NAME"
         }
        },
        "yaxis": {
         "anchor": "x",
         "domain": [
          0,
          1
         ],
         "tickfont": {
          "size": 14
         },
         "title": {
          "standoff": 15,
          "text": "Average_Building_Square_Footage"
         }
        }
       }
      }
     },
     "metadata": {},
     "output_type": "display_data"
    }
   ],
   "source": [
    "# Filter the dataframe for rows where LAND_USE_CLASS_NAME is 'Single Family Residential'\n",
    "df_single_family = df[df['LAND_USE_CLASS_NAME'] == 'Single Family Residential']\n",
    "\n",
    "\n",
    "# Apply the function to each city group to remove outliers\n",
    "df_no_outliers = df_single_family.groupby('CITY_NAME', group_keys=False).apply(lambda group: remove_outliers(group, 'BUILDING_SQFT'))\n",
    "\n",
    "# Apply the sampling function to each city's group\n",
    "sampled_df = df_no_outliers.groupby('CITY_NAME', group_keys=False).apply(sample_n_or_less)\n",
    "\n",
    "# Calculate average building square footage for the sampled 'Single Family Residential' per city\n",
    "df_average_building_sqft_sampled = (\n",
    "    sampled_df.groupby('CITY_NAME')['BUILDING_SQFT']\n",
    "    .mean()\n",
    "    .reset_index(name='Average_Building_Square_Footage')\n",
    ")\n",
    "\n",
    "# Sort the DataFrame to get the top 10 cities by average building square footage for 'Single Family Residential'\n",
    "top_cities_building_sqft_sampled = (\n",
    "    df_average_building_sqft_sampled.sort_values('Average_Building_Square_Footage', ascending=False)\n",
    "    .head(15)\n",
    ")\n",
    "\n",
    "# Visualization for Average Building Square Footage for 'Single Family Residential' per City from the sampled data\n",
    "fig_building_sqft_sampled = px.bar(\n",
    "    top_cities_building_sqft_sampled, \n",
    "    x='CITY_NAME', \n",
    "    y='Average_Building_Square_Footage',\n",
    "    title=\"Top 15 Cities by Average Building Square Footage for 'Multi-Family Residential' (Sampled)\",\n",
    "    template='plotly_dark'\n",
    ")\n",
    "\n",
    "# Customize the chart for higher contrast and legibility\n",
    "fig_building_sqft_sampled.update_layout({\n",
    "    'plot_bgcolor': 'black',  # Set the plot background to black\n",
    "    'paper_bgcolor': 'black',  # Set the overall background to black\n",
    "    'title': {'text': \"Top 10 Cities by Average Building Square Footage for 'Single Family Residential' (Sampled)\", 'x':0.5, 'xanchor': 'center'},\n",
    "    'title_font': {'size': 24, 'color': 'white'},  # Increase title font size and set to white\n",
    "    'font': {'color': 'white'},  # Set the color of all text to white\n",
    "    'xaxis': {'title': {'standoff': 15}, 'tickfont': {'size': 14}},  # Adjust x-axis properties\n",
    "    'yaxis': {'title': {'standoff': 15}, 'tickfont': {'size': 14}},  # Adjust y-axis properties\n",
    "})\n",
    "\n",
    "# Increase the text size for the bar labels\n",
    "fig_building_sqft_sampled.update_traces(textfont_size=16)\n",
    "\n",
    "\n",
    "fig_building_sqft_sampled.show()\n"
   ]
  },
  {
   "cell_type": "markdown",
   "metadata": {},
   "source": [
    "Key Takeaways:\n"
   ]
  },
  {
   "cell_type": "markdown",
   "metadata": {},
   "source": [
    "### Top 15 Building Square Footage across Multi-Family Residential Properties "
   ]
  },
  {
   "cell_type": "code",
   "execution_count": 13,
   "metadata": {},
   "outputs": [
    {
     "data": {
      "application/vnd.plotly.v1+json": {
       "config": {
        "plotlyServerURL": "https://plot.ly"
       },
       "data": [
        {
         "alignmentgroup": "True",
         "hovertemplate": "CITY_NAME=%{x}<br>Average_Building_Square_Footage=%{y}<extra></extra>",
         "legendgroup": "",
         "marker": {
          "color": "#636efa",
          "pattern": {
           "shape": ""
          }
         },
         "name": "",
         "offsetgroup": "",
         "orientation": "v",
         "showlegend": false,
         "textfont": {
          "size": 16
         },
         "textposition": "auto",
         "type": "bar",
         "x": [
          "Aliso Viejo",
          "Laguna Woods",
          "Mission Viejo",
          "Rancho Palos Verdes",
          "Westlake Village",
          "La Palma",
          "La Mirada",
          "Irvine",
          "Laguna Hills",
          "Diamond Bar",
          "Culver City",
          "Laguna Niguel",
          "Walnut",
          "Carson",
          "Torrance"
         ],
         "xaxis": "x",
         "y": [
          115757.66296376458,
          100090.74080107943,
          98167.60215382912,
          94594.65332890819,
          91508.44943403051,
          74788.69556672702,
          68321.91312055862,
          65058.54156204257,
          53551.812715855725,
          48670.736825166176,
          46602.056659996,
          43875.59829280796,
          41169.46869176656,
          40429.827311665635,
          40276.54515068428
         ],
         "yaxis": "y"
        }
       ],
       "layout": {
        "barmode": "relative",
        "font": {
         "color": "white"
        },
        "legend": {
         "tracegroupgap": 0
        },
        "paper_bgcolor": "black",
        "plot_bgcolor": "black",
        "template": {
         "data": {
          "bar": [
           {
            "error_x": {
             "color": "#f2f5fa"
            },
            "error_y": {
             "color": "#f2f5fa"
            },
            "marker": {
             "line": {
              "color": "rgb(17,17,17)",
              "width": 0.5
             },
             "pattern": {
              "fillmode": "overlay",
              "size": 10,
              "solidity": 0.2
             }
            },
            "type": "bar"
           }
          ],
          "barpolar": [
           {
            "marker": {
             "line": {
              "color": "rgb(17,17,17)",
              "width": 0.5
             },
             "pattern": {
              "fillmode": "overlay",
              "size": 10,
              "solidity": 0.2
             }
            },
            "type": "barpolar"
           }
          ],
          "carpet": [
           {
            "aaxis": {
             "endlinecolor": "#A2B1C6",
             "gridcolor": "#506784",
             "linecolor": "#506784",
             "minorgridcolor": "#506784",
             "startlinecolor": "#A2B1C6"
            },
            "baxis": {
             "endlinecolor": "#A2B1C6",
             "gridcolor": "#506784",
             "linecolor": "#506784",
             "minorgridcolor": "#506784",
             "startlinecolor": "#A2B1C6"
            },
            "type": "carpet"
           }
          ],
          "choropleth": [
           {
            "colorbar": {
             "outlinewidth": 0,
             "ticks": ""
            },
            "type": "choropleth"
           }
          ],
          "contour": [
           {
            "colorbar": {
             "outlinewidth": 0,
             "ticks": ""
            },
            "colorscale": [
             [
              0,
              "#0d0887"
             ],
             [
              0.1111111111111111,
              "#46039f"
             ],
             [
              0.2222222222222222,
              "#7201a8"
             ],
             [
              0.3333333333333333,
              "#9c179e"
             ],
             [
              0.4444444444444444,
              "#bd3786"
             ],
             [
              0.5555555555555556,
              "#d8576b"
             ],
             [
              0.6666666666666666,
              "#ed7953"
             ],
             [
              0.7777777777777778,
              "#fb9f3a"
             ],
             [
              0.8888888888888888,
              "#fdca26"
             ],
             [
              1,
              "#f0f921"
             ]
            ],
            "type": "contour"
           }
          ],
          "contourcarpet": [
           {
            "colorbar": {
             "outlinewidth": 0,
             "ticks": ""
            },
            "type": "contourcarpet"
           }
          ],
          "heatmap": [
           {
            "colorbar": {
             "outlinewidth": 0,
             "ticks": ""
            },
            "colorscale": [
             [
              0,
              "#0d0887"
             ],
             [
              0.1111111111111111,
              "#46039f"
             ],
             [
              0.2222222222222222,
              "#7201a8"
             ],
             [
              0.3333333333333333,
              "#9c179e"
             ],
             [
              0.4444444444444444,
              "#bd3786"
             ],
             [
              0.5555555555555556,
              "#d8576b"
             ],
             [
              0.6666666666666666,
              "#ed7953"
             ],
             [
              0.7777777777777778,
              "#fb9f3a"
             ],
             [
              0.8888888888888888,
              "#fdca26"
             ],
             [
              1,
              "#f0f921"
             ]
            ],
            "type": "heatmap"
           }
          ],
          "heatmapgl": [
           {
            "colorbar": {
             "outlinewidth": 0,
             "ticks": ""
            },
            "colorscale": [
             [
              0,
              "#0d0887"
             ],
             [
              0.1111111111111111,
              "#46039f"
             ],
             [
              0.2222222222222222,
              "#7201a8"
             ],
             [
              0.3333333333333333,
              "#9c179e"
             ],
             [
              0.4444444444444444,
              "#bd3786"
             ],
             [
              0.5555555555555556,
              "#d8576b"
             ],
             [
              0.6666666666666666,
              "#ed7953"
             ],
             [
              0.7777777777777778,
              "#fb9f3a"
             ],
             [
              0.8888888888888888,
              "#fdca26"
             ],
             [
              1,
              "#f0f921"
             ]
            ],
            "type": "heatmapgl"
           }
          ],
          "histogram": [
           {
            "marker": {
             "pattern": {
              "fillmode": "overlay",
              "size": 10,
              "solidity": 0.2
             }
            },
            "type": "histogram"
           }
          ],
          "histogram2d": [
           {
            "colorbar": {
             "outlinewidth": 0,
             "ticks": ""
            },
            "colorscale": [
             [
              0,
              "#0d0887"
             ],
             [
              0.1111111111111111,
              "#46039f"
             ],
             [
              0.2222222222222222,
              "#7201a8"
             ],
             [
              0.3333333333333333,
              "#9c179e"
             ],
             [
              0.4444444444444444,
              "#bd3786"
             ],
             [
              0.5555555555555556,
              "#d8576b"
             ],
             [
              0.6666666666666666,
              "#ed7953"
             ],
             [
              0.7777777777777778,
              "#fb9f3a"
             ],
             [
              0.8888888888888888,
              "#fdca26"
             ],
             [
              1,
              "#f0f921"
             ]
            ],
            "type": "histogram2d"
           }
          ],
          "histogram2dcontour": [
           {
            "colorbar": {
             "outlinewidth": 0,
             "ticks": ""
            },
            "colorscale": [
             [
              0,
              "#0d0887"
             ],
             [
              0.1111111111111111,
              "#46039f"
             ],
             [
              0.2222222222222222,
              "#7201a8"
             ],
             [
              0.3333333333333333,
              "#9c179e"
             ],
             [
              0.4444444444444444,
              "#bd3786"
             ],
             [
              0.5555555555555556,
              "#d8576b"
             ],
             [
              0.6666666666666666,
              "#ed7953"
             ],
             [
              0.7777777777777778,
              "#fb9f3a"
             ],
             [
              0.8888888888888888,
              "#fdca26"
             ],
             [
              1,
              "#f0f921"
             ]
            ],
            "type": "histogram2dcontour"
           }
          ],
          "mesh3d": [
           {
            "colorbar": {
             "outlinewidth": 0,
             "ticks": ""
            },
            "type": "mesh3d"
           }
          ],
          "parcoords": [
           {
            "line": {
             "colorbar": {
              "outlinewidth": 0,
              "ticks": ""
             }
            },
            "type": "parcoords"
           }
          ],
          "pie": [
           {
            "automargin": true,
            "type": "pie"
           }
          ],
          "scatter": [
           {
            "marker": {
             "line": {
              "color": "#283442"
             }
            },
            "type": "scatter"
           }
          ],
          "scatter3d": [
           {
            "line": {
             "colorbar": {
              "outlinewidth": 0,
              "ticks": ""
             }
            },
            "marker": {
             "colorbar": {
              "outlinewidth": 0,
              "ticks": ""
             }
            },
            "type": "scatter3d"
           }
          ],
          "scattercarpet": [
           {
            "marker": {
             "colorbar": {
              "outlinewidth": 0,
              "ticks": ""
             }
            },
            "type": "scattercarpet"
           }
          ],
          "scattergeo": [
           {
            "marker": {
             "colorbar": {
              "outlinewidth": 0,
              "ticks": ""
             }
            },
            "type": "scattergeo"
           }
          ],
          "scattergl": [
           {
            "marker": {
             "line": {
              "color": "#283442"
             }
            },
            "type": "scattergl"
           }
          ],
          "scattermapbox": [
           {
            "marker": {
             "colorbar": {
              "outlinewidth": 0,
              "ticks": ""
             }
            },
            "type": "scattermapbox"
           }
          ],
          "scatterpolar": [
           {
            "marker": {
             "colorbar": {
              "outlinewidth": 0,
              "ticks": ""
             }
            },
            "type": "scatterpolar"
           }
          ],
          "scatterpolargl": [
           {
            "marker": {
             "colorbar": {
              "outlinewidth": 0,
              "ticks": ""
             }
            },
            "type": "scatterpolargl"
           }
          ],
          "scatterternary": [
           {
            "marker": {
             "colorbar": {
              "outlinewidth": 0,
              "ticks": ""
             }
            },
            "type": "scatterternary"
           }
          ],
          "surface": [
           {
            "colorbar": {
             "outlinewidth": 0,
             "ticks": ""
            },
            "colorscale": [
             [
              0,
              "#0d0887"
             ],
             [
              0.1111111111111111,
              "#46039f"
             ],
             [
              0.2222222222222222,
              "#7201a8"
             ],
             [
              0.3333333333333333,
              "#9c179e"
             ],
             [
              0.4444444444444444,
              "#bd3786"
             ],
             [
              0.5555555555555556,
              "#d8576b"
             ],
             [
              0.6666666666666666,
              "#ed7953"
             ],
             [
              0.7777777777777778,
              "#fb9f3a"
             ],
             [
              0.8888888888888888,
              "#fdca26"
             ],
             [
              1,
              "#f0f921"
             ]
            ],
            "type": "surface"
           }
          ],
          "table": [
           {
            "cells": {
             "fill": {
              "color": "#506784"
             },
             "line": {
              "color": "rgb(17,17,17)"
             }
            },
            "header": {
             "fill": {
              "color": "#2a3f5f"
             },
             "line": {
              "color": "rgb(17,17,17)"
             }
            },
            "type": "table"
           }
          ]
         },
         "layout": {
          "annotationdefaults": {
           "arrowcolor": "#f2f5fa",
           "arrowhead": 0,
           "arrowwidth": 1
          },
          "autotypenumbers": "strict",
          "coloraxis": {
           "colorbar": {
            "outlinewidth": 0,
            "ticks": ""
           }
          },
          "colorscale": {
           "diverging": [
            [
             0,
             "#8e0152"
            ],
            [
             0.1,
             "#c51b7d"
            ],
            [
             0.2,
             "#de77ae"
            ],
            [
             0.3,
             "#f1b6da"
            ],
            [
             0.4,
             "#fde0ef"
            ],
            [
             0.5,
             "#f7f7f7"
            ],
            [
             0.6,
             "#e6f5d0"
            ],
            [
             0.7,
             "#b8e186"
            ],
            [
             0.8,
             "#7fbc41"
            ],
            [
             0.9,
             "#4d9221"
            ],
            [
             1,
             "#276419"
            ]
           ],
           "sequential": [
            [
             0,
             "#0d0887"
            ],
            [
             0.1111111111111111,
             "#46039f"
            ],
            [
             0.2222222222222222,
             "#7201a8"
            ],
            [
             0.3333333333333333,
             "#9c179e"
            ],
            [
             0.4444444444444444,
             "#bd3786"
            ],
            [
             0.5555555555555556,
             "#d8576b"
            ],
            [
             0.6666666666666666,
             "#ed7953"
            ],
            [
             0.7777777777777778,
             "#fb9f3a"
            ],
            [
             0.8888888888888888,
             "#fdca26"
            ],
            [
             1,
             "#f0f921"
            ]
           ],
           "sequentialminus": [
            [
             0,
             "#0d0887"
            ],
            [
             0.1111111111111111,
             "#46039f"
            ],
            [
             0.2222222222222222,
             "#7201a8"
            ],
            [
             0.3333333333333333,
             "#9c179e"
            ],
            [
             0.4444444444444444,
             "#bd3786"
            ],
            [
             0.5555555555555556,
             "#d8576b"
            ],
            [
             0.6666666666666666,
             "#ed7953"
            ],
            [
             0.7777777777777778,
             "#fb9f3a"
            ],
            [
             0.8888888888888888,
             "#fdca26"
            ],
            [
             1,
             "#f0f921"
            ]
           ]
          },
          "colorway": [
           "#636efa",
           "#EF553B",
           "#00cc96",
           "#ab63fa",
           "#FFA15A",
           "#19d3f3",
           "#FF6692",
           "#B6E880",
           "#FF97FF",
           "#FECB52"
          ],
          "font": {
           "color": "#f2f5fa"
          },
          "geo": {
           "bgcolor": "rgb(17,17,17)",
           "lakecolor": "rgb(17,17,17)",
           "landcolor": "rgb(17,17,17)",
           "showlakes": true,
           "showland": true,
           "subunitcolor": "#506784"
          },
          "hoverlabel": {
           "align": "left"
          },
          "hovermode": "closest",
          "mapbox": {
           "style": "dark"
          },
          "paper_bgcolor": "rgb(17,17,17)",
          "plot_bgcolor": "rgb(17,17,17)",
          "polar": {
           "angularaxis": {
            "gridcolor": "#506784",
            "linecolor": "#506784",
            "ticks": ""
           },
           "bgcolor": "rgb(17,17,17)",
           "radialaxis": {
            "gridcolor": "#506784",
            "linecolor": "#506784",
            "ticks": ""
           }
          },
          "scene": {
           "xaxis": {
            "backgroundcolor": "rgb(17,17,17)",
            "gridcolor": "#506784",
            "gridwidth": 2,
            "linecolor": "#506784",
            "showbackground": true,
            "ticks": "",
            "zerolinecolor": "#C8D4E3"
           },
           "yaxis": {
            "backgroundcolor": "rgb(17,17,17)",
            "gridcolor": "#506784",
            "gridwidth": 2,
            "linecolor": "#506784",
            "showbackground": true,
            "ticks": "",
            "zerolinecolor": "#C8D4E3"
           },
           "zaxis": {
            "backgroundcolor": "rgb(17,17,17)",
            "gridcolor": "#506784",
            "gridwidth": 2,
            "linecolor": "#506784",
            "showbackground": true,
            "ticks": "",
            "zerolinecolor": "#C8D4E3"
           }
          },
          "shapedefaults": {
           "line": {
            "color": "#f2f5fa"
           }
          },
          "sliderdefaults": {
           "bgcolor": "#C8D4E3",
           "bordercolor": "rgb(17,17,17)",
           "borderwidth": 1,
           "tickwidth": 0
          },
          "ternary": {
           "aaxis": {
            "gridcolor": "#506784",
            "linecolor": "#506784",
            "ticks": ""
           },
           "baxis": {
            "gridcolor": "#506784",
            "linecolor": "#506784",
            "ticks": ""
           },
           "bgcolor": "rgb(17,17,17)",
           "caxis": {
            "gridcolor": "#506784",
            "linecolor": "#506784",
            "ticks": ""
           }
          },
          "title": {
           "x": 0.05
          },
          "updatemenudefaults": {
           "bgcolor": "#506784",
           "borderwidth": 0
          },
          "xaxis": {
           "automargin": true,
           "gridcolor": "#283442",
           "linecolor": "#506784",
           "ticks": "",
           "title": {
            "standoff": 15
           },
           "zerolinecolor": "#283442",
           "zerolinewidth": 2
          },
          "yaxis": {
           "automargin": true,
           "gridcolor": "#283442",
           "linecolor": "#506784",
           "ticks": "",
           "title": {
            "standoff": 15
           },
           "zerolinecolor": "#283442",
           "zerolinewidth": 2
          }
         }
        },
        "title": {
         "font": {
          "color": "white",
          "size": 24
         },
         "text": "Top 10 Cities by Average Building Square Footage for 'Multi-Family Residential' (Sampled)",
         "x": 0.5,
         "xanchor": "center"
        },
        "xaxis": {
         "anchor": "y",
         "domain": [
          0,
          1
         ],
         "tickfont": {
          "size": 14
         },
         "title": {
          "standoff": 15,
          "text": "CITY_NAME"
         }
        },
        "yaxis": {
         "anchor": "x",
         "domain": [
          0,
          1
         ],
         "tickfont": {
          "size": 14
         },
         "title": {
          "standoff": 15,
          "text": "Average_Building_Square_Footage"
         }
        }
       }
      }
     },
     "metadata": {},
     "output_type": "display_data"
    }
   ],
   "source": [
    "# Filter the dataframe for rows where LAND_USE_CLASS_NAME is 'Single Family Residential'\n",
    "df_multi_family = df[df['LAND_USE_CLASS_NAME'] == 'Multi-Family Residential']\n",
    "\n",
    "\n",
    "# Apply the function to each city group to remove outliers\n",
    "df_no_outliers = df_multi_family.groupby('CITY_NAME', group_keys=False).apply(lambda group: remove_outliers(group, 'BUILDING_SQFT'))\n",
    "\n",
    "# Apply the sampling function to each city's group\n",
    "sampled_df = df_no_outliers.groupby('CITY_NAME', group_keys=False).apply(sample_n_or_less)\n",
    "\n",
    "# Calculate average building square footage for the sampled 'Single Family Residential' per city\n",
    "df_average_building_sqft_sampled = (\n",
    "    sampled_df.groupby('CITY_NAME')['BUILDING_SQFT']\n",
    "    .mean()\n",
    "    .reset_index(name='Average_Building_Square_Footage')\n",
    ")\n",
    "\n",
    "# Sort the DataFrame to get the top 10 cities by average building square footage for 'Single Family Residential'\n",
    "top_cities_building_sqft_sampled = (\n",
    "    df_average_building_sqft_sampled.sort_values('Average_Building_Square_Footage', ascending=False)\n",
    "    .head(15)\n",
    ")\n",
    "\n",
    "# Visualization for Average Building Square Footage for 'Single Family Residential' per City from the sampled data\n",
    "fig_building_sqft_sampled = px.bar(\n",
    "    top_cities_building_sqft_sampled, \n",
    "    x='CITY_NAME', \n",
    "    y='Average_Building_Square_Footage',\n",
    "    title=\"Top 15 Cities by Average Building Square Footage for 'Multi-Family Residential' (Sampled)\",\n",
    "    template='plotly_dark'\n",
    ")\n",
    "\n",
    "# Customize the chart for higher contrast and legibility\n",
    "fig_building_sqft_sampled.update_layout({\n",
    "    'plot_bgcolor': 'black',  # Set the plot background to black\n",
    "    'paper_bgcolor': 'black',  # Set the overall background to black\n",
    "    'title': {'text': \"Top 10 Cities by Average Building Square Footage for 'Multi-Family Residential' (Sampled)\", 'x':0.5, 'xanchor': 'center'},\n",
    "    'title_font': {'size': 24, 'color': 'white'},  # Increase title font size and set to white\n",
    "    'font': {'color': 'white'},  # Set the color of all text to white\n",
    "    'xaxis': {'title': {'standoff': 15}, 'tickfont': {'size': 14}},  # Adjust x-axis properties\n",
    "    'yaxis': {'title': {'standoff': 15}, 'tickfont': {'size': 14}},  # Adjust y-axis properties\n",
    "})\n",
    "\n",
    "# Increase the text size for the bar labels\n",
    "fig_building_sqft_sampled.update_traces(textfont_size=16)\n",
    "\n",
    "\n",
    "fig_building_sqft_sampled.show()\n"
   ]
  },
  {
   "cell_type": "markdown",
   "metadata": {},
   "source": [
    "Takeaways:"
   ]
  },
  {
   "cell_type": "code",
   "execution_count": 14,
   "metadata": {},
   "outputs": [
    {
     "data": {
      "application/vnd.plotly.v1+json": {
       "config": {
        "plotlyServerURL": "https://plot.ly"
       },
       "data": [
        {
         "alignmentgroup": "True",
         "hovertemplate": "CITY_NAME=%{x}<br>Average_Sampled_Vacant_Acreage=%{y}<extra></extra>",
         "legendgroup": "",
         "marker": {
          "color": "#636efa",
          "pattern": {
           "shape": ""
          }
         },
         "name": "",
         "offsetgroup": "",
         "orientation": "v",
         "showlegend": false,
         "textfont": {
          "size": 16
         },
         "textposition": "auto",
         "type": "bar",
         "x": [
          "Adelanto",
          "Moreno Valley",
          "Unincorporated",
          "Palmdale",
          "Apple Valley",
          "Lancaster",
          "Yucca Valley",
          "Twentynine Palms",
          "Hesperia",
          "Victorville"
         ],
         "xaxis": "x",
         "y": [
          3.632097736557923,
          3.2999301199368927,
          2.1625572720934594,
          1.8667416444516354,
          1.8354814743584065,
          1.6091438192133414,
          1.0806854061866107,
          0.9242332854155006,
          0.8293081763559234,
          0.4486647342528394
         ],
         "yaxis": "y"
        }
       ],
       "layout": {
        "barmode": "relative",
        "font": {
         "color": "white"
        },
        "legend": {
         "tracegroupgap": 0
        },
        "paper_bgcolor": "black",
        "plot_bgcolor": "black",
        "template": {
         "data": {
          "bar": [
           {
            "error_x": {
             "color": "#f2f5fa"
            },
            "error_y": {
             "color": "#f2f5fa"
            },
            "marker": {
             "line": {
              "color": "rgb(17,17,17)",
              "width": 0.5
             },
             "pattern": {
              "fillmode": "overlay",
              "size": 10,
              "solidity": 0.2
             }
            },
            "type": "bar"
           }
          ],
          "barpolar": [
           {
            "marker": {
             "line": {
              "color": "rgb(17,17,17)",
              "width": 0.5
             },
             "pattern": {
              "fillmode": "overlay",
              "size": 10,
              "solidity": 0.2
             }
            },
            "type": "barpolar"
           }
          ],
          "carpet": [
           {
            "aaxis": {
             "endlinecolor": "#A2B1C6",
             "gridcolor": "#506784",
             "linecolor": "#506784",
             "minorgridcolor": "#506784",
             "startlinecolor": "#A2B1C6"
            },
            "baxis": {
             "endlinecolor": "#A2B1C6",
             "gridcolor": "#506784",
             "linecolor": "#506784",
             "minorgridcolor": "#506784",
             "startlinecolor": "#A2B1C6"
            },
            "type": "carpet"
           }
          ],
          "choropleth": [
           {
            "colorbar": {
             "outlinewidth": 0,
             "ticks": ""
            },
            "type": "choropleth"
           }
          ],
          "contour": [
           {
            "colorbar": {
             "outlinewidth": 0,
             "ticks": ""
            },
            "colorscale": [
             [
              0,
              "#0d0887"
             ],
             [
              0.1111111111111111,
              "#46039f"
             ],
             [
              0.2222222222222222,
              "#7201a8"
             ],
             [
              0.3333333333333333,
              "#9c179e"
             ],
             [
              0.4444444444444444,
              "#bd3786"
             ],
             [
              0.5555555555555556,
              "#d8576b"
             ],
             [
              0.6666666666666666,
              "#ed7953"
             ],
             [
              0.7777777777777778,
              "#fb9f3a"
             ],
             [
              0.8888888888888888,
              "#fdca26"
             ],
             [
              1,
              "#f0f921"
             ]
            ],
            "type": "contour"
           }
          ],
          "contourcarpet": [
           {
            "colorbar": {
             "outlinewidth": 0,
             "ticks": ""
            },
            "type": "contourcarpet"
           }
          ],
          "heatmap": [
           {
            "colorbar": {
             "outlinewidth": 0,
             "ticks": ""
            },
            "colorscale": [
             [
              0,
              "#0d0887"
             ],
             [
              0.1111111111111111,
              "#46039f"
             ],
             [
              0.2222222222222222,
              "#7201a8"
             ],
             [
              0.3333333333333333,
              "#9c179e"
             ],
             [
              0.4444444444444444,
              "#bd3786"
             ],
             [
              0.5555555555555556,
              "#d8576b"
             ],
             [
              0.6666666666666666,
              "#ed7953"
             ],
             [
              0.7777777777777778,
              "#fb9f3a"
             ],
             [
              0.8888888888888888,
              "#fdca26"
             ],
             [
              1,
              "#f0f921"
             ]
            ],
            "type": "heatmap"
           }
          ],
          "heatmapgl": [
           {
            "colorbar": {
             "outlinewidth": 0,
             "ticks": ""
            },
            "colorscale": [
             [
              0,
              "#0d0887"
             ],
             [
              0.1111111111111111,
              "#46039f"
             ],
             [
              0.2222222222222222,
              "#7201a8"
             ],
             [
              0.3333333333333333,
              "#9c179e"
             ],
             [
              0.4444444444444444,
              "#bd3786"
             ],
             [
              0.5555555555555556,
              "#d8576b"
             ],
             [
              0.6666666666666666,
              "#ed7953"
             ],
             [
              0.7777777777777778,
              "#fb9f3a"
             ],
             [
              0.8888888888888888,
              "#fdca26"
             ],
             [
              1,
              "#f0f921"
             ]
            ],
            "type": "heatmapgl"
           }
          ],
          "histogram": [
           {
            "marker": {
             "pattern": {
              "fillmode": "overlay",
              "size": 10,
              "solidity": 0.2
             }
            },
            "type": "histogram"
           }
          ],
          "histogram2d": [
           {
            "colorbar": {
             "outlinewidth": 0,
             "ticks": ""
            },
            "colorscale": [
             [
              0,
              "#0d0887"
             ],
             [
              0.1111111111111111,
              "#46039f"
             ],
             [
              0.2222222222222222,
              "#7201a8"
             ],
             [
              0.3333333333333333,
              "#9c179e"
             ],
             [
              0.4444444444444444,
              "#bd3786"
             ],
             [
              0.5555555555555556,
              "#d8576b"
             ],
             [
              0.6666666666666666,
              "#ed7953"
             ],
             [
              0.7777777777777778,
              "#fb9f3a"
             ],
             [
              0.8888888888888888,
              "#fdca26"
             ],
             [
              1,
              "#f0f921"
             ]
            ],
            "type": "histogram2d"
           }
          ],
          "histogram2dcontour": [
           {
            "colorbar": {
             "outlinewidth": 0,
             "ticks": ""
            },
            "colorscale": [
             [
              0,
              "#0d0887"
             ],
             [
              0.1111111111111111,
              "#46039f"
             ],
             [
              0.2222222222222222,
              "#7201a8"
             ],
             [
              0.3333333333333333,
              "#9c179e"
             ],
             [
              0.4444444444444444,
              "#bd3786"
             ],
             [
              0.5555555555555556,
              "#d8576b"
             ],
             [
              0.6666666666666666,
              "#ed7953"
             ],
             [
              0.7777777777777778,
              "#fb9f3a"
             ],
             [
              0.8888888888888888,
              "#fdca26"
             ],
             [
              1,
              "#f0f921"
             ]
            ],
            "type": "histogram2dcontour"
           }
          ],
          "mesh3d": [
           {
            "colorbar": {
             "outlinewidth": 0,
             "ticks": ""
            },
            "type": "mesh3d"
           }
          ],
          "parcoords": [
           {
            "line": {
             "colorbar": {
              "outlinewidth": 0,
              "ticks": ""
             }
            },
            "type": "parcoords"
           }
          ],
          "pie": [
           {
            "automargin": true,
            "type": "pie"
           }
          ],
          "scatter": [
           {
            "marker": {
             "line": {
              "color": "#283442"
             }
            },
            "type": "scatter"
           }
          ],
          "scatter3d": [
           {
            "line": {
             "colorbar": {
              "outlinewidth": 0,
              "ticks": ""
             }
            },
            "marker": {
             "colorbar": {
              "outlinewidth": 0,
              "ticks": ""
             }
            },
            "type": "scatter3d"
           }
          ],
          "scattercarpet": [
           {
            "marker": {
             "colorbar": {
              "outlinewidth": 0,
              "ticks": ""
             }
            },
            "type": "scattercarpet"
           }
          ],
          "scattergeo": [
           {
            "marker": {
             "colorbar": {
              "outlinewidth": 0,
              "ticks": ""
             }
            },
            "type": "scattergeo"
           }
          ],
          "scattergl": [
           {
            "marker": {
             "line": {
              "color": "#283442"
             }
            },
            "type": "scattergl"
           }
          ],
          "scattermapbox": [
           {
            "marker": {
             "colorbar": {
              "outlinewidth": 0,
              "ticks": ""
             }
            },
            "type": "scattermapbox"
           }
          ],
          "scatterpolar": [
           {
            "marker": {
             "colorbar": {
              "outlinewidth": 0,
              "ticks": ""
             }
            },
            "type": "scatterpolar"
           }
          ],
          "scatterpolargl": [
           {
            "marker": {
             "colorbar": {
              "outlinewidth": 0,
              "ticks": ""
             }
            },
            "type": "scatterpolargl"
           }
          ],
          "scatterternary": [
           {
            "marker": {
             "colorbar": {
              "outlinewidth": 0,
              "ticks": ""
             }
            },
            "type": "scatterternary"
           }
          ],
          "surface": [
           {
            "colorbar": {
             "outlinewidth": 0,
             "ticks": ""
            },
            "colorscale": [
             [
              0,
              "#0d0887"
             ],
             [
              0.1111111111111111,
              "#46039f"
             ],
             [
              0.2222222222222222,
              "#7201a8"
             ],
             [
              0.3333333333333333,
              "#9c179e"
             ],
             [
              0.4444444444444444,
              "#bd3786"
             ],
             [
              0.5555555555555556,
              "#d8576b"
             ],
             [
              0.6666666666666666,
              "#ed7953"
             ],
             [
              0.7777777777777778,
              "#fb9f3a"
             ],
             [
              0.8888888888888888,
              "#fdca26"
             ],
             [
              1,
              "#f0f921"
             ]
            ],
            "type": "surface"
           }
          ],
          "table": [
           {
            "cells": {
             "fill": {
              "color": "#506784"
             },
             "line": {
              "color": "rgb(17,17,17)"
             }
            },
            "header": {
             "fill": {
              "color": "#2a3f5f"
             },
             "line": {
              "color": "rgb(17,17,17)"
             }
            },
            "type": "table"
           }
          ]
         },
         "layout": {
          "annotationdefaults": {
           "arrowcolor": "#f2f5fa",
           "arrowhead": 0,
           "arrowwidth": 1
          },
          "autotypenumbers": "strict",
          "coloraxis": {
           "colorbar": {
            "outlinewidth": 0,
            "ticks": ""
           }
          },
          "colorscale": {
           "diverging": [
            [
             0,
             "#8e0152"
            ],
            [
             0.1,
             "#c51b7d"
            ],
            [
             0.2,
             "#de77ae"
            ],
            [
             0.3,
             "#f1b6da"
            ],
            [
             0.4,
             "#fde0ef"
            ],
            [
             0.5,
             "#f7f7f7"
            ],
            [
             0.6,
             "#e6f5d0"
            ],
            [
             0.7,
             "#b8e186"
            ],
            [
             0.8,
             "#7fbc41"
            ],
            [
             0.9,
             "#4d9221"
            ],
            [
             1,
             "#276419"
            ]
           ],
           "sequential": [
            [
             0,
             "#0d0887"
            ],
            [
             0.1111111111111111,
             "#46039f"
            ],
            [
             0.2222222222222222,
             "#7201a8"
            ],
            [
             0.3333333333333333,
             "#9c179e"
            ],
            [
             0.4444444444444444,
             "#bd3786"
            ],
            [
             0.5555555555555556,
             "#d8576b"
            ],
            [
             0.6666666666666666,
             "#ed7953"
            ],
            [
             0.7777777777777778,
             "#fb9f3a"
            ],
            [
             0.8888888888888888,
             "#fdca26"
            ],
            [
             1,
             "#f0f921"
            ]
           ],
           "sequentialminus": [
            [
             0,
             "#0d0887"
            ],
            [
             0.1111111111111111,
             "#46039f"
            ],
            [
             0.2222222222222222,
             "#7201a8"
            ],
            [
             0.3333333333333333,
             "#9c179e"
            ],
            [
             0.4444444444444444,
             "#bd3786"
            ],
            [
             0.5555555555555556,
             "#d8576b"
            ],
            [
             0.6666666666666666,
             "#ed7953"
            ],
            [
             0.7777777777777778,
             "#fb9f3a"
            ],
            [
             0.8888888888888888,
             "#fdca26"
            ],
            [
             1,
             "#f0f921"
            ]
           ]
          },
          "colorway": [
           "#636efa",
           "#EF553B",
           "#00cc96",
           "#ab63fa",
           "#FFA15A",
           "#19d3f3",
           "#FF6692",
           "#B6E880",
           "#FF97FF",
           "#FECB52"
          ],
          "font": {
           "color": "#f2f5fa"
          },
          "geo": {
           "bgcolor": "rgb(17,17,17)",
           "lakecolor": "rgb(17,17,17)",
           "landcolor": "rgb(17,17,17)",
           "showlakes": true,
           "showland": true,
           "subunitcolor": "#506784"
          },
          "hoverlabel": {
           "align": "left"
          },
          "hovermode": "closest",
          "mapbox": {
           "style": "dark"
          },
          "paper_bgcolor": "rgb(17,17,17)",
          "plot_bgcolor": "rgb(17,17,17)",
          "polar": {
           "angularaxis": {
            "gridcolor": "#506784",
            "linecolor": "#506784",
            "ticks": ""
           },
           "bgcolor": "rgb(17,17,17)",
           "radialaxis": {
            "gridcolor": "#506784",
            "linecolor": "#506784",
            "ticks": ""
           }
          },
          "scene": {
           "xaxis": {
            "backgroundcolor": "rgb(17,17,17)",
            "gridcolor": "#506784",
            "gridwidth": 2,
            "linecolor": "#506784",
            "showbackground": true,
            "ticks": "",
            "zerolinecolor": "#C8D4E3"
           },
           "yaxis": {
            "backgroundcolor": "rgb(17,17,17)",
            "gridcolor": "#506784",
            "gridwidth": 2,
            "linecolor": "#506784",
            "showbackground": true,
            "ticks": "",
            "zerolinecolor": "#C8D4E3"
           },
           "zaxis": {
            "backgroundcolor": "rgb(17,17,17)",
            "gridcolor": "#506784",
            "gridwidth": 2,
            "linecolor": "#506784",
            "showbackground": true,
            "ticks": "",
            "zerolinecolor": "#C8D4E3"
           }
          },
          "shapedefaults": {
           "line": {
            "color": "#f2f5fa"
           }
          },
          "sliderdefaults": {
           "bgcolor": "#C8D4E3",
           "bordercolor": "rgb(17,17,17)",
           "borderwidth": 1,
           "tickwidth": 0
          },
          "ternary": {
           "aaxis": {
            "gridcolor": "#506784",
            "linecolor": "#506784",
            "ticks": ""
           },
           "baxis": {
            "gridcolor": "#506784",
            "linecolor": "#506784",
            "ticks": ""
           },
           "bgcolor": "rgb(17,17,17)",
           "caxis": {
            "gridcolor": "#506784",
            "linecolor": "#506784",
            "ticks": ""
           }
          },
          "title": {
           "x": 0.05
          },
          "updatemenudefaults": {
           "bgcolor": "#506784",
           "borderwidth": 0
          },
          "xaxis": {
           "automargin": true,
           "gridcolor": "#283442",
           "linecolor": "#506784",
           "ticks": "",
           "title": {
            "standoff": 15
           },
           "zerolinecolor": "#283442",
           "zerolinewidth": 2
          },
          "yaxis": {
           "automargin": true,
           "gridcolor": "#283442",
           "linecolor": "#506784",
           "ticks": "",
           "title": {
            "standoff": 15
           },
           "zerolinecolor": "#283442",
           "zerolinewidth": 2
          }
         }
        },
        "title": {
         "font": {
          "color": "white",
          "size": 24
         },
         "text": "Top 10 Cities by Average Sampled Vacant Acreage",
         "x": 0.5,
         "xanchor": "center"
        },
        "xaxis": {
         "anchor": "y",
         "domain": [
          0,
          1
         ],
         "tickfont": {
          "size": 14
         },
         "title": {
          "standoff": 15,
          "text": "CITY_NAME"
         }
        },
        "yaxis": {
         "anchor": "x",
         "domain": [
          0,
          1
         ],
         "tickfont": {
          "size": 14
         },
         "title": {
          "standoff": 15,
          "text": "Average_Sampled_Vacant_Acreage"
         }
        }
       }
      }
     },
     "metadata": {},
     "output_type": "display_data"
    }
   ],
   "source": [
    "# Filter the dataframe for rows where LAND_USE_CLASS_NAME is 'Vacant'\n",
    "df_vacant = df[df['LAND_USE_CLASS_NAME'] == 'Vacant']\n",
    "\n",
    "# Remove outliers within each city's vacant land before sampling\n",
    "df_vacant_no_outliers = df_vacant.groupby('CITY_NAME', group_keys=False).apply(lambda group: remove_outliers(group, 'ACREAGE'))\n",
    "\n",
    "# Identify the top 10 cities with the most vacant land by acreage\n",
    "top_cities_by_vacant_acreage = (\n",
    "    df_vacant_no_outliers.groupby('CITY_NAME')['ACREAGE']\n",
    "    .sum()\n",
    "    .reset_index(name='Total_Vacant_Acreage')\n",
    "    .sort_values('Total_Vacant_Acreage', ascending=False)\n",
    "    .head(10)\n",
    ")\n",
    "\n",
    "# Get the list of top 10 cities to filter the no_outliers dataframe\n",
    "top_cities_list = top_cities_by_vacant_acreage['CITY_NAME'].tolist()\n",
    "df_vacant_top_cities_no_outliers = df_vacant_no_outliers[df_vacant_no_outliers['CITY_NAME'].isin(top_cities_list)]\n",
    "\n",
    "# Apply the sampling function to each of the top 10 cities\n",
    "df_sampled_vacant = df_vacant_top_cities_no_outliers.groupby('CITY_NAME', group_keys=False).apply(sample_n_or_less)\n",
    "\n",
    "# Calculate average acreage for these samples for visualization\n",
    "df_average_sampled_vacant_acreage = (\n",
    "    df_sampled_vacant.groupby('CITY_NAME')['ACREAGE']\n",
    "    .mean()\n",
    "    .reset_index(name='Average_Sampled_Vacant_Acreage')\n",
    ")\n",
    "\n",
    "# Sort the DataFrame to get the top 10 cities by average sampled vacant acreage\n",
    "top_cities_sampled_vacant_acreage = (\n",
    "    df_average_sampled_vacant_acreage.sort_values('Average_Sampled_Vacant_Acreage', ascending=False)\n",
    "    .head(10)\n",
    ")\n",
    "\n",
    "# Visualization for Average Sampled Vacant Acreage per City\n",
    "fig_sampled_vacant_acreage = px.bar(\n",
    "    top_cities_sampled_vacant_acreage, \n",
    "    x='CITY_NAME', \n",
    "    y='Average_Sampled_Vacant_Acreage',\n",
    "    title=\"Top 10 Cities by Average Sampled Vacant Acreage\",\n",
    "    template='plotly_dark'\n",
    ")\n",
    "\n",
    "# Customize the chart for high contrast and legibility\n",
    "fig_sampled_vacant_acreage.update_layout({\n",
    "    'plot_bgcolor': 'black',\n",
    "    'paper_bgcolor': 'black',\n",
    "    'title': {'text': \"Top 10 Cities by Average Sampled Vacant Acreage\", 'x':0.5, 'xanchor': 'center'},\n",
    "    'title_font': {'size': 24, 'color': 'white'},\n",
    "    'font': {'color': 'white'},\n",
    "    'xaxis': {'title': {'standoff': 15}, 'tickfont': {'size': 14}},\n",
    "    'yaxis': {'title': {'standoff': 15}, 'tickfont': {'size': 14}},\n",
    "})\n",
    "\n",
    "fig_sampled_vacant_acreage.update_traces(textfont_size=16)\n",
    "\n",
    "fig_sampled_vacant_acreage.show()"
   ]
  },
  {
   "cell_type": "code",
   "execution_count": 15,
   "metadata": {},
   "outputs": [
    {
     "data": {
      "application/vnd.plotly.v1+json": {
       "config": {
        "plotlyServerURL": "https://plot.ly"
       },
       "data": [
        {
         "alignmentgroup": "True",
         "hovertemplate": "CITY_NAME=%{x}<br>Count_Vacant_Instances=%{y}<extra></extra>",
         "legendgroup": "",
         "marker": {
          "color": "#636efa",
          "pattern": {
           "shape": ""
          }
         },
         "name": "",
         "offsetgroup": "",
         "orientation": "v",
         "showlegend": false,
         "textfont": {
          "size": 16
         },
         "textposition": "auto",
         "type": "bar",
         "x": [
          "Los Angeles",
          "Victorville",
          "Lake Elsinore",
          "Lancaster",
          "Twentynine Palms",
          "Apple Valley",
          "Palmdale",
          "San Bernardino",
          "Hesperia",
          "Adelanto",
          "Menifee",
          "Santa Clarita",
          "Desert Hot Springs",
          "Yucca Valley",
          "Beaumont",
          "Ontario",
          "Riverside",
          "Fontana",
          "Palm Springs",
          "Perris",
          "Indio",
          "Barstow",
          "Jurupa Valley",
          "Rancho Cucamonga",
          "Banning",
          "Wildomar",
          "Moreno Valley",
          "Big Bear Lake",
          "Redlands",
          "Long Beach",
          "Hemet",
          "Cathedral City",
          "Colton",
          "Chino Hills",
          "Pomona",
          "Coachella",
          "Brawley",
          "Yucaipa",
          "Corona",
          "La Quinta",
          "Rancho Mirage",
          "Rialto",
          "Temecula",
          "Highland",
          "Calimesa",
          "Palm Desert",
          "Needles",
          "Chino",
          "Murrieta",
          "Glendale",
          "Pasadena",
          "Imperial",
          "San Jacinto",
          "Calexico",
          "Malibu",
          "Compton",
          "Glendora",
          "Upland",
          "Carson",
          "El Centro",
          "Blythe",
          "Simi Valley",
          "Thousand Oaks",
          "Signal Hill",
          "Baldwin Park",
          "Loma Linda",
          "Oxnard",
          "San Buenaventura",
          "Pico Rivera",
          "Burbank",
          "Eastvale",
          "Agoura Hills",
          "Lake Forest",
          "Calipatria",
          "Anaheim",
          "Inglewood",
          "Montclair",
          "Alhambra",
          "Norco",
          "Santa Paula",
          "Fillmore",
          "Indian Wells",
          "Norwalk",
          "La Verne",
          "Camarillo",
          "Commerce",
          "Paramount",
          "Grand Terrace",
          "Claremont",
          "Santa Ana",
          "Tustin",
          "Torrance",
          "Moorpark",
          "Bellflower",
          "La Habra Heights",
          "Azusa",
          "Irvine",
          "Holtville",
          "Ojai",
          "Laguna Beach",
          "Westmorland",
          "Diamond Bar",
          "Calabasas",
          "Orange",
          "Santa Fe Springs",
          "Redondo Beach",
          "Monrovia",
          "Industry",
          "Whittier",
          "Rancho Palos Verdes",
          "Santa Monica",
          "Canyon Lake",
          "San Dimas",
          "South Pasadena",
          "La Canada Flintridge",
          "Cudahy",
          "Sierra Madre",
          "Duarte",
          "South Gate",
          "Walnut",
          "West Hollywood",
          "Vernon",
          "Garden Grove",
          "Beverly Hills",
          "Dana Point",
          "San Clemente",
          "Rolling Hills",
          "Artesia",
          "Lawndale",
          "Monterey Park",
          "Hidden Hills",
          "San Juan Capistrano",
          "Montebello",
          "Huntington Beach",
          "Cerritos",
          "Hermosa Beach",
          "Downey",
          "Gardena",
          "Avalon",
          "San Gabriel",
          "Bradbury",
          "El Segundo",
          "Rolling Hills Estates",
          "Lomita",
          "Yorba Linda",
          "Port Hueneme",
          "Hawthorne",
          "Buena Park",
          "Lakewood",
          "Placentia",
          "El Monte",
          "Laguna Hills",
          "Stanton",
          "Los Alamitos",
          "La Mirada",
          "Lynwood",
          "Laguna Niguel",
          "Covina",
          "South El Monte",
          "Newport Beach",
          "Rosemead",
          "Irwindale",
          "Cypress",
          "Fullerton",
          "La Palma",
          "Seal Beach",
          "Bell Gardens",
          "Costa Mesa",
          "Arcadia",
          "Rancho Santa Margarita",
          "Westminster",
          "La Puente",
          "Aliso Viejo",
          "San Fernando",
          "Manhattan Beach",
          "Westlake Village",
          "La Habra",
          "Fountain Valley",
          "Culver City",
          "Laguna Woods"
         ],
         "xaxis": "x",
         "y": [
          13933,
          9109,
          8783,
          8082,
          6588,
          6567,
          6209,
          5630,
          5461,
          4889,
          4617,
          4513,
          3996,
          3754,
          3511,
          3377,
          3046,
          3027,
          2883,
          2448,
          2372,
          2047,
          1994,
          1887,
          1852,
          1815,
          1648,
          1589,
          1572,
          1545,
          1498,
          1409,
          1395,
          1375,
          1369,
          1318,
          1294,
          1288,
          1251,
          1199,
          1196,
          1141,
          1107,
          1069,
          1046,
          1037,
          1034,
          1003,
          996,
          982,
          885,
          858,
          825,
          793,
          785,
          750,
          710,
          706,
          695,
          653,
          627,
          537,
          526,
          500,
          493,
          469,
          452,
          433,
          407,
          395,
          347,
          345,
          322,
          321,
          303,
          288,
          274,
          269,
          262,
          261,
          254,
          251,
          244,
          242,
          209,
          204,
          200,
          197,
          195,
          189,
          189,
          186,
          177,
          172,
          151,
          135,
          134,
          128,
          127,
          126,
          117,
          116,
          99,
          93,
          93,
          91,
          87,
          86,
          73,
          73,
          72,
          71,
          65,
          57,
          56,
          54,
          52,
          52,
          52,
          49,
          46,
          42,
          42,
          41,
          37,
          37,
          37,
          35,
          34,
          34,
          33,
          33,
          31,
          27,
          27,
          26,
          25,
          24,
          22,
          21,
          21,
          21,
          19,
          18,
          18,
          18,
          18,
          17,
          17,
          17,
          16,
          15,
          14,
          13,
          13,
          12,
          10,
          10,
          9,
          9,
          8,
          7,
          7,
          6,
          6,
          5,
          4,
          4,
          3,
          3,
          3,
          3,
          1,
          1,
          1,
          1,
          1,
          1,
          1,
          1
         ],
         "yaxis": "y"
        }
       ],
       "layout": {
        "barmode": "relative",
        "font": {
         "color": "white"
        },
        "legend": {
         "tracegroupgap": 0
        },
        "paper_bgcolor": "black",
        "plot_bgcolor": "black",
        "template": {
         "data": {
          "bar": [
           {
            "error_x": {
             "color": "#f2f5fa"
            },
            "error_y": {
             "color": "#f2f5fa"
            },
            "marker": {
             "line": {
              "color": "rgb(17,17,17)",
              "width": 0.5
             },
             "pattern": {
              "fillmode": "overlay",
              "size": 10,
              "solidity": 0.2
             }
            },
            "type": "bar"
           }
          ],
          "barpolar": [
           {
            "marker": {
             "line": {
              "color": "rgb(17,17,17)",
              "width": 0.5
             },
             "pattern": {
              "fillmode": "overlay",
              "size": 10,
              "solidity": 0.2
             }
            },
            "type": "barpolar"
           }
          ],
          "carpet": [
           {
            "aaxis": {
             "endlinecolor": "#A2B1C6",
             "gridcolor": "#506784",
             "linecolor": "#506784",
             "minorgridcolor": "#506784",
             "startlinecolor": "#A2B1C6"
            },
            "baxis": {
             "endlinecolor": "#A2B1C6",
             "gridcolor": "#506784",
             "linecolor": "#506784",
             "minorgridcolor": "#506784",
             "startlinecolor": "#A2B1C6"
            },
            "type": "carpet"
           }
          ],
          "choropleth": [
           {
            "colorbar": {
             "outlinewidth": 0,
             "ticks": ""
            },
            "type": "choropleth"
           }
          ],
          "contour": [
           {
            "colorbar": {
             "outlinewidth": 0,
             "ticks": ""
            },
            "colorscale": [
             [
              0,
              "#0d0887"
             ],
             [
              0.1111111111111111,
              "#46039f"
             ],
             [
              0.2222222222222222,
              "#7201a8"
             ],
             [
              0.3333333333333333,
              "#9c179e"
             ],
             [
              0.4444444444444444,
              "#bd3786"
             ],
             [
              0.5555555555555556,
              "#d8576b"
             ],
             [
              0.6666666666666666,
              "#ed7953"
             ],
             [
              0.7777777777777778,
              "#fb9f3a"
             ],
             [
              0.8888888888888888,
              "#fdca26"
             ],
             [
              1,
              "#f0f921"
             ]
            ],
            "type": "contour"
           }
          ],
          "contourcarpet": [
           {
            "colorbar": {
             "outlinewidth": 0,
             "ticks": ""
            },
            "type": "contourcarpet"
           }
          ],
          "heatmap": [
           {
            "colorbar": {
             "outlinewidth": 0,
             "ticks": ""
            },
            "colorscale": [
             [
              0,
              "#0d0887"
             ],
             [
              0.1111111111111111,
              "#46039f"
             ],
             [
              0.2222222222222222,
              "#7201a8"
             ],
             [
              0.3333333333333333,
              "#9c179e"
             ],
             [
              0.4444444444444444,
              "#bd3786"
             ],
             [
              0.5555555555555556,
              "#d8576b"
             ],
             [
              0.6666666666666666,
              "#ed7953"
             ],
             [
              0.7777777777777778,
              "#fb9f3a"
             ],
             [
              0.8888888888888888,
              "#fdca26"
             ],
             [
              1,
              "#f0f921"
             ]
            ],
            "type": "heatmap"
           }
          ],
          "heatmapgl": [
           {
            "colorbar": {
             "outlinewidth": 0,
             "ticks": ""
            },
            "colorscale": [
             [
              0,
              "#0d0887"
             ],
             [
              0.1111111111111111,
              "#46039f"
             ],
             [
              0.2222222222222222,
              "#7201a8"
             ],
             [
              0.3333333333333333,
              "#9c179e"
             ],
             [
              0.4444444444444444,
              "#bd3786"
             ],
             [
              0.5555555555555556,
              "#d8576b"
             ],
             [
              0.6666666666666666,
              "#ed7953"
             ],
             [
              0.7777777777777778,
              "#fb9f3a"
             ],
             [
              0.8888888888888888,
              "#fdca26"
             ],
             [
              1,
              "#f0f921"
             ]
            ],
            "type": "heatmapgl"
           }
          ],
          "histogram": [
           {
            "marker": {
             "pattern": {
              "fillmode": "overlay",
              "size": 10,
              "solidity": 0.2
             }
            },
            "type": "histogram"
           }
          ],
          "histogram2d": [
           {
            "colorbar": {
             "outlinewidth": 0,
             "ticks": ""
            },
            "colorscale": [
             [
              0,
              "#0d0887"
             ],
             [
              0.1111111111111111,
              "#46039f"
             ],
             [
              0.2222222222222222,
              "#7201a8"
             ],
             [
              0.3333333333333333,
              "#9c179e"
             ],
             [
              0.4444444444444444,
              "#bd3786"
             ],
             [
              0.5555555555555556,
              "#d8576b"
             ],
             [
              0.6666666666666666,
              "#ed7953"
             ],
             [
              0.7777777777777778,
              "#fb9f3a"
             ],
             [
              0.8888888888888888,
              "#fdca26"
             ],
             [
              1,
              "#f0f921"
             ]
            ],
            "type": "histogram2d"
           }
          ],
          "histogram2dcontour": [
           {
            "colorbar": {
             "outlinewidth": 0,
             "ticks": ""
            },
            "colorscale": [
             [
              0,
              "#0d0887"
             ],
             [
              0.1111111111111111,
              "#46039f"
             ],
             [
              0.2222222222222222,
              "#7201a8"
             ],
             [
              0.3333333333333333,
              "#9c179e"
             ],
             [
              0.4444444444444444,
              "#bd3786"
             ],
             [
              0.5555555555555556,
              "#d8576b"
             ],
             [
              0.6666666666666666,
              "#ed7953"
             ],
             [
              0.7777777777777778,
              "#fb9f3a"
             ],
             [
              0.8888888888888888,
              "#fdca26"
             ],
             [
              1,
              "#f0f921"
             ]
            ],
            "type": "histogram2dcontour"
           }
          ],
          "mesh3d": [
           {
            "colorbar": {
             "outlinewidth": 0,
             "ticks": ""
            },
            "type": "mesh3d"
           }
          ],
          "parcoords": [
           {
            "line": {
             "colorbar": {
              "outlinewidth": 0,
              "ticks": ""
             }
            },
            "type": "parcoords"
           }
          ],
          "pie": [
           {
            "automargin": true,
            "type": "pie"
           }
          ],
          "scatter": [
           {
            "marker": {
             "line": {
              "color": "#283442"
             }
            },
            "type": "scatter"
           }
          ],
          "scatter3d": [
           {
            "line": {
             "colorbar": {
              "outlinewidth": 0,
              "ticks": ""
             }
            },
            "marker": {
             "colorbar": {
              "outlinewidth": 0,
              "ticks": ""
             }
            },
            "type": "scatter3d"
           }
          ],
          "scattercarpet": [
           {
            "marker": {
             "colorbar": {
              "outlinewidth": 0,
              "ticks": ""
             }
            },
            "type": "scattercarpet"
           }
          ],
          "scattergeo": [
           {
            "marker": {
             "colorbar": {
              "outlinewidth": 0,
              "ticks": ""
             }
            },
            "type": "scattergeo"
           }
          ],
          "scattergl": [
           {
            "marker": {
             "line": {
              "color": "#283442"
             }
            },
            "type": "scattergl"
           }
          ],
          "scattermapbox": [
           {
            "marker": {
             "colorbar": {
              "outlinewidth": 0,
              "ticks": ""
             }
            },
            "type": "scattermapbox"
           }
          ],
          "scatterpolar": [
           {
            "marker": {
             "colorbar": {
              "outlinewidth": 0,
              "ticks": ""
             }
            },
            "type": "scatterpolar"
           }
          ],
          "scatterpolargl": [
           {
            "marker": {
             "colorbar": {
              "outlinewidth": 0,
              "ticks": ""
             }
            },
            "type": "scatterpolargl"
           }
          ],
          "scatterternary": [
           {
            "marker": {
             "colorbar": {
              "outlinewidth": 0,
              "ticks": ""
             }
            },
            "type": "scatterternary"
           }
          ],
          "surface": [
           {
            "colorbar": {
             "outlinewidth": 0,
             "ticks": ""
            },
            "colorscale": [
             [
              0,
              "#0d0887"
             ],
             [
              0.1111111111111111,
              "#46039f"
             ],
             [
              0.2222222222222222,
              "#7201a8"
             ],
             [
              0.3333333333333333,
              "#9c179e"
             ],
             [
              0.4444444444444444,
              "#bd3786"
             ],
             [
              0.5555555555555556,
              "#d8576b"
             ],
             [
              0.6666666666666666,
              "#ed7953"
             ],
             [
              0.7777777777777778,
              "#fb9f3a"
             ],
             [
              0.8888888888888888,
              "#fdca26"
             ],
             [
              1,
              "#f0f921"
             ]
            ],
            "type": "surface"
           }
          ],
          "table": [
           {
            "cells": {
             "fill": {
              "color": "#506784"
             },
             "line": {
              "color": "rgb(17,17,17)"
             }
            },
            "header": {
             "fill": {
              "color": "#2a3f5f"
             },
             "line": {
              "color": "rgb(17,17,17)"
             }
            },
            "type": "table"
           }
          ]
         },
         "layout": {
          "annotationdefaults": {
           "arrowcolor": "#f2f5fa",
           "arrowhead": 0,
           "arrowwidth": 1
          },
          "autotypenumbers": "strict",
          "coloraxis": {
           "colorbar": {
            "outlinewidth": 0,
            "ticks": ""
           }
          },
          "colorscale": {
           "diverging": [
            [
             0,
             "#8e0152"
            ],
            [
             0.1,
             "#c51b7d"
            ],
            [
             0.2,
             "#de77ae"
            ],
            [
             0.3,
             "#f1b6da"
            ],
            [
             0.4,
             "#fde0ef"
            ],
            [
             0.5,
             "#f7f7f7"
            ],
            [
             0.6,
             "#e6f5d0"
            ],
            [
             0.7,
             "#b8e186"
            ],
            [
             0.8,
             "#7fbc41"
            ],
            [
             0.9,
             "#4d9221"
            ],
            [
             1,
             "#276419"
            ]
           ],
           "sequential": [
            [
             0,
             "#0d0887"
            ],
            [
             0.1111111111111111,
             "#46039f"
            ],
            [
             0.2222222222222222,
             "#7201a8"
            ],
            [
             0.3333333333333333,
             "#9c179e"
            ],
            [
             0.4444444444444444,
             "#bd3786"
            ],
            [
             0.5555555555555556,
             "#d8576b"
            ],
            [
             0.6666666666666666,
             "#ed7953"
            ],
            [
             0.7777777777777778,
             "#fb9f3a"
            ],
            [
             0.8888888888888888,
             "#fdca26"
            ],
            [
             1,
             "#f0f921"
            ]
           ],
           "sequentialminus": [
            [
             0,
             "#0d0887"
            ],
            [
             0.1111111111111111,
             "#46039f"
            ],
            [
             0.2222222222222222,
             "#7201a8"
            ],
            [
             0.3333333333333333,
             "#9c179e"
            ],
            [
             0.4444444444444444,
             "#bd3786"
            ],
            [
             0.5555555555555556,
             "#d8576b"
            ],
            [
             0.6666666666666666,
             "#ed7953"
            ],
            [
             0.7777777777777778,
             "#fb9f3a"
            ],
            [
             0.8888888888888888,
             "#fdca26"
            ],
            [
             1,
             "#f0f921"
            ]
           ]
          },
          "colorway": [
           "#636efa",
           "#EF553B",
           "#00cc96",
           "#ab63fa",
           "#FFA15A",
           "#19d3f3",
           "#FF6692",
           "#B6E880",
           "#FF97FF",
           "#FECB52"
          ],
          "font": {
           "color": "#f2f5fa"
          },
          "geo": {
           "bgcolor": "rgb(17,17,17)",
           "lakecolor": "rgb(17,17,17)",
           "landcolor": "rgb(17,17,17)",
           "showlakes": true,
           "showland": true,
           "subunitcolor": "#506784"
          },
          "hoverlabel": {
           "align": "left"
          },
          "hovermode": "closest",
          "mapbox": {
           "style": "dark"
          },
          "paper_bgcolor": "rgb(17,17,17)",
          "plot_bgcolor": "rgb(17,17,17)",
          "polar": {
           "angularaxis": {
            "gridcolor": "#506784",
            "linecolor": "#506784",
            "ticks": ""
           },
           "bgcolor": "rgb(17,17,17)",
           "radialaxis": {
            "gridcolor": "#506784",
            "linecolor": "#506784",
            "ticks": ""
           }
          },
          "scene": {
           "xaxis": {
            "backgroundcolor": "rgb(17,17,17)",
            "gridcolor": "#506784",
            "gridwidth": 2,
            "linecolor": "#506784",
            "showbackground": true,
            "ticks": "",
            "zerolinecolor": "#C8D4E3"
           },
           "yaxis": {
            "backgroundcolor": "rgb(17,17,17)",
            "gridcolor": "#506784",
            "gridwidth": 2,
            "linecolor": "#506784",
            "showbackground": true,
            "ticks": "",
            "zerolinecolor": "#C8D4E3"
           },
           "zaxis": {
            "backgroundcolor": "rgb(17,17,17)",
            "gridcolor": "#506784",
            "gridwidth": 2,
            "linecolor": "#506784",
            "showbackground": true,
            "ticks": "",
            "zerolinecolor": "#C8D4E3"
           }
          },
          "shapedefaults": {
           "line": {
            "color": "#f2f5fa"
           }
          },
          "sliderdefaults": {
           "bgcolor": "#C8D4E3",
           "bordercolor": "rgb(17,17,17)",
           "borderwidth": 1,
           "tickwidth": 0
          },
          "ternary": {
           "aaxis": {
            "gridcolor": "#506784",
            "linecolor": "#506784",
            "ticks": ""
           },
           "baxis": {
            "gridcolor": "#506784",
            "linecolor": "#506784",
            "ticks": ""
           },
           "bgcolor": "rgb(17,17,17)",
           "caxis": {
            "gridcolor": "#506784",
            "linecolor": "#506784",
            "ticks": ""
           }
          },
          "title": {
           "x": 0.05
          },
          "updatemenudefaults": {
           "bgcolor": "#506784",
           "borderwidth": 0
          },
          "xaxis": {
           "automargin": true,
           "gridcolor": "#283442",
           "linecolor": "#506784",
           "ticks": "",
           "title": {
            "standoff": 15
           },
           "zerolinecolor": "#283442",
           "zerolinewidth": 2
          },
          "yaxis": {
           "automargin": true,
           "gridcolor": "#283442",
           "linecolor": "#506784",
           "ticks": "",
           "title": {
            "standoff": 15
           },
           "zerolinecolor": "#283442",
           "zerolinewidth": 2
          }
         }
        },
        "title": {
         "font": {
          "color": "white",
          "size": 24
         },
         "text": "Cities by Count of Vacant Land Instances",
         "x": 0.5,
         "xanchor": "center"
        },
        "xaxis": {
         "anchor": "y",
         "domain": [
          0,
          1
         ],
         "tickfont": {
          "size": 14
         },
         "title": {
          "standoff": 15,
          "text": "CITY_NAME"
         }
        },
        "yaxis": {
         "anchor": "x",
         "domain": [
          0,
          1
         ],
         "tickfont": {
          "size": 14
         },
         "title": {
          "standoff": 15,
          "text": "Count_Vacant_Instances"
         }
        }
       }
      }
     },
     "metadata": {},
     "output_type": "display_data"
    }
   ],
   "source": [
    "# Filter the dataframe for rows where LAND_USE_CLASS_NAME is 'Vacant'\n",
    "df_vacant = df[df['LAND_USE_CLASS_NAME'] == 'Vacant']\n",
    "\n",
    "# Further filter out 'unincorporated' areas if that's a city name or another field\n",
    "df_vacant = df_vacant[df_vacant['CITY_NAME'] != 'Unincorporated']\n",
    "\n",
    "# Calculate the count of vacant land instances for each city\n",
    "df_count_vacant_instances = (\n",
    "    df_vacant.groupby('CITY_NAME')\n",
    "    .size()\n",
    "    .reset_index(name='Count_Vacant_Instances')\n",
    ")\n",
    "\n",
    "# Sort the cities by count of vacant land instances in descending order\n",
    "df_sorted_cities_vacant_count = (\n",
    "    df_count_vacant_instances.sort_values('Count_Vacant_Instances', ascending=False)\n",
    ")\n",
    "\n",
    "# Visualization for Count of Vacant Land Instances per City\n",
    "fig_count_vacant_instances = px.bar(\n",
    "    df_sorted_cities_vacant_count, \n",
    "    x='CITY_NAME', \n",
    "    y='Count_Vacant_Instances',\n",
    "    title=\"Cities by Count of Vacant Land Instances\",\n",
    "    template='plotly_dark'\n",
    ")\n",
    "\n",
    "# Customize the chart for high contrast and legibility\n",
    "fig_count_vacant_instances.update_layout({\n",
    "    'plot_bgcolor': 'black',\n",
    "    'paper_bgcolor': 'black',\n",
    "    'title': {'text': \"Cities by Count of Vacant Land Instances\", 'x':0.5, 'xanchor': 'center'},\n",
    "    'title_font': {'size': 24, 'color': 'white'},\n",
    "    'font': {'color': 'white'},\n",
    "    'xaxis': {'title': {'standoff': 15}, 'tickfont': {'size': 14}},\n",
    "    'yaxis': {'title': {'standoff': 15}, 'tickfont': {'size': 14}},\n",
    "})\n",
    "\n",
    "fig_count_vacant_instances.update_traces(textfont_size=16)\n",
    "\n",
    "fig_count_vacant_instances.show()"
   ]
  },
  {
   "cell_type": "markdown",
   "metadata": {},
   "source": [
    "## Using Polars and Pyspark to compare the data\n",
    "### Pandas is a bit slow with the 3gb file"
   ]
  },
  {
   "cell_type": "code",
   "execution_count": 16,
   "metadata": {},
   "outputs": [],
   "source": [
    "import polars as pl\n",
    "\n",
    "file_path = DATA_DIR / '2019_RI_LAND_USE.csv'\n",
    "\n",
    "df = pl.scan_csv(file_path).group_by(['CITY_NAME', 'LAND_USE_CLASS_NAME']) \\\n",
    "    .agg([\n",
    "        pl.col('ACREAGE').sum().alias('Total_Acreage'),\n",
    "        pl.col('ACREAGE').mean().alias('Average_Acreage'),\n",
    "        pl.col('ACREAGE').median().alias('Median_Acreage'),\n",
    "    ]).collect() "
   ]
  },
  {
   "cell_type": "code",
   "execution_count": 33,
   "metadata": {},
   "outputs": [
    {
     "data": {
      "text/html": [
       "<div><style>\n",
       ".dataframe > thead > tr > th,\n",
       ".dataframe > tbody > tr > td {\n",
       "  text-align: right;\n",
       "  white-space: pre-wrap;\n",
       "}\n",
       "</style>\n",
       "<small>shape: (3_068, 5)</small><table border=\"1\" class=\"dataframe\"><thead><tr><th>CITY_NAME</th><th>LAND_USE_CLASS_NAME</th><th>Total_Acreage</th><th>Average_Acreage</th><th>Median_Acreage</th></tr><tr><td>str</td><td>str</td><td>f64</td><td>f64</td><td>f64</td></tr></thead><tbody><tr><td>&quot;Unincorporated…</td><td>&quot;Vacant&quot;</td><td>2.7991e6</td><td>10.796083</td><td>2.475218</td></tr><tr><td>&quot;Unincorporated…</td><td>&quot;Commercial and…</td><td>21668.82415</td><td>2.782692</td><td>0.344191</td></tr><tr><td>&quot;Unincorporated…</td><td>&quot;Single Family …</td><td>359504.197869</td><td>0.80412</td><td>0.187307</td></tr><tr><td>&quot;El Centro&quot;</td><td>&quot;Education&quot;</td><td>227.069224</td><td>5.538274</td><td>1.758965</td></tr><tr><td>&quot;El Centro&quot;</td><td>&quot;Agriculture&quot;</td><td>975.59837</td><td>44.34538</td><td>23.602504</td></tr><tr><td>&quot;Imperial&quot;</td><td>&quot;Open Space and…</td><td>122.16248</td><td>6.786804</td><td>2.063615</td></tr><tr><td>&quot;Imperial&quot;</td><td>&quot;Mixed Resident…</td><td>12.204874</td><td>0.762805</td><td>0.391869</td></tr><tr><td>&quot;Imperial&quot;</td><td>&quot;Mobile Homes a…</td><td>24.059245</td><td>1.145678</td><td>0.606234</td></tr><tr><td>&quot;Los Angeles&quot;</td><td>&quot;Multi-Family R…</td><td>221913.749549</td><td>1.099824</td><td>0.215001</td></tr><tr><td>&quot;Agoura Hills&quot;</td><td>&quot;Transportation…</td><td>14.565858</td><td>1.820732</td><td>2.000472</td></tr><tr><td>&quot;Agoura Hills&quot;</td><td>&quot;Mobile Homes a…</td><td>0.491279</td><td>0.491279</td><td>0.491279</td></tr><tr><td>&quot;Santa Clarita&quot;</td><td>&quot;Agriculture&quot;</td><td>3280.373685</td><td>5.816265</td><td>0.549745</td></tr><tr><td>&hellip;</td><td>&hellip;</td><td>&hellip;</td><td>&hellip;</td><td>&hellip;</td></tr><tr><td>&quot;Victorville&quot;</td><td>&quot;Rural Resident…</td><td>4.690832</td><td>2.345416</td><td>2.345416</td></tr><tr><td>&quot;Ojai&quot;</td><td>&quot;Facilities&quot;</td><td>447.175725</td><td>5.520688</td><td>0.530025</td></tr><tr><td>&quot;Santa Paula&quot;</td><td>&quot;Single Family …</td><td>983.781911</td><td>0.211475</td><td>0.155018</td></tr><tr><td>&quot;Santa Paula&quot;</td><td>&quot;Mobile Homes a…</td><td>99.714277</td><td>0.283279</td><td>0.092139</td></tr><tr><td>&quot;Fillmore&quot;</td><td>&quot;Agriculture&quot;</td><td>103.234745</td><td>7.37391</td><td>5.806906</td></tr><tr><td>&quot;San Buenaventu…</td><td>&quot;Open Space and…</td><td>1212.757193</td><td>4.181921</td><td>0.608238</td></tr><tr><td>&quot;Oxnard&quot;</td><td>&quot;Education&quot;</td><td>676.834885</td><td>9.146417</td><td>5.932896</td></tr><tr><td>&quot;Simi Valley&quot;</td><td>&quot;Vacant&quot;</td><td>2461.489105</td><td>4.583779</td><td>0.397059</td></tr><tr><td>&quot;Simi Valley&quot;</td><td>&quot;Industrial&quot;</td><td>526.683785</td><td>2.065427</td><td>1.208484</td></tr><tr><td>&quot;Moorpark&quot;</td><td>&quot;Mixed Resident…</td><td>2.386953</td><td>0.477391</td><td>0.195089</td></tr><tr><td>&quot;Simi Valley&quot;</td><td>&quot;General Office…</td><td>209.563984</td><td>1.293605</td><td>0.428526</td></tr><tr><td>&quot;Simi Valley&quot;</td><td>&quot;Water&quot;</td><td>119.246983</td><td>1.806772</td><td>0.892556</td></tr></tbody></table></div>"
      ],
      "text/plain": [
       "shape: (3_068, 5)\n",
       "┌────────────────┬───────────────────────────┬───────────────┬─────────────────┬────────────────┐\n",
       "│ CITY_NAME      ┆ LAND_USE_CLASS_NAME       ┆ Total_Acreage ┆ Average_Acreage ┆ Median_Acreage │\n",
       "│ ---            ┆ ---                       ┆ ---           ┆ ---             ┆ ---            │\n",
       "│ str            ┆ str                       ┆ f64           ┆ f64             ┆ f64            │\n",
       "╞════════════════╪═══════════════════════════╪═══════════════╪═════════════════╪════════════════╡\n",
       "│ Unincorporated ┆ Vacant                    ┆ 2.7991e6      ┆ 10.796083       ┆ 2.475218       │\n",
       "│ Unincorporated ┆ Commercial and Services   ┆ 21668.82415   ┆ 2.782692        ┆ 0.344191       │\n",
       "│ Unincorporated ┆ Single Family Residential ┆ 359504.197869 ┆ 0.80412         ┆ 0.187307       │\n",
       "│ El Centro      ┆ Education                 ┆ 227.069224    ┆ 5.538274        ┆ 1.758965       │\n",
       "│ …              ┆ …                         ┆ …             ┆ …               ┆ …              │\n",
       "│ Simi Valley    ┆ Industrial                ┆ 526.683785    ┆ 2.065427        ┆ 1.208484       │\n",
       "│ Moorpark       ┆ Mixed Residential and     ┆ 2.386953      ┆ 0.477391        ┆ 0.195089       │\n",
       "│                ┆ Commercial                ┆               ┆                 ┆                │\n",
       "│ Simi Valley    ┆ General Office            ┆ 209.563984    ┆ 1.293605        ┆ 0.428526       │\n",
       "│ Simi Valley    ┆ Water                     ┆ 119.246983    ┆ 1.806772        ┆ 0.892556       │\n",
       "└────────────────┴───────────────────────────┴───────────────┴─────────────────┴────────────────┘"
      ]
     },
     "execution_count": 33,
     "metadata": {},
     "output_type": "execute_result"
    }
   ],
   "source": [
    "df"
   ]
  },
  {
   "cell_type": "code",
   "execution_count": 34,
   "metadata": {},
   "outputs": [
    {
     "data": {
      "text/html": [
       "\n",
       "        <iframe\n",
       "            width=\"100%\"\n",
       "            height=\"650\"\n",
       "            src=\"http://127.0.0.1:8050/\"\n",
       "            frameborder=\"0\"\n",
       "            allowfullscreen\n",
       "            \n",
       "        ></iframe>\n",
       "        "
      ],
      "text/plain": [
       "<IPython.lib.display.IFrame at 0x26f7f917f10>"
      ]
     },
     "metadata": {},
     "output_type": "display_data"
    }
   ],
   "source": [
    "import dash\n",
    "from dash import html, dcc, Input, Output\n",
    "import plotly.express as px\n",
    "import pandas as pd\n",
    "\n",
    "df = pl.scan_csv(file_path).group_by(['CITY_NAME', 'LAND_USE_CLASS_NAME']) \\\n",
    "    .agg([\n",
    "        pl.col('ACREAGE').sum().alias('Total_Acreage'),\n",
    "        pl.col('ACREAGE').mean().alias('Average_Acreage'),\n",
    "        pl.col('ACREAGE').median().alias('Median_Acreage'),\n",
    "    ]).collect() \n",
    "# Assume 'df' is your DataFrame with the necessary columns\n",
    "\n",
    "app = dash.Dash(__name__)\n",
    "\n",
    "# APP LAYOUT \n",
    "app.layout = html.Div([\n",
    "    html.H1(\"Land Use Size Metrics by City\", style={'text-align': 'center', 'color': 'white'}),\n",
    "\n",
    "    # Wrap the dropdowns in a div with flexbox\n",
    "    html.Div([\n",
    "        dcc.Dropdown(id='city_dropdown', options=[{'label': i, 'value': i} for i in df['CITY_NAME'].unique()], \n",
    "                     multi=False, style={'width': \"100%\", 'color': 'black', 'background-color': 'white'}, \n",
    "                     placeholder='Filter by City...'),\n",
    "\n",
    "        dcc.Dropdown(id='metric_dropdown', options=[\n",
    "            {'label': 'Total Acreage', 'value': 'Total_Acreage'},\n",
    "            {'label': 'Average Acreage', 'value': 'Average_Acreage'},\n",
    "            {'label': 'Median Acreage', 'value': 'Median_Acreage'}\n",
    "        ], multi=False, style={'width': \"100%\", 'color': 'black', 'background-color': 'white'}, \n",
    "        placeholder='Select Acreage Metric...')\n",
    "    ], style={'display': 'flex', 'flex-direction': 'column', 'align-items': 'center', 'width': '60%', 'margin': '0 auto'}),\n",
    "\n",
    "    html.Div(id='output_container', style={'color': 'white'}),\n",
    "    html.Br(),\n",
    "\n",
    "    dcc.Graph(id='land_use_size_chart', style={'color': 'white'})\n",
    "], style={'backgroundColor': 'black', 'color': 'white', 'fontFamily': 'Arial', 'padding': '10px', 'height': '100vh'})\n",
    "\n",
    "@app.callback(\n",
    "    [Output(component_id='output_container', component_property='children'),\n",
    "     Output(component_id='land_use_size_chart', component_property='figure')],\n",
    "    [Input(component_id='city_dropdown', component_property='value'),\n",
    "     Input(component_id='metric_dropdown', component_property='value')]\n",
    ")\n",
    "\n",
    "def update_graph(selected_city, selected_metric):\n",
    "    if not selected_city or not selected_metric:\n",
    "        return \"Please select a city and metric to view the chart\", dash.no_update\n",
    "    \n",
    "    # Corrected filtering using Polars\n",
    "    filtered_df = df.filter(pl.col('CITY_NAME') == selected_city)\n",
    "\n",
    "    # Convert to Pandas DataFrame for Plotly\n",
    "    filtered_df = filtered_df.to_pandas()\n",
    "\n",
    "    # Sort the DataFrame from highest to smallest based on the selected metric\n",
    "    filtered_df = filtered_df.sort_values(by=selected_metric, ascending=False)\n",
    "\n",
    "    # Creating the bar chart\n",
    "    fig = px.bar(filtered_df, x=\"LAND_USE_CLASS_NAME\", y=selected_metric, title=f'{selected_city}',\n",
    "                 labels={'LAND_USE_CLASS_NAME': 'Land Use Class', selected_metric: 'Acreage'})\n",
    "\n",
    "    # Update the layout of the figure to adjust text styles\n",
    "    fig.update_layout(\n",
    "        title=dict(x=0.5, xanchor='center', font=dict(size=24, color='blue', family='Arial')),\n",
    "        xaxis=dict(title_font=dict(size=18, family='Arial'), tickfont=dict(size=14, family='Arial')),\n",
    "        yaxis=dict(title_font=dict(size=18, family='Arial'), tickfont=dict(size=14, family='Arial')),\n",
    "        plot_bgcolor='white',  # Adjust plot background color\n",
    "        paper_bgcolor='white', # Adjust paper background color\n",
    "    )\n",
    "\n",
    "    # Update the layout to adjust the theme\n",
    "    fig.update_layout(\n",
    "        template='plotly_white',  # Use the 'plotly_white' theme as base\n",
    "    )\n",
    "\n",
    "    return f\"Land Use Size Metrics for {selected_city}, Metric: {selected_metric}\", fig\n",
    "\n",
    "\n",
    "\n",
    "if __name__ == '__main__':\n",
    "    app.run_server(debug=True)"
   ]
  },
  {
   "cell_type": "code",
   "execution_count": 18,
   "metadata": {},
   "outputs": [],
   "source": [
    "from pyspark.sql import SparkSession\n",
    "from pyspark.sql.functions import col, avg, sum, count, mean\n",
    " \n"
   ]
  },
  {
   "cell_type": "code",
   "execution_count": null,
   "metadata": {},
   "outputs": [],
   "source": []
  },
  {
   "cell_type": "code",
   "execution_count": null,
   "metadata": {},
   "outputs": [],
   "source": []
  },
  {
   "cell_type": "code",
   "execution_count": null,
   "metadata": {},
   "outputs": [],
   "source": []
  },
  {
   "cell_type": "code",
   "execution_count": null,
   "metadata": {},
   "outputs": [],
   "source": []
  },
  {
   "cell_type": "markdown",
   "metadata": {},
   "source": [
    "## Dash App for APN Insights\n",
    "\n",
    "### This is first built in Python and then converted to a Dash App. Pandas is pretty slow, so we will need to use polars to speed up the process.\n",
    "\n",
    "**Dash Components:**\n",
    "- Dropdown for City\n",
    "- Dropdown for Land Use Class\n",
    "- Dropdown for Top 10 or Bottom 10\n",
    "\n",
    "**Dash Graphs:**\n",
    "- \n",
    "\n",
    "**Dash Callbacks:**\n",
    "- "
   ]
  },
  {
   "cell_type": "code",
   "execution_count": null,
   "metadata": {},
   "outputs": [],
   "source": []
  }
 ],
 "metadata": {
  "kernelspec": {
   "display_name": ".venv",
   "language": "python",
   "name": "python3"
  },
  "language_info": {
   "codemirror_mode": {
    "name": "ipython",
    "version": 3
   },
   "file_extension": ".py",
   "mimetype": "text/x-python",
   "name": "python",
   "nbconvert_exporter": "python",
   "pygments_lexer": "ipython3",
   "version": "3.11.4"
  }
 },
 "nbformat": 4,
 "nbformat_minor": 2
}
