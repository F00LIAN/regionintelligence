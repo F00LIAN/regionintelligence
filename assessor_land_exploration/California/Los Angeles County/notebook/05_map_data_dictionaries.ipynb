{
 "cells": [
  {
   "cell_type": "markdown",
   "metadata": {},
   "source": [
    "# Notebook 5: This notebook identifies the land use of a given location. \n",
    "### Load in the data that contains the columns \"land_use\". \n",
    "### Map the codes according to the use_code_2023.py file containing the dictionary of unique land codes"
   ]
  },
  {
   "cell_type": "code",
   "execution_count": 1,
   "metadata": {},
   "outputs": [],
   "source": [
    "# Grab the data from the FINAL DATA DIR\n",
    "import os\n",
    "import sys\n",
    "# Get the current working directory\n",
    "current_directory = os.getcwd()\n",
    "parent_directory = os.path.abspath(os.path.join(current_directory, os.pardir))\n",
    "os.chdir(parent_directory)\n",
    "\n",
    "from src.paths import *\n",
    "import pandas as pd\n",
    "import numpy as np\n",
    "\n",
    "# Set PD display options to show all columns and column width\n",
    "pd.set_option('display.max_columns', None)\n",
    "pd.set_option('display.max_colwidth', 1000)\n",
    "pd.set_option('display.max_rows', 500)\n",
    "pd.set_option('display.width', 1000)\n",
    "\n",
    "#heavy_manufacturing = pd.read_csv(LAND_USE_DIR / 'Complete_Heavy_Manufacturing_Codes.csv', index_col = [0])\n",
    "\n",
    "SL = pd.read_csv(NORMALIZED_DATA_DIR / 'sales_list_normalized.csv', index_col = [0])\n",
    "LR = pd.read_csv(NORMALIZED_DATA_DIR / 'local_roll_normalized.csv', index_col = [0])\n",
    "DS = pd.read_csv(NORMALIZED_DATA_DIR / 'secured_basic_normalized.csv', index_col = [0])\n",
    "HZ = pd.read_csv(NORMALIZED_DATA_DIR / 'hazards_normalized.csv', index_col = [0])\n",
    "LU = pd.read_csv(NORMALIZED_DATA_DIR / 'land_use_normalized.csv', index_col = [0])"
   ]
  },
  {
   "cell_type": "code",
   "execution_count": 70,
   "metadata": {},
   "outputs": [],
   "source": [
    "# Save the data to the NORMALIZED_DATA_DIR\n",
    "from src.paths import FRONTEND_DIR\n",
    "\n",
    "SL.to_csv(FRONTEND_DIR / 'sales_list_frontend.csv')\n",
    "LR.to_csv(FRONTEND_DIR / 'local_roll_frontend.csv')\n",
    "DS.to_csv(FRONTEND_DIR / 'secured_basic_frontend.csv')\n",
    "HZ.to_csv(FRONTEND_DIR / 'hazards_frontend.csv')\n",
    "LU.to_csv(FRONTEND_DIR / 'land_use_frontend.csv')"
   ]
  }
 ],
 "metadata": {
  "kernelspec": {
   "display_name": ".venv",
   "language": "python",
   "name": "python3"
  },
  "language_info": {
   "codemirror_mode": {
    "name": "ipython",
    "version": 3
   },
   "file_extension": ".py",
   "mimetype": "text/x-python",
   "name": "python",
   "nbconvert_exporter": "python",
   "pygments_lexer": "ipython3",
   "version": "3.11.4"
  }
 },
 "nbformat": 4,
 "nbformat_minor": 2
}
