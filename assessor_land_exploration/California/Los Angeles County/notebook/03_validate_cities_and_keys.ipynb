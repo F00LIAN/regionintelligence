{
 "cells": [
  {
   "cell_type": "code",
   "execution_count": 1,
   "metadata": {},
   "outputs": [],
   "source": [
    "# Grab the data from the FINAL DATA DIR\n",
    "import os\n",
    "import sys\n",
    "# Get the current working directory\n",
    "current_directory = os.getcwd()\n",
    "parent_directory = os.path.abspath(os.path.join(current_directory, os.pardir))\n",
    "os.chdir(parent_directory)\n",
    "\n",
    "from src.paths import CLEANED_DATA_DIR\n",
    "import pandas as pd\n",
    "import numpy as np\n",
    "\n",
    "# Set PD display options to show all columns and column width\n",
    "pd.set_option('display.max_columns', None)\n",
    "pd.set_option('display.max_colwidth', 1000)\n",
    "pd.set_option('display.max_rows', 500)\n",
    "pd.set_option('display.width', 1000)\n",
    "\n",
    "SL = pd.read_csv(CLEANED_DATA_DIR / 'sales_list_cleaned.csv', index_col = [0])\n",
    "LR = pd.read_csv(CLEANED_DATA_DIR / 'local_roll_cleaned.csv', index_col = [0])\n",
    "DS = pd.read_csv(CLEANED_DATA_DIR / 'secured_basic_cleaned.csv', index_col = [0])\n",
    "HZ = pd.read_csv(CLEANED_DATA_DIR / 'hazards_cleaned.csv', index_col = [0])\n",
    "LU = pd.read_csv(CLEANED_DATA_DIR / 'land_use_cleaned.csv', index_col = [0])"
   ]
  },
  {
   "cell_type": "code",
   "execution_count": null,
   "metadata": {},
   "outputs": [],
   "source": []
  },
  {
   "cell_type": "markdown",
   "metadata": {},
   "source": [
    "### 1. Adjust the city names in the data to handle scenarios where the city names are not consistent. For example \"New York Cty\" and \"New York City\" should be considered the same city."
   ]
  },
  {
   "cell_type": "code",
   "execution_count": 2,
   "metadata": {},
   "outputs": [],
   "source": [
    "from src.city_const import city_names\n",
    "# sort the keys in alphabetical order\n",
    "standardized_city_names = dict(sorted(city_names.items(), key=lambda x: x[0]))\n",
    "\n",
    "reverse_lookup = {}\n",
    "for city, variants in city_names.items():\n",
    "    for variant in variants:\n",
    "        reverse_lookup[variant] = city\n",
    "# Function to correct city names\n",
    "def correct_city_name_DS(city_name):\n",
    "    return reverse_lookup.get(city_name, city_name)\n",
    "\n",
    "# Assuming DS is your DataFrame\n",
    "def preprocess_city_names_DS(df):\n",
    "    # Drop rows where 'city_state' is completely a string of numbers\n",
    "    df = df[~df['city'].str.isnumeric()].copy()\n",
    "    \n",
    "    # Apply the correct_city_name function using .loc\n",
    "    df.loc[:, 'city'] = df['city'].apply(correct_city_name_DS)\n",
    "    \n",
    "    return df\n",
    "\n",
    "DS = preprocess_city_names_DS(DS)"
   ]
  },
  {
   "cell_type": "code",
   "execution_count": null,
   "metadata": {},
   "outputs": [],
   "source": [
    "from src.city_const import city_names\n",
    "# sort the keys in alphabetical order\n",
    "standardized_city_names = dict(sorted(city_names.items(), key=lambda x: x[0]))\n",
    "\n",
    "reverse_lookup = {}\n",
    "for city, variants in city_names.items():\n",
    "    for variant in variants:\n",
    "        reverse_lookup[variant] = city\n",
    "# Function to correct city names\n",
    "def correct_city_name_LR(city_name):\n",
    "    return reverse_lookup.get(city_name, city_name)\n",
    "\n",
    "# Assuming DS is your DataFrame\n",
    "def preprocess_city_names_LR(df):\n",
    "    # Drop rows where 'city_state' is completely a string of numbers\n",
    "    df = df[~df['mail_city'].str.isnumeric()].copy()\n",
    "    \n",
    "    # Apply the correct_city_name function using .loc\n",
    "    df.loc[:, 'mail_city'] = df['mail_city'].apply(correct_city_name_LR)\n",
    "    \n",
    "    return df\n",
    "\n",
    "LR = preprocess_city_names_LR(LR)"
   ]
  },
  {
   "cell_type": "markdown",
   "metadata": {},
   "source": [
    "### 2. Create a composite key for the assessor_identification_number\n",
    "##### The first four digits are the mapbook number, the next three digits are the page number, and the last three digits are the parcel number."
   ]
  },
  {
   "cell_type": "code",
   "execution_count": 3,
   "metadata": {},
   "outputs": [],
   "source": [
    "temp = DS"
   ]
  },
  {
   "cell_type": "code",
   "execution_count": 4,
   "metadata": {},
   "outputs": [],
   "source": [
    "def split_ain(df, ain_column):\n",
    "    \"\"\"\n",
    "    Splits the assessor identification number into mapbook number, page number, and parcel number\n",
    "    and adds these as new columns in the DataFrame.\n",
    "\n",
    "    Args:\n",
    "        df (pd.DataFrame): The DataFrame to process.\n",
    "        ain_column (str): The column name in the DataFrame containing the AIN.\n",
    "\n",
    "    Returns:\n",
    "        pd.DataFrame: The DataFrame with the new columns added.\n",
    "    \"\"\"\n",
    "    # Ensure the AIN is treated as a string and exactly 10 digits\n",
    "    df[ain_column] = df[ain_column].astype(str).str.zfill(10)\n",
    "    \n",
    "    df['mapbook_number'] = df[ain_column].str[:4]\n",
    "    df['page_number'] = df[ain_column].str[4:7]\n",
    "    df['parcel_number'] = df[ain_column].str[7:10]\n",
    "\n",
    "    # Insert the new columns at the beginning of the DataFrame\n",
    "    df.insert(0, 'mapbook_number', df.pop('mapbook_number'))\n",
    "    df.insert(1, 'page_number', df.pop('page_number'))\n",
    "    df.insert(2, 'parcel_number', df.pop('parcel_number'))\n",
    "    \n",
    "    return df"
   ]
  },
  {
   "cell_type": "code",
   "execution_count": 7,
   "metadata": {},
   "outputs": [],
   "source": [
    "DS = split_ain(DS, 'assessor_identification_number')\n",
    "LR = split_ain(LR, 'assessor_identification_number')\n",
    "HZ = split_ain(HZ, 'assessor_identification_number')\n",
    "LU = split_ain(LU, 'assessor_identification_number')\n",
    "SL = split_ain(SL, 'assessor_identification_number')"
   ]
  },
  {
   "cell_type": "code",
   "execution_count": 8,
   "metadata": {},
   "outputs": [],
   "source": [
    "def validate_ain(df, column_name='assessor_identification_number'):\n",
    "    # Convert the column to string for length checking\n",
    "    df['temp_str_ain'] = df[column_name].astype(str)\n",
    "    \n",
    "    # Filter to only include rows where the length of the assessor_identification_number is 10\n",
    "    df = df[df['temp_str_ain'].str.len() == 10].copy()\n",
    "    \n",
    "    # Drop the temporary string column\n",
    "    df.drop(columns=['temp_str_ain'], inplace=True)\n",
    "    \n",
    "    return df\n",
    "\n",
    "DS = validate_ain(DS)\n",
    "LR = validate_ain(LR)\n",
    "SL = validate_ain(SL)\n",
    "HZ = validate_ain(HZ)\n",
    "LU = validate_ain(LU)"
   ]
  },
  {
   "cell_type": "code",
   "execution_count": null,
   "metadata": {},
   "outputs": [],
   "source": []
  },
  {
   "cell_type": "code",
   "execution_count": null,
   "metadata": {},
   "outputs": [],
   "source": []
  },
  {
   "cell_type": "code",
   "execution_count": 9,
   "metadata": {},
   "outputs": [],
   "source": [
    "from src.paths import VALIDATION_DIR\n",
    "\n",
    "# Save the data to the frontend directory\n",
    "DS.to_csv(VALIDATION_DIR / 'secured_basic_validated.csv')\n",
    "LR.to_csv(VALIDATION_DIR / 'local_roll_validated.csv')\n",
    "HZ.to_csv(VALIDATION_DIR / 'hazards_validated.csv')\n",
    "LU.to_csv(VALIDATION_DIR / 'land_use_validated.csv')\n",
    "SL.to_csv(VALIDATION_DIR / 'sales_list_validated.csv')"
   ]
  },
  {
   "cell_type": "markdown",
   "metadata": {},
   "source": [
    "### 4.. Optional - Alter the hazards columns to be a binary column where 1 indicates that the property is in a hazard zone and 0 indicates that the property is not in a hazard zone. If it is near a hazard zone, it should be considered near in a hazard zone."
   ]
  }
 ],
 "metadata": {
  "kernelspec": {
   "display_name": ".venv",
   "language": "python",
   "name": "python3"
  },
  "language_info": {
   "codemirror_mode": {
    "name": "ipython",
    "version": 3
   },
   "file_extension": ".py",
   "mimetype": "text/x-python",
   "name": "python",
   "nbconvert_exporter": "python",
   "pygments_lexer": "ipython3",
   "version": "3.11.4"
  }
 },
 "nbformat": 4,
 "nbformat_minor": 2
}
